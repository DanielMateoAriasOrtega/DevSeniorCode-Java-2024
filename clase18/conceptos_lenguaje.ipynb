{
 "cells": [
  {
   "cell_type": "markdown",
   "metadata": {},
   "source": [
    "# Conceptos del lenguaje"
   ]
  },
  {
   "cell_type": "markdown",
   "metadata": {},
   "source": [
    "## Introducción a los Logs y la Depuración"
   ]
  },
  {
   "cell_type": "markdown",
   "metadata": {},
   "source": [
    "### ¿Qué son los logs?"
   ]
  },
  {
   "cell_type": "markdown",
   "metadata": {},
   "source": [
    "Los logs son registros de eventos que ocurren dentro de una aplicación. Cada evento registrado se denomina \"**entrada de log**\" y generalmente incluye información como la fecha y hora en que ocurrió el evento, la severidad del evento (por ejemplo, información, advertencia, error), y un mensaje descriptivo que detalla el evento."
   ]
  },
  {
   "cell_type": "markdown",
   "metadata": {},
   "source": [
    "### Importancia del logging en el desarrollo y mantenimiento de aplicaciones"
   ]
  },
  {
   "cell_type": "markdown",
   "metadata": {},
   "source": [
    "El logging es esencial por varias razones:\n",
    "1. **Monitoreo de aplicaciones**: Los logs permiten a los desarrolladores y administradores de sistemas monitorear la salud y el rendimiento de una aplicación. A través de los logs, se pueden identificar cuellos de botella, errores frecuentes y comportamientos inusuales que pueden necesitar atención.\n",
    "1. **Identificación y resolución de errores**: Cuando ocurre un error en una aplicación, los logs proporcionan un rastro de lo que ha sucedido antes y después del error. Esto facilita la identificación de la causa raíz del problema y permite a los desarrolladores corregirlo más rápidamente.\n",
    "1. **Auditoría y análisis de seguridad**: Los logs pueden ser utilizados para auditorías de seguridad, rastreando quién hizo qué y cuándo. Esto es crucial para detectar y responder a posibles intentos de intrusión o actividades maliciosas.\n",
    "1. **Mejora del rendimiento**: A través del análisis de logs, los desarrolladores pueden identificar áreas de la aplicación que podrían beneficiarse de optimizaciones. Por ejemplo, si ciertos procesos están tomando demasiado tiempo o recursos, esto se puede detectar y mejorar.\n",
    "1. **Documentación y seguimiento**: Los logs actúan como una documentación viva del comportamiento de una aplicación a lo largo del tiempo. Esto puede ser útil no solo para los desarrolladores actuales, sino también para los futuros miembros del equipo que necesitan entender cómo ha evolucionado la aplicación."
   ]
  },
  {
   "cell_type": "markdown",
   "metadata": {},
   "source": [
    "\n",
    "### Beneficios de usar logs"
   ]
  },
  {
   "cell_type": "markdown",
   "metadata": {},
   "source": [
    "- **Monitoreo continuo**: Los logs permiten el monitoreo en tiempo real de una aplicación, lo que es invaluable para garantizar que todo funcione como se espera.\n",
    "- **Resolución rápida de problemas**: Los desarrolladores pueden usar los logs para diagnosticar y resolver problemas mucho más rápido que si tuvieran que adivinar qué salió mal.\n",
    "- **Análisis predictivo**: Al analizar patrones en los logs, las empresas pueden anticipar problemas antes de que ocurran, lo que permite una intervención proactiva.\n",
    "- **Cumplimiento normativo**: En muchas industrias, mantener logs detallados es un requisito legal. Los logs aseguran que las empresas cumplan con estos requisitos de manera eficiente.\n",
    "- **Mejor toma de decisiones**: Los logs proporcionan datos cuantitativos que pueden ser utilizados para tomar decisiones informadas sobre el desarrollo futuro y la gestión de la aplicación."
   ]
  },
  {
   "cell_type": "markdown",
   "metadata": {},
   "source": [
    "### Herramientas de Logging en Java"
   ]
  },
  {
   "cell_type": "markdown",
   "metadata": {},
   "source": [
    "| Herramienta | Pros | Contras |  \n",
    "| --- | --- | --- |  \n",
    "| Log4j 2 | Alto rendimiento, configurabilidad avanzada | Complejo de configurar para principiantes |  \n",
    "| SLF4J | Flexibilidad, API limpia | Necesita implementación de backend |\n",
    "|Logback | Alto rendimiento, fácil configuración | Menos extensible que Log4j 2 | \n",
    "| java.util.logging | No requiere bibliotecas externas, fácil de configurar | Menos flexible y potente |  \n",
    "| Tinylog | Muy ligero, fácil de usar | Menos características avanzadas |\n",
    "\n",
    "\n",
    "Estas son algunas de las principales herramientas de logging disponibles para Java, cada una con sus propias ventajas y desventajas. Dependiendo de los requisitos específicos de tu proyecto, puedes elegir la que mejor se adapte a tus necesidades."
   ]
  },
  {
   "cell_type": "markdown",
   "metadata": {},
   "source": [
    "## Log4j"
   ]
  },
  {
   "cell_type": "markdown",
   "metadata": {},
   "source": [
    "[Log4j](https://logging.apache.org/log4j/2.x/index.html) es un framework de logging muy popular y ampliamente utilizado en el ecosistema Java. Es parte del proyecto Apache Logging y permite a los desarrolladores capturar, formatear y redirigir mensajes de log de manera eficiente. Fue creado para ser altamente configurable y extensible, lo que lo convierte en una herramienta versátil para aplicaciones de todo tipo y tamaño.\n",
    "\n",
    "Log4j fue desarrollado inicialmente por Ceki Gülcü en la década de 1990. Ha evolucionado a través de varias versiones, con Log4j 2 siendo la versión más reciente y mejorada. Log4j 2 introduce muchas mejoras en comparación con Log4j 1.x, incluyendo un rendimiento mejorado, una mejor configuración y soporte para características avanzadas como el control de flujo asíncrono."
   ]
  },
  {
   "cell_type": "markdown",
   "metadata": {},
   "source": [
    "### Configuración de Log4j"
   ]
  },
  {
   "cell_type": "markdown",
   "metadata": {},
   "source": [
    "Para usar Log4j en tu proyecto, primero necesitas agregar las dependencias necesarias en tu archivo `pom.xml` (Maven) o `build.gradle` (Gradle).\n",
    "\n",
    "La version actual de Log4j en la actualidad lo puedes encontrar en [Maven Central](https://mvnrepository.com/artifact/org.apache.logging.log4j/log4j-core)"
   ]
  },
  {
   "cell_type": "markdown",
   "metadata": {},
   "source": [
    "#### Maven `pom.xml`"
   ]
  },
  {
   "cell_type": "code",
   "execution_count": null,
   "metadata": {
    "vscode": {
     "languageId": "xml"
    }
   },
   "outputs": [],
   "source": [
    "<dependency>\n",
    "    <groupId>org.apache.logging.log4j</groupId>\n",
    "    <artifactId>log4j-core</artifactId>\n",
    "    <version>2.24.3</version>\n",
    "</dependency>\n",
    "<dependency>\n",
    "    <groupId>org.apache.logging.log4j</groupId>\n",
    "    <artifactId>log4j-api</artifactId>\n",
    "    <version>2.24.3</version>\n",
    "</dependency>"
   ]
  },
  {
   "cell_type": "markdown",
   "metadata": {},
   "source": [
    "#### Gradle `build.gradle`"
   ]
  },
  {
   "cell_type": "code",
   "execution_count": null,
   "metadata": {
    "vscode": {
     "languageId": "gradle"
    }
   },
   "outputs": [],
   "source": [
    "dependencies {\n",
    "    implementation 'org.apache.logging.log4j:log4j-core:2.24.3'\n",
    "    implementation 'org.apache.logging.log4j:log4j-api:2.24.3'\n",
    "}"
   ]
  },
  {
   "cell_type": "markdown",
   "metadata": {},
   "source": [
    "Log4j 2 se configura mediante archivos de configuración en formato XML o propiedades."
   ]
  },
  {
   "cell_type": "markdown",
   "metadata": {},
   "source": [
    "#### `log4j2.xml`"
   ]
  },
  {
   "cell_type": "code",
   "execution_count": null,
   "metadata": {
    "vscode": {
     "languageId": "xml"
    }
   },
   "outputs": [],
   "source": [
    "<?xml version=\"1.0\" encoding=\"UTF-8\"?>\n",
    "<Configuration status=\"WARN\">\n",
    "    <Appenders>\n",
    "        <Console name=\"Console\" target=\"SYSTEM_OUT\">\n",
    "            <PatternLayout pattern=\"%d{HH:mm:ss.SSS} [%t] %-5level %logger{36} - %msg%n\"/>\n",
    "        </Console>\n",
    "    </Appenders>\n",
    "    <Loggers>\n",
    "        <Root level=\"debug\">\n",
    "            <AppenderRef ref=\"Console\"/>\n",
    "        </Root>\n",
    "    </Loggers>\n",
    "</Configuration>"
   ]
  },
  {
   "cell_type": "markdown",
   "metadata": {},
   "source": [
    "### Uso de Log4j"
   ]
  },
  {
   "cell_type": "markdown",
   "metadata": {},
   "source": [
    "Una vez configurado, puedes usar Log4j en tu código Java."
   ]
  },
  {
   "cell_type": "code",
   "execution_count": null,
   "metadata": {
    "vscode": {
     "languageId": "java"
    }
   },
   "outputs": [],
   "source": [
    "import org.apache.logging.log4j.LogManager;\n",
    "import org.apache.logging.log4j.Logger;\n",
    "\n",
    "public class Example {\n",
    "    private static final Logger logger = LogManager.getLogger(Example.class);\n",
    "\n",
    "    public static void main(String[] args) {\n",
    "        logger.debug(\"This is a debug message\");\n",
    "        logger.info(\"This is an info message\");\n",
    "        logger.warn(\"This is a warning message\");\n",
    "        logger.error(\"This is an error message\");\n",
    "        logger.fatal(\"This is a fatal message\");\n",
    "    }\n",
    "}"
   ]
  },
  {
   "cell_type": "markdown",
   "metadata": {},
   "source": [
    "### Niveles de log y manejo de mensajes"
   ]
  },
  {
   "cell_type": "markdown",
   "metadata": {},
   "source": [
    "Log4j soporta varios niveles de logging, que permiten controlar la cantidad y el tipo de información que se registra:\n",
    "- **TRACE**: El nivel más detallado de logging, generalmente utilizado para información muy granular.\n",
    "- **DEBUG**: Información de depuración que es útil durante el desarrollo y la depuración.\n",
    "- **INFO**: Información general sobre el funcionamiento de la aplicación.\n",
    "- **WARN**: Indicaciones de posibles problemas que no necesariamente interrumpen la aplicación.\n",
    "- **ERROR**: Errores que ocurren en la aplicación pero que no son fatales.\n",
    "- **FATAL**: Errores severos que causan la terminación del programa.\n",
    "\n",
    "Seleccionar el nivel adecuado para diferentes mensajes de log es crucial para obtener una visión clara y útil del comportamiento de la aplicación.\n",
    "\n",
    "Para aprender mas sobre el uso y configuración de Log4j, puede revisar el [manual](https://logging.apache.org/log4j/2.x/manual/index.html) de la herramienta."
   ]
  },
  {
   "cell_type": "markdown",
   "metadata": {},
   "source": [
    "## SLF4J (Simple Logging Facade for Java)"
   ]
  },
  {
   "cell_type": "markdown",
   "metadata": {},
   "source": [
    "[SLF4J](https://www.slf4j.org/) es una fachada de logging diseñada para proporcionar una API de logging simple y uniforme. Su principal ventaja es que desacopla el código de la aplicación de cualquier implementación específica de logging, permitiendo que los desarrolladores cambien la implementación de logging subyacente sin modificar el código de la aplicación.\n",
    "\n",
    "SLF4J ofrece varias ventajas significativas:\n",
    "- **Interoperabilidad**: SLF4J puede trabajar con múltiples frameworks de logging (como Log4j, Logback, java.util.logging) a través de adaptadores. Esto significa que puedes cambiar entre diferentes implementaciones de logging sin cambiar el código de tu aplicación.\n",
    "- **API limpia y coherente**: SLF4J proporciona una API uniforme para logging, lo que simplifica el proceso de escribir y mantener el código de logging.\n",
    "- **Parámetros de log eficientes**: SLF4J soporta una sintaxis de parámetros eficiente que evita el costo de evaluación de mensajes de log cuando el nivel de log no está habilitado."
   ]
  },
  {
   "cell_type": "markdown",
   "metadata": {},
   "source": [
    "### Configuración de SLF4J con Log4j"
   ]
  },
  {
   "cell_type": "markdown",
   "metadata": {},
   "source": [
    "Para usar SLF4J con Log4j, necesitas agregar las dependencias necesarias en tu archivo `pom.xml` (Maven) o `build.gradle` (Gradle).\n",
    "\n",
    "La version actual de SLF4J en la actualidad lo puedes encontrar en [Maven Central](https://mvnrepository.com/artifact/org.slf4j/slf4j-api)"
   ]
  },
  {
   "cell_type": "markdown",
   "metadata": {},
   "source": [
    "#### Maven `pom.xml`"
   ]
  },
  {
   "cell_type": "code",
   "execution_count": null,
   "metadata": {
    "vscode": {
     "languageId": "xml"
    }
   },
   "outputs": [],
   "source": [
    "<dependency>\n",
    "    <groupId>org.apache.logging.log4j</groupId>\n",
    "    <artifactId>log4j-api</artifactId>\n",
    "    <version>2.24.3</version>\n",
    "</dependency>\n",
    "<dependency>\n",
    "    <groupId>org.apache.logging.log4j</groupId>\n",
    "    <artifactId>log4j-core</artifactId>\n",
    "    <version>2.24.3</version>\n",
    "</dependency>\n",
    "<dependency>\n",
    "    <groupId>org.apache.logging.slf4j</groupId>\n",
    "    <artifactId>log4j-slf4j-impl</artifactId>\n",
    "    <version>2.24.3</version>\n",
    "</dependency>\n",
    "<dependency>\n",
    "    <groupId>org.slf4j</groupId>\n",
    "    <artifactId>slf4j-api</artifactId>\n",
    "    <version>2.0.16</version>\n",
    "</dependency>"
   ]
  },
  {
   "cell_type": "markdown",
   "metadata": {},
   "source": [
    "#### Gradle `build.gradle`"
   ]
  },
  {
   "cell_type": "code",
   "execution_count": null,
   "metadata": {
    "vscode": {
     "languageId": "gradle"
    }
   },
   "outputs": [],
   "source": [
    "dependencies {\n",
    "    implementation 'org.apache.logging.log4j:log4j-api:2.24.3'\n",
    "    implementation 'org.apache.logging.log4j:log4j-core:2.24.3'\n",
    "    implementation 'org.apache.logging.slf4j:log4j-slf4j-impl:2.24.3'\n",
    "    implementation 'org.slf4j:slf4j-api:2.0.16'\n",
    "}"
   ]
  },
  {
   "cell_type": "markdown",
   "metadata": {},
   "source": [
    "#### `log4j2.xml`"
   ]
  },
  {
   "cell_type": "code",
   "execution_count": null,
   "metadata": {
    "vscode": {
     "languageId": "xml"
    }
   },
   "outputs": [],
   "source": [
    "<?xml version=\"1.0\" encoding=\"UTF-8\"?>\n",
    "<Configuration status=\"WARN\">\n",
    "    <Appenders>\n",
    "        <Console name=\"Console\" target=\"SYSTEM_OUT\">\n",
    "            <PatternLayout pattern=\"%d{HH:mm:ss.SSS} [%t] %-5level %logger{36} - %msg%n\"/>\n",
    "        </Console>\n",
    "    </Appenders>\n",
    "    <Loggers>\n",
    "        <Root level=\"debug\">\n",
    "            <AppenderRef ref=\"Console\"/>\n",
    "        </Root>\n",
    "    </Loggers>\n",
    "</Configuration>"
   ]
  },
  {
   "cell_type": "markdown",
   "metadata": {},
   "source": [
    "### Uso de SLF4J"
   ]
  },
  {
   "cell_type": "markdown",
   "metadata": {},
   "source": [
    "Una vez configurado, puedes usar SLF4J en tu código Java, que a su vez utilizará Log4j 2 como backend de logging."
   ]
  },
  {
   "cell_type": "code",
   "execution_count": null,
   "metadata": {
    "vscode": {
     "languageId": "java"
    }
   },
   "outputs": [],
   "source": [
    "import org.slf4j.Logger;\n",
    "import org.slf4j.LoggerFactory;\n",
    "\n",
    "public class Example {\n",
    "    private static final Logger logger = LoggerFactory.getLogger(Example.class);\n",
    "\n",
    "    public static void main(String[] args) {\n",
    "        logger.debug(\"This is a debug message\");\n",
    "        logger.info(\"This is an info message\");\n",
    "        logger.warn(\"This is a warning message\");\n",
    "        logger.error(\"This is an error message\");\n",
    "        logger.trace(\"This is a trace message\");\n",
    "    }\n",
    "}"
   ]
  },
  {
   "cell_type": "markdown",
   "metadata": {},
   "source": [
    "### Diferencias entre Log4J y SLF4j"
   ]
  },
  {
   "cell_type": "markdown",
   "metadata": {},
   "source": [
    "- **Log4j**: Es una implementación específica de logging que proporciona funcionalidades robustas y avanzadas de logging.\n",
    "- **SLF4J**: Es una fachada que proporciona una API de logging simple y uniforme para múltiples implementaciones de logging.\n",
    "\n",
    "**Cómo SLF4J actúa como una fachada**:\n",
    "- SLF4J permite que el código de tu aplicación se mantenga desacoplado de cualquier implementación específica de logging.\n",
    "- Puedes cambiar entre diferentes frameworks de logging (como `Log4j`, `Logback`, `java.util.logging`) simplemente cambiando las dependencias en tu archivo de configuración, sin necesidad de modificar el código de la aplicación.\n",
    "\n",
    "Para aprender mas sobre el uso de SLF4J, puede revisar el [manual](https://www.slf4j.org/manual.html) de la herramienta."
   ]
  },
  {
   "cell_type": "markdown",
   "metadata": {},
   "source": [
    "## Ejemplos de configuraciones de `log4j2.xml`"
   ]
  },
  {
   "cell_type": "markdown",
   "metadata": {},
   "source": [
    "### 1. Logging en consola"
   ]
  },
  {
   "cell_type": "code",
   "execution_count": null,
   "metadata": {
    "vscode": {
     "languageId": "xml"
    }
   },
   "outputs": [],
   "source": [
    "<?xml version=\"1.0\" encoding=\"UTF-8\"?>\n",
    "<Configuration status=\"WARN\">\n",
    "    <Appenders>\n",
    "        <Console name=\"Console\" target=\"SYSTEM_OUT\">\n",
    "            <PatternLayout pattern=\"%d{HH:mm:ss.SSS} [%t] %-5level %logger{36} - %msg%n\"/>\n",
    "        </Console>\n",
    "    </Appenders>\n",
    "    <Loggers>\n",
    "        <Root level=\"info\">\n",
    "            <AppenderRef ref=\"Console\"/>\n",
    "        </Root>\n",
    "    </Loggers>\n",
    "</Configuration>\n"
   ]
  },
  {
   "cell_type": "markdown",
   "metadata": {},
   "source": [
    "### 2. Logging en consola y archivo"
   ]
  },
  {
   "cell_type": "code",
   "execution_count": null,
   "metadata": {
    "vscode": {
     "languageId": "xml"
    }
   },
   "outputs": [],
   "source": [
    "<?xml version=\"1.0\" encoding=\"UTF-8\"?>\n",
    "<Configuration status=\"WARN\">\n",
    "    <Appenders>\n",
    "        <Console name=\"Console\" target=\"SYSTEM_OUT\">\n",
    "            <PatternLayout pattern=\"%d{HH:mm:ss.SSS} [%t] %-5level %logger{36} - %msg%n\"/>\n",
    "        </Console>\n",
    "        <File name=\"File\" fileName=\"logs/app.log\">\n",
    "            <PatternLayout pattern=\"%d{HH:mm:ss.SSS} [%t] %-5level %logger{36} - %msg%n\"/>\n",
    "        </File>\n",
    "    </Appenders>\n",
    "    <Loggers>\n",
    "        <Root level=\"info\">\n",
    "            <AppenderRef ref=\"Console\"/>\n",
    "            <AppenderRef ref=\"File\"/>\n",
    "        </Root>\n",
    "    </Loggers>\n",
    "</Configuration>"
   ]
  },
  {
   "cell_type": "markdown",
   "metadata": {},
   "source": [
    "### 3. Logging en consola y archivo con rotación de archivos"
   ]
  },
  {
   "cell_type": "code",
   "execution_count": null,
   "metadata": {
    "vscode": {
     "languageId": "xml"
    }
   },
   "outputs": [],
   "source": [
    "<?xml version=\"1.0\" encoding=\"UTF-8\"?>\n",
    "<Configuration status=\"WARN\">\n",
    "    <Appenders>\n",
    "        <Console name=\"Console\" target=\"SYSTEM_OUT\">\n",
    "            <PatternLayout pattern=\"%d{HH:mm:ss.SSS} [%t] %-5level %logger{36} - %msg%n\"/>\n",
    "        </Console>\n",
    "        <RollingFile name=\"RollingFile\" fileName=\"logs/app.log\" filePattern=\"logs/app-%d{yyyy-MM-dd}.log.gz\">\n",
    "            <PatternLayout pattern=\"%d{HH:mm:ss.SSS} [%t] %-5level %logger{36} - %msg%n\"/>\n",
    "            <Policies>\n",
    "                <TimeBasedTriggeringPolicy />\n",
    "            </Policies>\n",
    "        </RollingFile>\n",
    "    </Appenders>\n",
    "    <Loggers>\n",
    "        <Root level=\"info\">\n",
    "            <AppenderRef ref=\"Console\"/>\n",
    "            <AppenderRef ref=\"RollingFile\"/>\n",
    "        </Root>\n",
    "    </Loggers>\n",
    "</Configuration>"
   ]
  },
  {
   "cell_type": "markdown",
   "metadata": {},
   "source": [
    "### 4. Logging en Consola, Archivo y Email (SMTP)"
   ]
  },
  {
   "cell_type": "code",
   "execution_count": null,
   "metadata": {
    "vscode": {
     "languageId": "xml"
    }
   },
   "outputs": [],
   "source": [
    "<?xml version=\"1.0\" encoding=\"UTF-8\"?>\n",
    "<Configuration status=\"WARN\">\n",
    "    <Appenders>\n",
    "        <Console name=\"Console\" target=\"SYSTEM_OUT\">\n",
    "            <PatternLayout pattern=\"%d{HH:mm:ss.SSS} [%t] %-5level %logger{36} - %msg%n\"/>\n",
    "        </Console>\n",
    "        <File name=\"File\" fileName=\"logs/app.log\">\n",
    "            <PatternLayout pattern=\"%d{HH:mm:ss.SSS} [%t] %-5level %logger{36} - %msg%n\"/>\n",
    "        </File>\n",
    "        <SMTP name=\"Email\" to=\"admin@example.com\" from=\"noreply@example.com\" subject=\"Log Alert\" smtpHost=\"smtp.example.com\">\n",
    "            <PatternLayout pattern=\"%d{HH:mm:ss.SSS} [%t] %-5level %logger{36} - %msg%n\"/>\n",
    "            <ThresholdFilter level=\"error\"/>\n",
    "        </SMTP>\n",
    "    </Appenders>\n",
    "    <Loggers>\n",
    "        <Root level=\"info\">\n",
    "            <AppenderRef ref=\"Console\"/>\n",
    "            <AppenderRef ref=\"File\"/>\n",
    "            <AppenderRef ref=\"Email\"/>\n",
    "        </Root>\n",
    "    </Loggers>\n",
    "</Configuration>"
   ]
  },
  {
   "cell_type": "markdown",
   "metadata": {},
   "source": [
    "### 5. Logging en Consola y Archivo con Diferentes Niveles"
   ]
  },
  {
   "cell_type": "code",
   "execution_count": null,
   "metadata": {
    "vscode": {
     "languageId": "xml"
    }
   },
   "outputs": [],
   "source": [
    "<?xml version=\"1.0\" encoding=\"UTF-8\"?>\n",
    "<Configuration status=\"WARN\">\n",
    "    <Appenders>\n",
    "        <Console name=\"Console\" target=\"SYSTEM_OUT\">\n",
    "            <PatternLayout pattern=\"%d{HH:mm:ss.SSS} [%t] %-5level %logger{36} - %msg%n\"/>\n",
    "        </Console>\n",
    "        <File name=\"File\" fileName=\"logs/app.log\">\n",
    "            <PatternLayout pattern=\"%d{HH:mm:ss.SSS} [%t] %-5level %logger{36} - %msg%n\"/>\n",
    "        </File>\n",
    "    </Appenders>\n",
    "    <Loggers>\n",
    "        <Logger name=\"com.example.debug\" level=\"debug\" additivity=\"false\">\n",
    "            <AppenderRef ref=\"Console\"/>\n",
    "        </Logger>\n",
    "        <Logger name=\"com.example.info\" level=\"info\" additivity=\"false\">\n",
    "            <AppenderRef ref=\"File\"/>\n",
    "        </Logger>\n",
    "        <Root level=\"warn\">\n",
    "            <AppenderRef ref=\"Console\"/>\n",
    "            <AppenderRef ref=\"File\"/>\n",
    "        </Root>\n",
    "    </Loggers>\n",
    "</Configuration>\n"
   ]
  }
 ],
 "metadata": {
  "language_info": {
   "name": "python"
  }
 },
 "nbformat": 4,
 "nbformat_minor": 2
}
