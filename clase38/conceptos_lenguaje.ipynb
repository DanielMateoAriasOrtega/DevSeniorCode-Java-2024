{
 "cells": [
  {
   "cell_type": "markdown",
   "metadata": {},
   "source": [
    "# Conceptos del lenguaje"
   ]
  },
  {
   "cell_type": "markdown",
   "metadata": {},
   "source": [
    "## Introducción a ORM, JPA e Hibernate"
   ]
  },
  {
   "cell_type": "markdown",
   "metadata": {},
   "source": [
    "### ¿Qué es un ORM (Object-Relational Mapping)?"
   ]
  },
  {
   "cell_type": "markdown",
   "metadata": {},
   "source": [
    "Los ORMs son herramientas que permiten mapear objetos en lenguajes de programación orientados a objetos (como Java) a tablas en bases de datos relacionales.\n",
    "\n",
    "#### Ventajas del ORM:\n",
    "- Reduce la cantidad de código SQL que debes escribir.\n",
    "- Facilita el desarrollo de aplicaciones independientemente del sistema de base de datos.\n",
    "- Mejora la gestión de datos y la mantenibilidad del código."
   ]
  },
  {
   "cell_type": "markdown",
   "metadata": {},
   "source": [
    "### Java Persistence API (JPA)"
   ]
  },
  {
   "cell_type": "markdown",
   "metadata": {},
   "source": [
    "- Es una especificación estándar en Java para gestionar datos relacionales mediante el uso de entidades.\n",
    "- JPA no es una implementación, sino una guía para que otros frameworks la adopten.\n",
    "\n",
    "#### Características principales:\n",
    "- Define anotaciones para mapear clases y atributos de Java a estructuras de base de datos (por ejemplo, `@Entity`, `@Table`, `@Column`).\n",
    "- Permite realizar consultas mediante JPQL (Java Persistence Query Language).\n",
    "\n",
    "#### Implementaciones de JPA\n",
    "| Implementación | Descripción |\n",
    "| --- | --- | \n",
    "| [Hibernate](https://hibernate.org/) | Implementación robusta y ampliamente utilizada de JPA, con características avanzadas como caché y optimización. |\n",
    "| [EclipseLink](https://projects.eclipse.org/projects/ee4j.eclipselink) | Implementación oficial de JPA por la Fundación Eclipse, con soporte para múltiples bases de datos y características avanzadas. |\n",
    "| [DataNucleus](https://www.datanucleus.org/) | Implementación que soporta JPA y otros estándares, con enfoque en bases de datos relacionales y NoSQL. |\n",
    "| [TopLink](https://www.oracle.com/middleware/technologies/top-link.html) | Implementación desarrollada por Oracle, conocida por su integración con productos de Oracle. |\n",
    "\n",
    "#### Por que usar JPA?\n",
    "- Simplificación del desarrollo al evitar consultas manuales.\n",
    "- Portabilidad entre distintos sistemas de bases de datos.\n",
    "- Manejo robusto de transacciones y relaciones complejas."
   ]
  },
  {
   "cell_type": "markdown",
   "metadata": {},
   "source": [
    "### Hibernate: Framework ORM"
   ]
  },
  {
   "cell_type": "markdown",
   "metadata": {},
   "source": [
    "- Es una implementación de JPA ampliamente utilizada que proporciona características adicionales como caché y optimización.\n",
    "- Es capaz de interactuar con diferentes bases de datos usando configuraciones específicas sin modificar el código fuente.\n",
    "\n",
    "#### Características clave de Hibernate:\n",
    "- Soporte para consultas tanto en JPQL como en SQL nativo.\n",
    "- Gestión eficiente de relaciones entre entidades y manejo de caché.\n",
    "- Flexibilidad en el uso de estrategias de carga (Lazy o Eager Loading).\n",
    "\n",
    "#### Comparación entre JPA y Hibernate\n",
    "| Aspecto | JPA | Hibernate |\n",
    "| --- | --- | --- |\n",
    "| Naturaleza | Especificación | Framework (implementación) |\n",
    "| Configuraciones | Define estándares | Amplia funcionalidades |\n",
    "| Anotaciones | Compatibles con cualquier ORM | Propias y extendidas |"
   ]
  },
  {
   "cell_type": "markdown",
   "metadata": {},
   "source": [
    "## Incluyendo JPA en un proyecto"
   ]
  },
  {
   "cell_type": "markdown",
   "metadata": {},
   "source": []
  },
  {
   "cell_type": "markdown",
   "metadata": {},
   "source": [
    "## Mapeo en JPA e Hibernate"
   ]
  },
  {
   "cell_type": "markdown",
   "metadata": {},
   "source": [
    "El mapeo es el proceso que permite asociar clases y atributos de Java con tablas y columnas en una base de datos relacional, utilizando anotaciones de JPA. Estas anotaciones definen cómo se almacenarán los datos y las reglas que se aplicarán al persistirlos."
   ]
  },
  {
   "cell_type": "markdown",
   "metadata": {},
   "source": [
    "### Anotaciones comunes"
   ]
  },
  {
   "cell_type": "markdown",
   "metadata": {},
   "source": [
    "#### `@Entity`\n",
    "Marca una clase como una entidad gestionada por JPA."
   ]
  },
  {
   "cell_type": "code",
   "execution_count": null,
   "metadata": {
    "vscode": {
     "languageId": "java"
    }
   },
   "outputs": [],
   "source": [
    "@Entity\n",
    "public class Producto {\n",
    "    @Id\n",
    "    private Long id;\n",
    "    private String nombre;\n",
    "}"
   ]
  },
  {
   "cell_type": "markdown",
   "metadata": {},
   "source": [
    "#### `@Table`\n",
    "Especifica el nombre de la tabla en la base de datos a la que se mapeará la clase."
   ]
  },
  {
   "cell_type": "code",
   "execution_count": null,
   "metadata": {
    "vscode": {
     "languageId": "java"
    }
   },
   "outputs": [],
   "source": [
    "@Entity\n",
    "@Table(name = \"productos\")\n",
    "public class Producto {\n",
    "    @Id\n",
    "    private Long id;\n",
    "    private String nombre;\n",
    "}"
   ]
  },
  {
   "cell_type": "markdown",
   "metadata": {},
   "source": [
    "#### `@Id`\n",
    "- Indica el atributo que actúa como clave primaria de la tabla.\n",
    "- Puede complementarse con `@GeneratedValue` para especificar una estrategia de generación automática de IDs.\n",
    "\n",
    "##### `@GeneratedValue`\n",
    "Define cómo se generará el valor del identificador (auto-incremental, UUID, etc.)."
   ]
  },
  {
   "cell_type": "code",
   "execution_count": null,
   "metadata": {
    "vscode": {
     "languageId": "java"
    }
   },
   "outputs": [],
   "source": [
    "@Id\n",
    "@GeneratedValue(strategy = GenerationType.IDENTITY)\n",
    "private Long id;"
   ]
  },
  {
   "cell_type": "markdown",
   "metadata": {},
   "source": [
    "#### `@Column`\n",
    "Personaliza el mapeo de un atributo a una columna de la tabla."
   ]
  },
  {
   "cell_type": "code",
   "execution_count": null,
   "metadata": {
    "vscode": {
     "languageId": "java"
    }
   },
   "outputs": [],
   "source": [
    "@Column(name = \"nombre_producto\", nullable = false, length = 100)\n",
    "private String nombre;"
   ]
  },
  {
   "cell_type": "markdown",
   "metadata": {},
   "source": [
    "#### `@Transient`\n",
    "Excluye un atributo del mapeo. Es útil cuando un campo no debe persistirse."
   ]
  },
  {
   "cell_type": "code",
   "execution_count": null,
   "metadata": {
    "vscode": {
     "languageId": "java"
    }
   },
   "outputs": [],
   "source": [
    "@Transient\n",
    "private String valorTemporal;"
   ]
  },
  {
   "cell_type": "markdown",
   "metadata": {},
   "source": [
    "#### `@Enumerated`\n",
    "Mapea atributos de tipo `enum` a valores en la base de datos (por defecto, ordinal o string)."
   ]
  },
  {
   "cell_type": "code",
   "execution_count": null,
   "metadata": {
    "vscode": {
     "languageId": "java"
    }
   },
   "outputs": [],
   "source": [
    "@Enumerated(EnumType.STRING)\n",
    "private EstadoProducto estado;"
   ]
  },
  {
   "cell_type": "markdown",
   "metadata": {},
   "source": [
    "#### `@Lob`\n",
    "Utilizado para mapear grandes objetos, como textos largos o binarios (archivos)."
   ]
  },
  {
   "cell_type": "code",
   "execution_count": null,
   "metadata": {
    "vscode": {
     "languageId": "java"
    }
   },
   "outputs": [],
   "source": [
    "@Lob\n",
    "private String descripcionDetallada;"
   ]
  },
  {
   "cell_type": "markdown",
   "metadata": {},
   "source": [
    "#### `@Temporal`\n",
    "Define cómo se almacenan atributos de tipo fecha/hora en la base de datos."
   ]
  },
  {
   "cell_type": "code",
   "execution_count": null,
   "metadata": {
    "vscode": {
     "languageId": "java"
    }
   },
   "outputs": [],
   "source": [
    "@Temporal(TemporalType.DATE)\n",
    "private Date fechaCreacion;"
   ]
  },
  {
   "cell_type": "markdown",
   "metadata": {},
   "source": [
    "### Relaciones entre entidades"
   ]
  },
  {
   "cell_type": "markdown",
   "metadata": {},
   "source": [
    "- Representan cómo se conectan las entidades (clases que representan tablas) en JPA e Hibernate para modelar datos relacionales.\n",
    "- Estas relaciones pueden definirse mediante anotaciones en los modelos, explicando cómo interactúan las tablas en la base de datos."
   ]
  },
  {
   "cell_type": "markdown",
   "metadata": {},
   "source": [
    "#### `@OneToOne` (Uno a uno)\n",
    "Una entidad se relaciona directamente con otra entidad, es decir, un registro de una tabla corresponde únicamente a un registro de otra tabla."
   ]
  },
  {
   "cell_type": "code",
   "execution_count": null,
   "metadata": {
    "vscode": {
     "languageId": "java"
    }
   },
   "outputs": [],
   "source": [
    "@Entity\n",
    "public class Usuario {\n",
    "    @Id\n",
    "    private Long id;\n",
    "\n",
    "    @OneToOne(cascade = CascadeType.ALL)\n",
    "    @JoinColumn(name = \"direccion_id\", referencedColumnName = \"id\")\n",
    "    private Direccion direccion;\n",
    "}\n",
    "\n",
    "@Entity\n",
    "public class Direccion {\n",
    "    @Id\n",
    "    private Long id;\n",
    "    private String calle;\n",
    "    private String ciudad;\n",
    "}"
   ]
  },
  {
   "cell_type": "markdown",
   "metadata": {},
   "source": [
    "#### `@OneToMany` (Uno a Muchos)\n",
    "Una entidad está relacionada con múltiples registros de otra entidad."
   ]
  },
  {
   "cell_type": "code",
   "execution_count": null,
   "metadata": {
    "vscode": {
     "languageId": "java"
    }
   },
   "outputs": [],
   "source": [
    "@Entity\n",
    "public class Autor {\n",
    "    @Id\n",
    "    private Long id;\n",
    "\n",
    "    @OneToMany(mappedBy = \"autor\", cascade = CascadeType.ALL)\n",
    "    private List<Libro> libros;\n",
    "}\n",
    "\n",
    "@Entity\n",
    "public class Libro {\n",
    "    @Id\n",
    "    private Long id;\n",
    "\n",
    "    @ManyToOne\n",
    "    @JoinColumn(name = \"autor_id\", referencedColumnName = \"id\")\n",
    "    private Autor autor;\n",
    "}"
   ]
  },
  {
   "cell_type": "markdown",
   "metadata": {},
   "source": [
    "#### `@ManyToMany` (Muchos a Muchos)\n",
    "Muchos registros de una entidad están relacionados con muchos registros de otra entidad."
   ]
  },
  {
   "cell_type": "code",
   "execution_count": null,
   "metadata": {
    "vscode": {
     "languageId": "java"
    }
   },
   "outputs": [],
   "source": [
    "@Entity\n",
    "public class Estudiante {\n",
    "    @Id\n",
    "    private Long id;\n",
    "\n",
    "    @ManyToMany\n",
    "    @JoinTable(\n",
    "        name = \"estudiante_curso\",\n",
    "        joinColumns = @JoinColumn(name = \"estudiante_id\"),\n",
    "        inverseJoinColumns = @JoinColumn(name = \"curso_id\")\n",
    "    )\n",
    "    private List<Curso> cursos;\n",
    "}\n",
    "\n",
    "@Entity\n",
    "public class Curso {\n",
    "    @Id\n",
    "    private Long id;\n",
    "\n",
    "    @ManyToMany(mappedBy = \"cursos\")\n",
    "    private List<Estudiante> estudiantes;\n",
    "}"
   ]
  },
  {
   "cell_type": "markdown",
   "metadata": {},
   "source": [
    "#### Puntos clave:\n",
    "- **CascadeType**: Define cómo se propagan las operaciones entre las entidades relacionadas (`ALL`, `PERSIST`, `MERGE`, etc.).\n",
    "- **mappedBy**: Indica cuál entidad es la propietaria de la relación.\n",
    "- **Lazy Loading vs Eager Loading**: Determina cuándo se cargan las entidades relacionadas. \n",
    "  - `Lazy` para cargar cuando se necesita \n",
    "  - `Eager` para cargar inmediatamente."
   ]
  },
  {
   "cell_type": "markdown",
   "metadata": {},
   "source": [
    "## Consultas JPQL y Criteria API"
   ]
  },
  {
   "cell_type": "markdown",
   "metadata": {},
   "source": [
    "### Java Persistence Query Language (JPQL)"
   ]
  },
  {
   "cell_type": "markdown",
   "metadata": {},
   "source": [
    "- JPQL es un lenguaje de consulta orientado a objetos definido por JPA, que permite realizar consultas sobre entidades en lugar de tablas directamente.\n",
    "- Similar a SQL pero opera sobre clases y atributos, manteniéndose independiente de la base de datos."
   ]
  },
  {
   "cell_type": "markdown",
   "metadata": {},
   "source": [
    "#### Consultas SELECT:"
   ]
  },
  {
   "cell_type": "code",
   "execution_count": null,
   "metadata": {
    "vscode": {
     "languageId": "java"
    }
   },
   "outputs": [],
   "source": [
    "String jpql = \"SELECT u FROM Usuario u WHERE u.nombre = :nombre\";\n",
    "Query query = entityManager.createQuery(jpql);\n",
    "query.setParameter(\"nombre\", \"Cesar\");\n",
    "List<Usuario> usuarios = query.getResultList();"
   ]
  },
  {
   "cell_type": "markdown",
   "metadata": {},
   "source": [
    "#### Uso de JOIN:"
   ]
  },
  {
   "cell_type": "code",
   "execution_count": null,
   "metadata": {
    "vscode": {
     "languageId": "java"
    }
   },
   "outputs": [],
   "source": [
    "String jpql = \"SELECT p FROM Pedido p JOIN p.producto prod WHERE prod.nombre = :nombre\";\n",
    "Query query = entityManager.createQuery(jpql);\n",
    "query.setParameter(\"nombre\", \"Laptop\");\n",
    "List<Pedido> pedidos = query.getResultList();"
   ]
  },
  {
   "cell_type": "markdown",
   "metadata": {},
   "source": [
    "#### Ordenar resultados (ORDER BY):"
   ]
  },
  {
   "cell_type": "code",
   "execution_count": null,
   "metadata": {
    "vscode": {
     "languageId": "java"
    }
   },
   "outputs": [],
   "source": [
    "String jpql = \"SELECT p FROM Producto p ORDER BY p.precio DESC\";\n",
    "Query query = entityManager.createQuery(jpql);\n",
    "List<Producto> productos = query.getResultList();"
   ]
  },
  {
   "cell_type": "markdown",
   "metadata": {},
   "source": [
    "### Criteria API"
   ]
  },
  {
   "cell_type": "markdown",
   "metadata": {},
   "source": [
    "- Es una alternativa al uso de JPQL que permite construir consultas de manera programática.\n",
    "- Ideal para generar consultas dinámicas basadas en condiciones variables.\n",
    "\n",
    "#### Ventajas:\n",
    "- Ofrece mayor flexibilidad que JPQL.\n",
    "- Usa objetos de Java para construir consultas, ayudando a evitar errores en tiempo de ejecución."
   ]
  },
  {
   "cell_type": "markdown",
   "metadata": {},
   "source": [
    "#### Construcción de consulta programática:"
   ]
  },
  {
   "cell_type": "code",
   "execution_count": null,
   "metadata": {
    "vscode": {
     "languageId": "java"
    }
   },
   "outputs": [],
   "source": [
    "CriteriaBuilder cb = entityManager.getCriteriaBuilder();\n",
    "CriteriaQuery<Usuario> query = cb.createQuery(Usuario.class);\n",
    "Root<Usuario> usuario = query.from(Usuario.class);\n",
    "query.select(usuario).where(cb.equal(usuario.get(\"nombre\"), \"Cesar\"));\n",
    "List<Usuario> usuarios = entityManager.createQuery(query).getResultList();"
   ]
  },
  {
   "cell_type": "markdown",
   "metadata": {},
   "source": [
    "#### Uso de múltiples condiciones:"
   ]
  },
  {
   "cell_type": "code",
   "execution_count": null,
   "metadata": {
    "vscode": {
     "languageId": "java"
    }
   },
   "outputs": [],
   "source": [
    "CriteriaBuilder cb = entityManager.getCriteriaBuilder();\n",
    "CriteriaQuery<Producto> query = cb.createQuery(Producto.class);\n",
    "Root<Producto> producto = query.from(Producto.class);\n",
    "query.select(producto)\n",
    "     .where(\n",
    "         cb.and(\n",
    "             cb.greaterThan(producto.get(\"precio\"), 1000),\n",
    "             cb.equal(producto.get(\"categoria\"), \"Electrónica\")\n",
    "         )\n",
    "     );\n",
    "List<Producto> productos = entityManager.createQuery(query).getResultList();"
   ]
  },
  {
   "cell_type": "markdown",
   "metadata": {},
   "source": [
    "### Comparación JPQL vs Criteria API\n",
    "| Aspecto | JPQL | Criteria API |\n",
    "| --- | --- | --- |\n",
    "| **Estilo** | Similar a SQL | Programática |\n",
    "| **Flexibilidad** | Menor para consultas dinámicas | Menor para consultas dinámicas |\n",
    "| **Legibilidad** | Fácil de leer | Menos intuitiva |"
   ]
  },
  {
   "cell_type": "markdown",
   "metadata": {},
   "source": [
    "## Optimización y uso de caché con Hibernate"
   ]
  },
  {
   "cell_type": "markdown",
   "metadata": {},
   "source": [
    "La optimización es crucial para mejorar el rendimiento de aplicaciones que interactúan con bases de datos, reduciendo tiempos de respuesta y minimizando el uso excesivo de recursos."
   ]
  },
  {
   "cell_type": "markdown",
   "metadata": {},
   "source": [
    "### Caché en Hibernate"
   ]
  },
  {
   "cell_type": "markdown",
   "metadata": {},
   "source": [
    "#### Caché de primer nivel (First-Level Cache):\n",
    "- Es automático y está habilitado por defecto.\n",
    "- Se aplica a la sesión (`Session`) de Hibernate.\n",
    "- **Beneficio**: Reduce el número de consultas realizadas a la base de datos dentro de una misma sesión."
   ]
  },
  {
   "cell_type": "code",
   "execution_count": null,
   "metadata": {
    "vscode": {
     "languageId": "java"
    }
   },
   "outputs": [],
   "source": [
    "Session session = sessionFactory.openSession();\n",
    "Usuario usuario1 = session.get(Usuario.class, 1L); // Consulta a la BD.\n",
    "Usuario usuario2 = session.get(Usuario.class, 1L); // Consulta desde caché.\n",
    "session.close();"
   ]
  },
  {
   "cell_type": "markdown",
   "metadata": {},
   "source": [
    "#### Caché de segundo nivel (Second-Level Cache):\n",
    "- Es opcional y se aplica a nivel del SessionFactory.\n",
    "- Almacena objetos en caché incluso después de que la sesión haya terminado.\n",
    "\n",
    "Configuración típica para el uso de cache:"
   ]
  },
  {
   "cell_type": "code",
   "execution_count": null,
   "metadata": {
    "vscode": {
     "languageId": "xml"
    }
   },
   "outputs": [],
   "source": [
    "<properties>\n",
    "    ...\n",
    "    <property name=\"hibernate.cache.use_second_level_cache\" value=\"true\"/>\n",
    "    <property name=\"hibernate.cache.region.factory_class\" value=\"org.hibernate.cache.ehcache.EhCacheRegionFactory\"/>\n",
    "    ...\n",
    "</properties>\n"
   ]
  },
  {
   "cell_type": "markdown",
   "metadata": {},
   "source": [
    "#### Caché de consultas (Query Cache):\n",
    "- Complementa la caché de segundo nivel para almacenar resultados de consultas.\n",
    "\n",
    "Configuración típica para el uso de cache:"
   ]
  },
  {
   "cell_type": "code",
   "execution_count": null,
   "metadata": {
    "vscode": {
     "languageId": "xml"
    }
   },
   "outputs": [],
   "source": [
    "<property name=\"hibernate.cache.use_query_cache\" value=\"true\"/>"
   ]
  },
  {
   "cell_type": "markdown",
   "metadata": {},
   "source": [
    "### Técnicas de optimización"
   ]
  },
  {
   "cell_type": "markdown",
   "metadata": {},
   "source": [
    "#### Lazy Loading vs Eager Loading\n",
    "- **Lazy Loading**: Carga los datos únicamente cuando son necesarios, evitando grandes volúmenes de datos innecesarios.\n",
    "- **Eager Loading**: Carga los datos relacionados inmediatamente, útil cuando se necesita trabajar con múltiples datos al mismo tiempo."
   ]
  },
  {
   "cell_type": "code",
   "execution_count": null,
   "metadata": {
    "vscode": {
     "languageId": "java"
    }
   },
   "outputs": [],
   "source": [
    "@OneToMany(fetch = FetchType.LAZY)\n",
    "private List<Libro> libros;"
   ]
  },
  {
   "cell_type": "markdown",
   "metadata": {},
   "source": [
    "#### Resolución del problema N+1\n",
    "- Ocurre cuando Hibernate realiza múltiples consultas en lugar de una sola eficiente.\n",
    "- Usar **JOIN FETCH** para evitar múltiples consultas."
   ]
  },
  {
   "cell_type": "code",
   "execution_count": null,
   "metadata": {
    "vscode": {
     "languageId": "java"
    }
   },
   "outputs": [],
   "source": [
    "String jpql = \"SELECT autor FROM Autor autor JOIN FETCH autor.libros\";\n",
    "Query query = entityManager.createQuery(jpql);\n",
    "List<Autor> autores = query.getResultList();"
   ]
  },
  {
   "cell_type": "markdown",
   "metadata": {},
   "source": [
    "#### Indexación de consultas\n",
    "- Asegúrate de que las columnas utilizadas frecuentemente en filtros y búsquedas tengan índices en la base de datos."
   ]
  },
  {
   "cell_type": "markdown",
   "metadata": {},
   "source": [
    "#### Batch Processing:\n",
    "- Reduce la carga en la base de datos realizando operaciones en lotes (batch)."
   ]
  },
  {
   "cell_type": "code",
   "execution_count": null,
   "metadata": {
    "vscode": {
     "languageId": "java"
    }
   },
   "outputs": [],
   "source": [
    "sessionFactory.setJdbcBatchSize(20);"
   ]
  },
  {
   "cell_type": "markdown",
   "metadata": {},
   "source": [
    "#### Beneficios de una buena optimización\n",
    "- Menor número de consultas a la base de datos.\n",
    "- Reducción de la latencia.\n",
    "- Mejor escalabilidad de la aplicación."
   ]
  },
  {
   "cell_type": "markdown",
   "metadata": {},
   "source": [
    "## Ejercicio práctico\n",
    "Construir una aplicación para gestionar un sistema de bibliotecas con las siguientes entidades.\n",
    "- **Autor**: Contiene información sobre los autores (nombre, fecha de nacimiento).\n",
    "- **Libro**: Asociado a un autor, incluye detalles como título, género y número de páginas.\n",
    "- **Editorial**: Relacionada con varios libros, incluye el nombre y el país de origen.\n",
    "\n",
    "![Modelo de datos](https://www.plantuml.com/plantuml/png/ZP31JiCm38RlUGgh5oHG9xXEQ1eIt2OEy0HkOZfBQLBPpWdnxgobcJOEKozE_3dA___Ugw5O6Q9pFg8gl1JB0jyE0E013Zdrm67fFaturASyT48BUqKZ-29_n7VqF30bo_EeRUiVhFPyu4xo3k9qgFkfQZE-hMPi9UPhrbCYgOoJmOWz9zGhuIKAJlNIoblW4s6CEw1wfGjFv_dwBLGs8kkQy7VmGH4zvqGAb4negXmmaBe_syrJ0wrmVxGMciVDvhvPbhK5KY_SaPlxElptzXnY2sFf8djqUqgX3F4N)  \n",
    "[Modelo de datos](https://www.plantuml.com/plantuml/png/ZP31JiCm38RlUGgh5oHG9xXEQ1eIt2OEy0HkOZfBQLBPpWdnxhHR2kjbMWzk_3dA___Ugw5O6QBp4LNXfLWM-7OmVGzmoAa73hNxDE6fJtdeX2fxHIFu8d_4T_GyC2NBfr7RBc-mslE1EyaxYFDFtO-hQYTyNStOIinhrbCYMHWdWn5xJgWhuHe5vtffvItmH1ZZ3cWvqeMdl_djMrZOYAotXB-33uheEITIe6H2S-M0WTITRJTF3RJ2_T5QQ1utc_kcBciBf5wu8tVkwt1zzp_45iRIHVRezfH26U8l)"
   ]
  },
  {
   "cell_type": "code",
   "execution_count": null,
   "metadata": {
    "vscode": {
     "languageId": "java"
    }
   },
   "outputs": [],
   "source": [
    "@Entity\n",
    "public class Autor {\n",
    "    @Id\n",
    "    @GeneratedValue(strategy = GenerationType.IDENTITY)\n",
    "    private Long id;\n",
    "    private String nombre;\n",
    "    private Date fechaNacimiento;\n",
    "\n",
    "    @OneToMany(mappedBy = \"autor\", cascade = CascadeType.ALL)\n",
    "    private List<Libro> libros;\n",
    "}\n",
    "\n",
    "@Entity\n",
    "public class Libro {\n",
    "    @Id\n",
    "    @GeneratedValue(strategy = GenerationType.IDENTITY)\n",
    "    private Long id;\n",
    "    private String titulo;\n",
    "    private String genero;\n",
    "    private int paginas;\n",
    "\n",
    "    @ManyToOne\n",
    "    @JoinColumn(name = \"autor_id\", referencedColumnName = \"id\")\n",
    "    private Autor autor;\n",
    "\n",
    "    @ManyToMany\n",
    "    @JoinTable(\n",
    "        name = \"libro_editorial\",\n",
    "        joinColumns = @JoinColumn(name = \"libro_id\"),\n",
    "        inverseJoinColumns = @JoinColumn(name = \"editorial_id\")\n",
    "    )\n",
    "    private List<Editorial> editoriales;\n",
    "}\n",
    "\n",
    "@Entity\n",
    "public class Editorial {\n",
    "    @Id\n",
    "    @GeneratedValue(strategy = GenerationType.IDENTITY)\n",
    "    private Long id;\n",
    "    private String nombre;\n",
    "    private String pais;\n",
    "\n",
    "    @ManyToMany(mappedBy = \"editoriales\")\n",
    "    private List<Libro> libros;\n",
    "}"
   ]
  }
 ],
 "metadata": {
  "language_info": {
   "name": "python"
  }
 },
 "nbformat": 4,
 "nbformat_minor": 2
}
