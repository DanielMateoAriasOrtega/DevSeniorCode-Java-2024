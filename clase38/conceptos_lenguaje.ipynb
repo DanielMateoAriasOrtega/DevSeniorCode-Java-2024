{
 "cells": [
  {
   "cell_type": "markdown",
   "metadata": {},
   "source": [
    "# Conceptos del lenguaje"
   ]
  },
  {
   "cell_type": "markdown",
   "metadata": {},
   "source": [
    "## Introducción a ORM"
   ]
  },
  {
   "cell_type": "markdown",
   "metadata": {},
   "source": [
    "### ¿Qué es ORM?"
   ]
  },
  {
   "cell_type": "markdown",
   "metadata": {},
   "source": [
    "* **El Problema de la Persistencia de Objetos:**\n",
    "    * Imagina que estás construyendo una aplicación Java para gestionar una biblioteca. Tienes clases como `Libro`, `Autor`, `Usuario`, etc., que son objetos en tu programa.\n",
    "    * Ahora, necesitas guardar la información de estos objetos de forma permanente para que no se pierda cuando la aplicación se cierre. La forma más común de hacer esto es utilizando una **base de datos relacional** (como MySQL, PostgreSQL, etc.).\n",
    "    * Las bases de datos relacionales almacenan la información en **tablas** con **filas** y **columnas**. Esto significa que tienes que traducir tus objetos Java (con sus atributos y relaciones) a este formato tabular.\n",
    "    * Este proceso de traducir objetos a filas y viceversa puede ser tedioso y propenso a errores si lo haces manualmente con código SQL.\n",
    "* **Introducción al Mapeo Objeto-Relacional (ORM):**\n",
    "    * Aquí es donde entra en juego el **ORM (Object-Relational Mapping)**. Un ORM es una técnica de programación (y a menudo una biblioteca o framework) que **automatiza** la transferencia de datos entre tu aplicación orientada a objetos (como Java) y una base de datos relacional.\n",
    "    * Piensa en el ORM como un **traductor inteligente** que se encarga de convertir tus objetos Java en registros de la base de datos y viceversa, sin que tengas que escribir mucho código SQL directamente.\n",
    "* **Beneficios de Utilizar un ORM:**\n",
    "    * **Productividad:** Reduce la cantidad de código repetitivo (boilerplate) necesario para interactuar con la base de datos. Los desarrolladores pueden centrarse más en la lógica de negocio.\n",
    "    * **Portabilidad:** Al abstraer la base de datos subyacente, cambiar de una base de datos a otra puede ser menos complicado (aunque no siempre es trivial). El ORM se encarga de generar el SQL específico para cada motor de base de datos.\n",
    "    * **Seguridad:** Ayuda a prevenir ciertos tipos de vulnerabilidades de seguridad, como la inyección SQL, al parametrizar automáticamente las consultas.\n",
    "    * **Mantenibilidad:** El código suele ser más limpio, legible y fácil de mantener al separar la lógica de negocio del acceso a los datos.\n",
    "    * **Orientación a Objetos:** Permite trabajar con la base de datos utilizando conceptos orientados a objetos, lo que resulta más natural para los desarrolladores de Java."
   ]
  },
  {
   "cell_type": "markdown",
   "metadata": {},
   "source": [
    "### Ejemplos de ORM en diferentes lenguajes."
   ]
  },
  {
   "cell_type": "markdown",
   "metadata": {},
   "source": [
    "* Para que veas que el concepto de ORM no es exclusivo de Java, mencionaremos brevemente algunos ejemplos en otros lenguajes populares:\n",
    "    * **Python:** Django ORM, SQLAlchemy\n",
    "    * **Ruby:** ActiveRecord (en Ruby on Rails)\n",
    "    * **.NET:** Entity Framework\n",
    "    * **PHP:** Doctrine, Eloquent (en Laravel)\n",
    "* Esto te dará una idea de que la necesidad de facilitar la interacción con las bases de datos desde lenguajes orientados a objetos es una preocupación común en el desarrollo de software."
   ]
  },
  {
   "cell_type": "markdown",
   "metadata": {},
   "source": [
    "### El papel de JPA (Java Persistence API)."
   ]
  },
  {
   "cell_type": "markdown",
   "metadata": {},
   "source": [
    "* **JPA como una Especificación, No una Implementación:**\n",
    "    * La **Java Persistence API (JPA)** es una **especificación** de Java EE (ahora Jakarta EE). Esto significa que define un conjunto de interfaces y reglas sobre cómo deben implementarse las soluciones de ORM en Java.\n",
    "    * Piensa en JPA como un **estándar** o un **contrato**. Define *qué* funcionalidades debe proporcionar un ORM en Java, pero no dice *cómo* debe implementarse.\n",
    "* **Proveedores de JPA:**\n",
    "    * Para poder utilizar JPA en tu proyecto, necesitas una **implementación** de esta especificación. Estas implementaciones son proporcionadas por diferentes **proveedores**.\n",
    "    * Los proveedores de JPA más comunes y populares en el ecosistema Java son:\n",
    "        * **Hibernate:** Es la implementación de JPA más utilizada y de facto el estándar en muchos proyectos Java.\n",
    "        * **EclipseLink:** Es el proveedor de referencia de JPA, desarrollado como parte del proyecto Eclipse.\n",
    "        * **OpenJPA**: Otro proveedor de JPA de código abierto (Apache).\n",
    "    * En esta clase, nos centraremos principalmente en **Hibernate** como la implementación de JPA que utilizaremos.\n",
    "\n"
   ]
  },
  {
   "cell_type": "markdown",
   "metadata": {},
   "source": [
    "### ¿Qué es Hibernate?\n"
   ]
  },
  {
   "cell_type": "markdown",
   "metadata": {},
   "source": [
    "* **Hibernate como una Implementación Popular de JPA:**\n",
    "    * **Hibernate** es un **framework ORM potente y flexible** que implementa la especificación JPA. Es decir, Hibernate sigue las reglas definidas por JPA y proporciona las funcionalidades necesarias para el mapeo objeto-relacional en Java.\n",
    "    * Aunque Hibernate implementa JPA, también ofrece algunas características y extensiones propias más allá de lo que especifica JPA.\n",
    "* **Ventajas Específicas de Hibernate:**\n",
    "    * **Madurez y Comunidad:** Hibernate es un proyecto muy maduro con una gran comunidad activa, lo que significa que hay mucha documentación, ejemplos y soporte disponible.\n",
    "    * **Amplia Funcionalidad:** Ofrece una amplia gama de características para el mapeo avanzado, estrategias de caché, optimización de consultas, etc.\n",
    "    * **Flexibilidad:** Permite diferentes niveles de configuración y personalización para adaptarse a las necesidades específicas del proyecto.\n",
    "    * **Integración:** Se integra bien con otros frameworks de Java como Spring."
   ]
  },
  {
   "cell_type": "markdown",
   "metadata": {},
   "source": [
    "## Incluyendo JPA en un Proyecto Java 21"
   ]
  },
  {
   "cell_type": "markdown",
   "metadata": {},
   "source": [
    "### 1. Configuración del Proyecto"
   ]
  },
  {
   "cell_type": "markdown",
   "metadata": {},
   "source": [
    "Antes de empezar a escribir código relacionado con JPA, necesitamos configurar nuestro proyecto para que pueda utilizar las bibliotecas necesarias. Utilizaremos herramientas de gestión de dependencias como Maven o Gradle, que simplifican la inclusión de librerías externas."
   ]
  },
  {
   "cell_type": "markdown",
   "metadata": {},
   "source": [
    "#### Creación de un Proyecto Java con Maven o Gradle\n",
    "* **Maven:**\n",
    "    * Maven es una herramienta ampliamente utilizada para la gestión de proyectos Java. Define una estructura de proyecto estándar y facilita la gestión de dependencias.\n",
    "    * Si estás utilizando Maven, tu archivo principal de configuración es `pom.xml`. En este archivo, definirás las dependencias de tu proyecto.\n",
    "\n",
    "* **Gradle:**\n",
    "    * Gradle es otra potente herramienta de construcción que ha ganado popularidad en los últimos años. Utiliza un lenguaje de construcción basado en Groovy o Kotlin.\n",
    "    * Si tu proyecto utiliza Gradle, el archivo de configuración principal es `build.gradle`.\n",
    "\n",
    "La elección entre Maven y Gradle a menudo depende de las preferencias del equipo o los requisitos del proyecto. Ambos son excelentes herramientas para gestionar las dependencias de nuestro proyecto JPA.\n",
    "\n",
    "#### Adición de la dependencia de Hibernate\n",
    "\n",
    "Para utilizar Hibernate como nuestra implementación de JPA, debemos declarar las dependencias necesarias en nuestro archivo de configuración del proyecto.\n",
    "\n",
    "* **Para proyectos Maven (en `pom.xml`):**\n",
    "\n",
    "    Asegúrate de tener la sección `<dependencies>` en tu `pom.xml` y añade las siguientes dependencias:"
   ]
  },
  {
   "cell_type": "code",
   "execution_count": null,
   "metadata": {
    "vscode": {
     "languageId": "xml"
    }
   },
   "outputs": [],
   "source": [
    "<dependencies>\n",
    "    <dependency>\n",
    "        <groupId>org.hibernate.orm</groupId>\n",
    "        <artifactId>hibernate-core</artifactId>\n",
    "        <version>6.2.1.Final</version>\n",
    "    </dependency>\n",
    "\n",
    "    <dependency>\n",
    "        <groupId>jakarta.persistence</groupId>\n",
    "        <artifactId>jakarta.persistence-api</artifactId>\n",
    "        <version>3.1.0</version>\n",
    "    </dependency>\n",
    "\n",
    "    <dependency>\n",
    "        <groupId>org.postgresql</groupId>\n",
    "        <artifactId>postgresql</artifactId>\n",
    "        <version>42.7.4</version>\n",
    "    </dependency>\n",
    "</dependencies>"
   ]
  },
  {
   "cell_type": "markdown",
   "metadata": {},
   "source": [
    "* **Para proyectos Gradle (en `build.gradle`):**\n",
    "\n",
    "    Dentro del bloque `dependencies`, añade las siguientes líneas:"
   ]
  },
  {
   "cell_type": "code",
   "execution_count": null,
   "metadata": {
    "vscode": {
     "languageId": "groovy"
    }
   },
   "outputs": [],
   "source": [
    "dependencies {\n",
    "    // Implementación de Hibernate (JPA)\n",
    "    implementation 'org.hibernate.orm:hibernate-core:6.2.1.Final' // Reemplazar con la versión más reciente\n",
    "\n",
    "    // API de JPA (la especificación)\n",
    "    implementation 'jakarta.persistence:jakarta.persistence-api:3.1.0' // Reemplazar con la versión más reciente\n",
    "\n",
    "    // (Opcional) Driver JDBC para la base de datos que vayas a usar (ejemplo para MySQL)\n",
    "    implementation 'org.postgresql:postgresql:42.7.4' // Reemplazar con la versión más reciente\n",
    "    // Añade aquí el driver JDBC para tu base de datos (PostgreSQL, H2, etc.)\n",
    "}"
   ]
  },
  {
   "cell_type": "markdown",
   "metadata": {},
   "source": [
    "**Recuerda:** Necesitarás incluir el driver JDBC específico para la base de datos que planeas utilizar en tu proyecto (por ejemplo, `postgresql` para PostgreSQL, `com.h2database` para H2, etc.)."
   ]
  },
  {
   "cell_type": "markdown",
   "metadata": {},
   "source": [
    "### 2. El archivo de configuración de JPA (`persistence.xml`)"
   ]
  },
  {
   "cell_type": "markdown",
   "metadata": {},
   "source": [
    "El archivo `persistence.xml` es el corazón de la configuración de JPA en nuestro proyecto. Contiene la información necesaria para que JPA sepa cómo conectarse a la base de datos y qué proveedor de persistencia (en nuestro caso, Hibernate) utilizar.\n",
    "\n",
    "#### Ubicación del archivo:\n",
    "Este archivo debe colocarse en la carpeta `META-INF` dentro del directorio de recursos de tu proyecto. La ruta típica es `src/main/resources/META-INF/persistence.xml` en proyectos Maven y Gradle.\n",
    "\n",
    "#### Estructura básica:\n",
    "Aquí tienes la estructura XML fundamental del archivo `persistence.xml`:"
   ]
  },
  {
   "cell_type": "code",
   "execution_count": null,
   "metadata": {
    "vscode": {
     "languageId": "xml"
    }
   },
   "outputs": [],
   "source": [
    "<?xml version=\"1.0\" encoding=\"UTF-8\"?>\n",
    "<persistence version=\"3.0\"\n",
    "                xmlns=\"https://jakarta.ee/xml/ns/persistence\"\n",
    "                xmlns:xsi=\"http://www.w3.org/2001/XMLSchema-instance\"\n",
    "                xsi:schemaLocation=\"https://jakarta.ee/xml/ns/persistence\n",
    "                                    https://jakarta.ee/xml/ns/persistence/persistence_3_0.xsd\">\n",
    "    <persistence-unit name=\"miUnidadDePersistencia\">\n",
    "        \n",
    "    </persistence-unit>\n",
    "</persistence>"
   ]
  },
  {
   "cell_type": "markdown",
   "metadata": {},
   "source": [
    "* _Explicación:_\n",
    "    * `<persistence>`: El elemento raíz del archivo. El atributo `version` especifica la versión de la especificación JPA que se está utilizando.  \n",
    "    * `<persistence-unit>`: Define una unidad de persistencia. El atributo `name` es crucial, ya que lo utilizaremos en nuestro código Java para referenciar esta configuración. Puedes elegir un nombre descriptivo para tu unidad de persistencia (en el ejemplo, `miUnidadDePersistencia`).\n",
    "\n",
    "#### Configuración de la unidad de persistencia:\n",
    "Dentro de la etiqueta `<persistence-unit>`, debemos especificar el proveedor de JPA y las propiedades de conexión a la base de datos.\n",
    "\n",
    "* **Especificación del proveedor de JPA:**\n",
    "\n",
    "    Utilizamos la etiqueta `<provider>` para indicar a JPA qué implementación utilizar. Para Hibernate, la clase del proveedor es:\n"
   ]
  },
  {
   "cell_type": "code",
   "execution_count": null,
   "metadata": {
    "vscode": {
     "languageId": "xml"
    }
   },
   "outputs": [],
   "source": [
    "<provider>org.hibernate.jpa.HibernatePersistenceProvider</provider>"
   ]
  },
  {
   "cell_type": "markdown",
   "metadata": {},
   "source": [
    "* **Configuración de la conexión a la base de datos (JDBC):**\n",
    "\n",
    "    Las propiedades de conexión a la base de datos se definen dentro de la etiqueta `<properties>`. Aquí especificamos el driver JDBC, la URL de la base de datos, el usuario y la contraseña."
   ]
  },
  {
   "cell_type": "code",
   "execution_count": null,
   "metadata": {
    "vscode": {
     "languageId": "xml"
    }
   },
   "outputs": [],
   "source": [
    "<properties>\n",
    "    <property name=\"jakarta.persistence.jdbc.driver\" value=\"org.postgresql.Driver\"/>\n",
    "    <property name=\"jakarta.persistence.jdbc.url\" value=\"jdbc:postgresql://localhost:5432/mi_base_de_datos\"/>\n",
    "    <property name=\"jakarta.persistence.jdbc.user\" value=\"usuario\"/>\n",
    "    <property name=\"jakarta.persistence.jdbc.password\" value=\"contraseña\"/>\n",
    "</properties>"
   ]
  },
  {
   "cell_type": "markdown",
   "metadata": {},
   "source": [
    "* **Opciones de configuración de Hibernate (ejemplos):**\n",
    "\n",
    "    Hibernate ofrece varias propiedades específicas que puedes configurar dentro de la etiqueta `<properties>` para ajustar su comportamiento. Aquí algunos ejemplos comunes:"
   ]
  },
  {
   "cell_type": "code",
   "execution_count": null,
   "metadata": {
    "vscode": {
     "languageId": "xml"
    }
   },
   "outputs": [],
   "source": [
    "<properties>\n",
    "    <property name=\"hibernate.dialect\" value=\"org.hibernate.dialect.PostgreSQLDialect\"/>\n",
    "    <property name=\"hibernate.show_sql\" value=\"true\"/>\n",
    "    <property name=\"hibernate.format_sql\" value=\"true\"/>\n",
    "</properties>"
   ]
  },
  {
   "cell_type": "markdown",
   "metadata": {},
   "source": [
    "* _Explicación:_\n",
    "    * `hibernate.dialect`: Especifica el dialecto SQL que Hibernate debe utilizar para comunicarse con tu base de datos. Esto permite a Hibernate generar SQL optimizado para ese motor en particular. Consulta la documentación de Hibernate para el dialecto correcto de tu base de datos.\n",
    "    * `hibernate.show_sql`: Cuando se establece en `true`, Hibernate mostrará en la consola las consultas SQL que genera. Esto es muy útil durante el desarrollo para entender qué está haciendo Hibernate.\n",
    "    * `hibernate.format_sql`: Si `hibernate.show_sql` es `true`, esta propiedad formatea las consultas SQL mostradas, haciéndolas más legibles.\n",
    "    * `hibernate.hbm2ddl.auto`: Esta propiedad controla la generación automática del esquema de la base de datos por parte de Hibernate. **Precaución:** No se recomienda para entornos de producción, ya que puede provocar la pérdida de datos. Algunos valores comunes son:\n",
    "        * `create-drop`: Crea el esquema al inicio de la aplicación y lo elimina al finalizar.\n",
    "        * `update`: Intenta actualizar el esquema existente según las entidades.\n",
    "        * `create`: Crea el esquema al inicio (si no existe).\n",
    "        * `validate`: Valida que el esquema de la base de datos coincida con las entidades."
   ]
  },
  {
   "cell_type": "markdown",
   "metadata": {},
   "source": [
    "### 3. Creación del `EntityManagerFactory` y el `EntityManager`"
   ]
  },
  {
   "cell_type": "markdown",
   "metadata": {},
   "source": [
    "\n",
    "Una vez que hemos configurado nuestro proyecto y el archivo `persistence.xml`, necesitamos escribir código Java para interactuar con JPA. Las interfaces clave para esto son `EntityManagerFactory` y `EntityManager`.\n",
    "\n",
    "* **`EntityManagerFactory`:**\n",
    "\n",
    "    La `EntityManagerFactory` es una fábrica para crear instancias de `EntityManager`. Es una operación costosa de crear, por lo que generalmente se crea una única instancia por unidad de persistencia para toda la aplicación. Piensa en ella como la puerta de entrada a tu configuración de persistencia. La `EntityManagerFactory` es thread-safe, lo que significa que múltiples hilos pueden acceder a ella de forma segura.\n",
    "\n",
    "* **`EntityManager`:**\n",
    "\n",
    "    El `EntityManager` representa un contexto de persistencia. Es una interfaz que utilizamos para realizar operaciones como guardar (persist), buscar (find), actualizar (merge) y eliminar (remove) entidades. Un `EntityManager` está asociado con una unidad de trabajo (por ejemplo, una transacción o una petición web) y no es thread-safe. Por lo tanto, generalmente se crea una nueva instancia de `EntityManager` por cada unidad de trabajo y se cierra una vez que se completa.\n",
    "\n",
    "* **Obteniendo un `EntityManager`:**\n",
    "\n",
    "    Para obtener un `EntityManager`, primero necesitamos crear una instancia de `EntityManagerFactory`. Esto se hace utilizando la clase `Persistence` y el nombre de nuestra unidad de persistencia definido en `persistence.xml`."
   ]
  },
  {
   "cell_type": "code",
   "execution_count": null,
   "metadata": {
    "vscode": {
     "languageId": "java"
    }
   },
   "outputs": [],
   "source": [
    "import jakarta.persistence.EntityManager;\n",
    "import jakarta.persistence.EntityManagerFactory;\n",
    "import jakarta.persistence.Persistence;\n",
    "\n",
    "public class EntityManagerUtil {\n",
    "\n",
    "    private static EntityManagerFactory emf;\n",
    "\n",
    "    public static EntityManager getEntityManager() {\n",
    "        if (emf == null) {\n",
    "            // \"miUnidadDePersistencia\" debe coincidir con el nombre en persistence.xml\n",
    "            emf = Persistence.createEntityManagerFactory(\"miUnidadDePersistencia\");\n",
    "        }\n",
    "        return emf.createEntityManager();\n",
    "    }\n",
    "\n",
    "    public static void closeEntityManagerFactory() {\n",
    "        if (emf != null && emf.isOpen()) {\n",
    "            emf.close();\n",
    "        }\n",
    "    }\n",
    "}\n",
    "\n",
    "// Ejemplo de uso en alguna parte de la aplicación:\n",
    "public class EjemploUsoEntityManager {\n",
    "    public static void main(String[] args) {\n",
    "        var entityManager = EntityManagerUtil.getEntityManager();\n",
    "        try {\n",
    "            // Aquí realizarías operaciones con la base de datos usando entityManager\n",
    "            System.out.println(\"EntityManager creado exitosamente.\");\n",
    "        } finally {\n",
    "            if (entityManager != null && entityManager.isOpen()) {\n",
    "                entityManager.close();\n",
    "            }\n",
    "            EntityManagerUtil.closeEntityManagerFactory(); // Cerrar la fábrica al finalizar la aplicación\n",
    "        }\n",
    "    }\n",
    "}\n"
   ]
  },
  {
   "cell_type": "markdown",
   "metadata": {},
   "source": [
    "Es **fundamental** cerrar el `EntityManager` después de utilizarlo para liberar los recursos asociados. También es importante cerrar la `EntityManagerFactory` cuando la aplicación finaliza.\n",
    "\n",
    "En aplicaciones más complejas, especialmente aquellas que utilizan frameworks como Spring, la gestión del `EntityManagerFactory` y el `EntityManager` a menudo se delega al contenedor, simplificando el código y garantizando una gestión adecuada de los recursos."
   ]
  },
  {
   "cell_type": "markdown",
   "metadata": {},
   "source": [
    "## Mapeo de Entidades y Relaciones"
   ]
  },
  {
   "cell_type": "markdown",
   "metadata": {},
   "source": [
    "### Concepto de Entidad"
   ]
  },
  {
   "cell_type": "markdown",
   "metadata": {},
   "source": [
    "En JPA, una **entidad** es una clase Java que representa una tabla en nuestra base de datos. Cada instancia de una entidad corresponde a una fila en esa tabla. Para que una clase Java sea reconocida como una entidad por JPA, debemos anotarla con la anotación `@Entity`.\n",
    "\n",
    "* **Definición de una Entidad JPA (`@Entity`):**\n",
    "\n",
    "    La anotación `@Entity` se aplica a nivel de clase y marca esa clase como una entidad persistente. Por convención, las entidades deben tener un constructor sin argumentos (puede ser implícito si no se define ningún otro constructor) y un identificador único (clave primaria).\n"
   ]
  },
  {
   "cell_type": "code",
   "execution_count": null,
   "metadata": {
    "vscode": {
     "languageId": "java"
    }
   },
   "outputs": [],
   "source": [
    "import jakarta.persistence.Entity;\n",
    "\n",
    "@Entity\n",
    "public class Libro {\n",
    "    // ... atributos y métodos ...\n",
    "}"
   ]
  },
  {
   "cell_type": "markdown",
   "metadata": {},
   "source": [
    "* **Mapeo a una Tabla Específica (`@Table`):**\n",
    "\n",
    "    Por defecto, JPA asume que el nombre de la tabla en la base de datos coincide con el nombre de la clase de la entidad. Sin embargo, podemos personalizar el nombre de la tabla y otros aspectos utilizando la anotación `@Table`.\n",
    "\n",
    "    La anotación `@Table` también permite especificar el `schema` y el `catalog` de la tabla si es necesario."
   ]
  },
  {
   "cell_type": "code",
   "execution_count": null,
   "metadata": {
    "vscode": {
     "languageId": "java"
    }
   },
   "outputs": [],
   "source": [
    "import jakarta.persistence.Entity;\n",
    "import jakarta.persistence.Table;\n",
    "\n",
    "@Entity\n",
    "@Table(name = \"LIBROS\") // Especifica que esta entidad se mapea a la tabla llamada \"LIBROS\"\n",
    "public class Libro {\n",
    "    // ... atributos y métodos ...\n",
    "}"
   ]
  },
  {
   "cell_type": "markdown",
   "metadata": {},
   "source": [
    "* **Definición de la Clave Primaria (`@Id` y `@GeneratedValue`):**\n",
    "\n",
    "    Cada entidad debe tener una clave primaria que la identifique de forma única en la tabla correspondiente. En JPA, la clave primaria se define utilizando la anotación `@Id` sobre el atributo correspondiente.\n",
    "\n",
    "    Para que la base de datos genere automáticamente el valor de la clave primaria (autoincremental, secuencia, etc.), utilizamos la anotación `@GeneratedValue`. El atributo `strategy` de `@GeneratedValue` especifica la estrategia de generación a utilizar. Algunas estrategias comunes son:\n",
    "\n",
    "    * `GenerationType.IDENTITY`: La base de datos genera el valor (típicamente para columnas autoincrementales).\n",
    "    * `GenerationType.SEQUENCE`: Utiliza una secuencia de base de datos para generar el valor.\n",
    "    * `GenerationType.TABLE`: Utiliza una tabla especial para simular secuencias.\n",
    "    * `GenerationType.AUTO`: JPA elige la estrategia más apropiada según la base de datos."
   ]
  },
  {
   "cell_type": "code",
   "execution_count": null,
   "metadata": {
    "vscode": {
     "languageId": "java"
    }
   },
   "outputs": [],
   "source": [
    "import jakarta.persistence.Entity;\n",
    "import jakarta.persistence.GeneratedValue;\n",
    "import jakarta.persistence.GenerationType;\n",
    "import jakarta.persistence.Id;\n",
    "\n",
    "@Entity\n",
    "public class Libro {\n",
    "    @Id\n",
    "    @GeneratedValue(strategy = GenerationType.IDENTITY)\n",
    "    private Long id;\n",
    "\n",
    "    // ... otros atributos y métodos ...\n",
    "}"
   ]
  },
  {
   "cell_type": "markdown",
   "metadata": {},
   "source": [
    "\n",
    "* **Mapeo de Atributos (`@Basic`, `@Column`, `@Transient`, `@Enumerated`, `@Temporal`):**\n",
    "\n",
    "    Los atributos de nuestra entidad se mapean a las columnas de la tabla de la base de datos. Por defecto, si un atributo no está anotado con `@Transient`, JPA intentará mapearlo a una columna con el mismo nombre que el atributo. Sin embargo, podemos personalizar el mapeo utilizando anotaciones como:\n",
    "\n",
    "    * `@Basic`: Marca un atributo como un mapeo básico a una columna. Es opcional, ya que se asume por defecto para tipos primitivos y `String`.\n",
    "    * `@Column`: Permite especificar detalles sobre la columna, como el nombre (`name`), si puede ser nula (`nullable`), la longitud (`length`), si es única (`unique`), etc.\n",
    "    * `@Transient`: Esta anotación se utiliza para marcar un atributo de la entidad que **no debe ser persistido** en la base de datos. Es útil para atributos temporales o calculados que no necesitan almacenamiento permanente."
   ]
  },
  {
   "cell_type": "code",
   "execution_count": null,
   "metadata": {
    "vscode": {
     "languageId": "java"
    }
   },
   "outputs": [],
   "source": [
    "import jakarta.persistence.Basic;\n",
    "import jakarta.persistence.Column;\n",
    "import jakarta.persistence.Entity;\n",
    "import jakarta.persistence.GeneratedValue;\n",
    "import jakarta.persistence.GenerationType;\n",
    "import jakarta.persistence.Id;\n",
    "\n",
    "@Entity\n",
    "public class Libro {\n",
    "    @Id\n",
    "    @GeneratedValue(strategy = GenerationType.IDENTITY)\n",
    "    private Long id;\n",
    "\n",
    "    @Basic\n",
    "    private String titulo;\n",
    "\n",
    "    @Column(name = \"isbn_code\", length = 20, unique = true, nullable = false)\n",
    "    private String isbn;\n",
    "\n",
    "    private int paginas;\n",
    "\n",
    "    @Transient\n",
    "    private String resumenCorto; // Este atributo no se mapeará a una columna\n",
    "\n",
    "\n",
    "    // ... getters y setters ...\n",
    "}"
   ]
  },
  {
   "cell_type": "markdown",
   "metadata": {},
   "source": [
    "*   * `Enumerated`: Esta anotación se utiliza para mapear atributos que son de tipo `Enum`. Define cómo se debe almacenar el valor del enum en la base de datos. Tiene dos posibles valores para su atributo `value`:\n",
    "        * `EnumType.ORDINAL`: El enum se almacena como su posición ordinal (índice) en la declaración del enum (0, 1, 2, ...). **Advertencia:** No se recomienda si el orden de los valores del enum puede cambiar en el futuro.\n",
    "        * `EnumType.STRING`: El enum se almacena como su nombre de cadena (ej., \"BORRADOR\", \"PUBLICADO\"). Esta es la opción más segura para la evolución del enum.\n"
   ]
  },
  {
   "cell_type": "code",
   "execution_count": null,
   "metadata": {
    "vscode": {
     "languageId": "java"
    }
   },
   "outputs": [],
   "source": [
    "import jakarta.persistence.Entity;\n",
    "import jakarta.persistence.EnumType;\n",
    "import jakarta.persistence.Enumerated;\n",
    "import jakarta.persistence.GeneratedValue;\n",
    "import jakarta.persistence.GenerationType;\n",
    "import jakarta.persistence.Id;\n",
    "\n",
    "public enum EstadoLibro {\n",
    "    BORRADOR, PUBLICADO, ARCHIVADO\n",
    "}\n",
    "\n",
    "@Entity\n",
    "public class Libro {\n",
    "    @Id\n",
    "    @GeneratedValue(strategy = GenerationType.IDENTITY)\n",
    "    private Long id;\n",
    "\n",
    "    private String titulo;\n",
    "\n",
    "    @Enumerated(EnumType.STRING)\n",
    "    private EstadoLibro estado;\n",
    "\n",
    "    // ... otros atributos y métodos ...\n",
    "}"
   ]
  },
  {
   "cell_type": "markdown",
   "metadata": {},
   "source": [
    "*    * `@Temporal`: Esta anotación se utilizaba en versiones anteriores de JPA para especificar el tipo de dato temporal de los atributos `java.util.Date` y `java.util.Calendar`. En JPA 2.2 y posteriores (y por lo tanto, en Java 21), se recomienda utilizar los nuevos tipos de la API `java.time` (como `LocalDate`, `LocalDateTime`, `Instant`, etc.) que no requieren la anotación `@Temporal`. JPA los mapea automáticamente al tipo de columna de fecha/hora apropiado en la base de datos.\n",
    "\n",
    "        Si aún necesitas trabajar con `java.util.Date` o `java.util.Calendar` (por compatibilidad con código legado), `@Temporal` tiene los siguientes valores:\n",
    "        * `TemporalType.DATE`: Almacena solo la fecha (año, mes, día).\n",
    "        * `TemporalType.TIME`: Almacena solo la hora (horas, minutos, segundos).\n",
    "        * `TemporalType.TIMESTAMP`: Almacena la fecha y la hora (con precisión de milisegundos, dependiendo de la base de datos).\n"
   ]
  },
  {
   "cell_type": "code",
   "execution_count": null,
   "metadata": {
    "vscode": {
     "languageId": "java"
    }
   },
   "outputs": [],
   "source": [
    "import jakarta.persistence.Entity;\n",
    "import jakarta.persistence.GeneratedValue;\n",
    "import jakarta.persistence.GenerationType;\n",
    "import jakarta.persistence.Id;\n",
    "import jakarta.persistence.Temporal;\n",
    "import jakarta.persistence.TemporalType;\n",
    "import java.util.Date;\n",
    "\n",
    "@Entity\n",
    "public class Evento {\n",
    "    @Id\n",
    "    @GeneratedValue(strategy = GenerationType.IDENTITY)\n",
    "    private Long id;\n",
    "\n",
    "    private String nombre;\n",
    "\n",
    "    @Temporal(TemporalType.TIMESTAMP)\n",
    "    private Date fechaHora;\n",
    "\n",
    "    // ... otros atributos y métodos ...\n",
    "}"
   ]
  },
  {
   "cell_type": "markdown",
   "metadata": {},
   "source": [
    "### Relaciones entre Entidades"
   ]
  },
  {
   "cell_type": "markdown",
   "metadata": {},
   "source": [
    "En el mundo real, las entidades a menudo están relacionadas entre sí. JPA nos proporciona anotaciones para definir y gestionar estas relaciones en nuestra base de datos. Veremos las relaciones más comunes: Uno a Uno, Uno a Muchos/Muchos a Uno y Muchos a Muchos.\n",
    "\n",
    "#### a) Relación Uno a Uno (`@OneToOne`)\n",
    "\n",
    "Una relación Uno a Uno indica que una instancia de una entidad está relacionada con exactamente una instancia de otra entidad, y viceversa (aunque la bidireccionalidad es opcional).\n",
    "\n",
    "* **Explicación y Casos de Uso:** Por ejemplo, una persona puede tener un único pasaporte, y un pasaporte pertenece a una única persona.\n",
    "\n",
    "* **Mapeo con Ejemplos (Unidireccional):**\n",
    "\n",
    "    En una relación unidireccional, solo una de las entidades tiene una referencia a la otra. Utilizamos la anotación `@OneToOne` en la entidad que tiene la referencia."
   ]
  },
  {
   "cell_type": "code",
   "execution_count": null,
   "metadata": {
    "vscode": {
     "languageId": "java"
    }
   },
   "outputs": [],
   "source": [
    "import jakarta.persistence.CascadeType;\n",
    "import jakarta.persistence.Entity;\n",
    "import jakarta.persistence.GeneratedValue;\n",
    "import jakarta.persistence.GenerationType;\n",
    "import jakarta.persistence.Id;\n",
    "import jakarta.persistence.JoinColumn;\n",
    "import jakarta.persistence.OneToOne;\n",
    "\n",
    "@Entity\n",
    "public class Persona {\n",
    "    @Id\n",
    "    @GeneratedValue(strategy = GenerationType.IDENTITY)\n",
    "    private Long id;\n",
    "\n",
    "    private String nombre;\n",
    "\n",
    "    @OneToOne(cascade = CascadeType.ALL)\n",
    "    @JoinColumn(name = \"pasaporte_id\", unique = true)\n",
    "    private Pasaporte pasaporte;\n",
    "\n",
    "    // ... getters y setters ...\n",
    "}\n",
    "\n",
    "@Entity\n",
    "public class Pasaporte {\n",
    "    @Id\n",
    "    @GeneratedValue(strategy = GenerationType.IDENTITY)\n",
    "    private Long id;\n",
    "\n",
    "    private String numero;\n",
    "\n",
    "    // ... getters y setters ...\n",
    "}"
   ]
  },
  {
   "cell_type": "markdown",
   "metadata": {},
   "source": [
    "* _Explicación:_\n",
    "    * `@OneToOne`: Marca la relación.\n",
    "    * `cascade = CascadeType.ALL`: Propaga las operaciones (persistir, eliminar, etc.) desde la entidad `Persona` a la entidad `Pasaporte`.\n",
    "    * `@JoinColumn(name = \"pasaporte_id\", unique = true)`: Especifica la columna en la tabla `Persona` que se utilizará como clave foránea para referenciar la tabla `Pasaporte`. `unique = true` asegura la cardinalidad uno a uno.\n",
    "\n",
    "* **Mapeo con Ejemplos (Bidireccional):**\n",
    "\n",
    "    En una relación bidireccional, ambas entidades tienen una referencia a la otra. Necesitamos utilizar la anotación `@OneToOne` en ambas entidades y utilizar el atributo `mappedBy` en una de ellas para indicar cuál es la \"dueña\" de la relación (la que contiene la clave foránea en su tabla)."
   ]
  },
  {
   "cell_type": "code",
   "execution_count": null,
   "metadata": {
    "vscode": {
     "languageId": "java"
    }
   },
   "outputs": [],
   "source": [
    "import jakarta.persistence.CascadeType;\n",
    "import jakarta.persistence.Entity;\n",
    "import jakarta.persistence.GeneratedValue;\n",
    "import jakarta.persistence.GenerationType;\n",
    "import jakarta.persistence.Id;\n",
    "import jakarta.persistence.JoinColumn;\n",
    "import jakarta.persistence.OneToOne;\n",
    "\n",
    "@Entity\n",
    "public class Persona {\n",
    "    @Id\n",
    "    @GeneratedValue(strategy = GenerationType.IDENTITY)\n",
    "    private Long id;\n",
    "\n",
    "    private String nombre;\n",
    "\n",
    "    @OneToOne(cascade = CascadeType.ALL)\n",
    "    @JoinColumn(name = \"pasaporte_id\", unique = true)\n",
    "    private Pasaporte pasaporte;\n",
    "\n",
    "    // ... getters y setters ...\n",
    "}"
   ]
  },
  {
   "cell_type": "code",
   "execution_count": null,
   "metadata": {
    "vscode": {
     "languageId": "java"
    }
   },
   "outputs": [],
   "source": [
    "import jakarta.persistence.Entity;\n",
    "import jakarta.persistence.GeneratedValue;\n",
    "import jakarta.persistence.GenerationType;\n",
    "import jakarta.persistence.Id;\n",
    "import jakarta.persistence.OneToOne;\n",
    "import jakarta.persistence.PrimaryKeyJoinColumn;\n",
    "\n",
    "@Entity\n",
    "public class Pasaporte {\n",
    "    @Id\n",
    "    @GeneratedValue(strategy = GenerationType.IDENTITY)\n",
    "    private Long id;\n",
    "\n",
    "    private String numero;\n",
    "\n",
    "    @OneToOne(mappedBy = \"pasaporte\")\n",
    "    private Persona persona;\n",
    "\n",
    "    // ... getters y setters ...\n",
    "}"
   ]
  },
  {
   "cell_type": "markdown",
   "metadata": {},
   "source": [
    "* _Explicación:_\n",
    "    * En `Pasaporte`, `mappedBy = \"pasaporte\"` indica que la relación ya está gestionada por el atributo `pasaporte` en la clase `Persona`.\n",
    "\n",
    "    Otra forma común para relaciones uno a uno bidireccionales con clave primaria compartida es usar `@PrimaryKeyJoinColumn`:\n"
   ]
  },
  {
   "cell_type": "code",
   "execution_count": null,
   "metadata": {
    "vscode": {
     "languageId": "java"
    }
   },
   "outputs": [],
   "source": [
    "import jakarta.persistence.Entity;\n",
    "import jakarta.persistence.Id;\n",
    "import jakarta.persistence.OneToOne;\n",
    "import jakarta.persistence.PrimaryKeyJoinColumn;\n",
    "\n",
    "@Entity\n",
    "public class Pasaporte {\n",
    "    @Id\n",
    "    private Long id; // La misma ID que la persona\n",
    "\n",
    "    private String numero;\n",
    "\n",
    "    @OneToOne\n",
    "    @PrimaryKeyJoinColumn\n",
    "    private Persona persona;\n",
    "\n",
    "    // ... getters y setters ...\n",
    "}"
   ]
  },
  {
   "cell_type": "markdown",
   "metadata": {},
   "source": [
    "* _Explicación:_\n",
    "    Aquí, la clave primaria de `Pasaporte` también es clave foránea a `Persona`.\n",
    "\n",
    "#### b) Relación Uno a Muchos / Muchos a Uno (`@OneToMany` / `@ManyToOne`)\n",
    "\n",
    "Estas dos anotaciones se utilizan para definir relaciones donde una instancia de una entidad puede estar relacionada con múltiples instancias de otra entidad, y viceversa.\n",
    "\n",
    "* **Explicación y Casos de Uso:** Por ejemplo, un autor puede escribir muchos libros (Uno a Muchos), y cada libro tiene un único autor (Muchos a Uno desde la perspectiva del libro).\n",
    "\n",
    "* **Mapeo con Ejemplos (Unidireccional - Uno a Muchos):**\n",
    "\n",
    "    La entidad \"uno\" tiene una colección de la entidad \"muchos\".\n"
   ]
  },
  {
   "cell_type": "code",
   "execution_count": null,
   "metadata": {
    "vscode": {
     "languageId": "java"
    }
   },
   "outputs": [],
   "source": [
    "import jakarta.persistence.CascadeType;\n",
    "import jakarta.persistence.Entity;\n",
    "import jakarta.persistence.GeneratedValue;\n",
    "import jakarta.persistence.GenerationType;\n",
    "import jakarta.persistence.Id;\n",
    "import jakarta.persistence.OneToMany;\n",
    "import jakarta.persistence.JoinColumn;\n",
    "import java.util.List;\n",
    "import java.util.ArrayList;\n",
    "\n",
    "@Entity\n",
    "public class Autor {\n",
    "    @Id\n",
    "    @GeneratedValue(strategy = GenerationType.IDENTITY)\n",
    "    private Long id;\n",
    "\n",
    "    private String nombre;\n",
    "\n",
    "    @OneToMany(cascade = CascadeType.ALL, orphanRemoval = true)\n",
    "    @JoinColumn(name = \"autor_id\")\n",
    "    private List<Libro> libros = new ArrayList<>();\n",
    "\n",
    "    // ... getters y setters ...\n",
    "}\n",
    "\n",
    "@Entity\n",
    "public class Libro {\n",
    "    @Id\n",
    "    @GeneratedValue(strategy = GenerationType.IDENTITY)\n",
    "    private Long id;\n",
    "\n",
    "    private String titulo;\n",
    "\n",
    "    // ... otros atributos ...\n",
    "}"
   ]
  },
  {
   "cell_type": "markdown",
   "metadata": {},
   "source": [
    "* _Explicación:_\n",
    "    * `@OneToMany`: Marca la relación desde `Autor` hacia `Libro`.\n",
    "    * `cascade = CascadeType.ALL`: Propaga las operaciones.\n",
    "    * `orphanRemoval = true`: Si un libro se elimina de la colección `libros` del autor, también se eliminará de la base de datos.\n",
    "    * `@JoinColumn(name = \"autor_id\")`: Especifica la columna de clave foránea en la tabla `Libro` que referencia la tabla `Autor`.\n",
    "\n",
    "* **Mapeo con Ejemplos (Bidireccional - Uno a Muchos / Muchos a Uno):**\n",
    "\n",
    "    Ambas entidades tienen una referencia a la otra. La entidad \"muchos\" utiliza `@ManyToOne` para referenciar la entidad \"uno\", y la entidad \"uno\" utiliza `@OneToMany` con `mappedBy` para indicar la relación inversa."
   ]
  },
  {
   "cell_type": "code",
   "execution_count": null,
   "metadata": {
    "vscode": {
     "languageId": "java"
    }
   },
   "outputs": [],
   "source": [
    "import jakarta.persistence.CascadeType;\n",
    "import jakarta.persistence.Entity;\n",
    "import jakarta.persistence.GeneratedValue;\n",
    "import jakarta.persistence.GenerationType;\n",
    "import jakarta.persistence.Id;\n",
    "import jakarta.persistence.OneToMany;\n",
    "import java.util.List;\n",
    "import java.util.ArrayList;\n",
    "\n",
    "@Entity\n",
    "public class Autor {\n",
    "    @Id\n",
    "    @GeneratedValue(strategy = GenerationType.IDENTITY)\n",
    "    private Long id;\n",
    "\n",
    "    private String nombre;\n",
    "\n",
    "    @OneToMany(mappedBy = \"autor\", cascade = CascadeType.ALL, orphanRemoval = true)\n",
    "    private List<Libro> libros = new ArrayList<>();\n",
    "\n",
    "    // ... getters y setters ...\n",
    "}"
   ]
  },
  {
   "cell_type": "code",
   "execution_count": null,
   "metadata": {
    "vscode": {
     "languageId": "java"
    }
   },
   "outputs": [],
   "source": [
    "import jakarta.persistence.Entity;\n",
    "import jakarta.persistence.GeneratedValue;\n",
    "import jakarta.persistence.GenerationType;\n",
    "import jakarta.persistence.Id;\n",
    "import jakarta.persistence.ManyToOne;\n",
    "import jakarta.persistence.JoinColumn;\n",
    "\n",
    "@Entity\n",
    "public class Libro {\n",
    "    @Id\n",
    "    @GeneratedValue(strategy = GenerationType.IDENTITY)\n",
    "    private Long id;\n",
    "\n",
    "    private String titulo;\n",
    "\n",
    "    @ManyToOne\n",
    "    @JoinColumn(name = \"autor_id\")\n",
    "    private Autor autor;\n",
    "\n",
    "    // ... getters y setters ...\n",
    "}"
   ]
  },
  {
   "cell_type": "markdown",
   "metadata": {},
   "source": [
    "* _Explicación:_\n",
    "    * En `Libro`, `@ManyToOne` marca la relación hacia `Autor`, y `@JoinColumn` especifica la clave foránea.\n",
    "    * En `Autor`, `mappedBy = \"autor\"` indica que la relación inversa está gestionada por el atributo `autor` en la clase `Libro`.\n",
    "\n",
    "* **Consideraciones sobre la propiedad \"dueña\" de la relación:** En una relación bidireccional Uno a Muchos/Muchos a Uno, la entidad con la anotación `@ManyToOne` suele ser considerada la \"dueña\" de la relación, ya que es la que contiene la clave foránea.\n",
    "\n",
    "#### c) Relación Muchos a Muchos (`@ManyToMany`)\n",
    "\n",
    "Una relación Muchos a Muchos indica que múltiples instancias de una entidad pueden estar relacionadas con múltiples instancias de otra entidad. Se implementa típicamente utilizando una tabla de unión (junction table) en la base de datos.\n",
    "\n",
    "* **Explicación y Casos de Uso:** Por ejemplo, un estudiante puede inscribirse en muchos cursos, y un curso puede tener muchos estudiantes.\n",
    "\n",
    "* **Mapeo con Ejemplos:**\n",
    "\n",
    "    Utilizamos la anotación `@ManyToMany` en ambos lados de la relación. La tabla de unión se configura utilizando la anotación `@JoinTable`."
   ]
  },
  {
   "cell_type": "code",
   "execution_count": null,
   "metadata": {
    "vscode": {
     "languageId": "java"
    }
   },
   "outputs": [],
   "source": [
    "import jakarta.persistence.CascadeType;\n",
    "import jakarta.persistence.Entity;\n",
    "import jakarta.persistence.GeneratedValue;\n",
    "import jakarta.persistence.GenerationType;\n",
    "import jakarta.persistence.Id;\n",
    "import jakarta.persistence.ManyToMany;\n",
    "import jakarta.persistence.JoinTable;\n",
    "import jakarta.persistence.JoinColumn;\n",
    "import java.util.List;\n",
    "import java.util.ArrayList;\n",
    "\n",
    "@Entity\n",
    "public class Estudiante {\n",
    "    @Id\n",
    "    @GeneratedValue(strategy = GenerationType.IDENTITY)\n",
    "    private Long id;\n",
    "\n",
    "    private String nombre;\n",
    "\n",
    "    @ManyToMany(cascade = { CascadeType.PERSIST, CascadeType.MERGE })\n",
    "    @JoinTable(\n",
    "        name = \"estudiante_curso\",\n",
    "        joinColumns = @JoinColumn(name = \"estudiante_id\"),\n",
    "        inverseJoinColumns = @JoinColumn(name = \"curso_id\")\n",
    "    )\n",
    "    private List<Curso> cursos = new ArrayList<>();\n",
    "\n",
    "    // ... getters y setters ...\n",
    "}"
   ]
  },
  {
   "cell_type": "code",
   "execution_count": null,
   "metadata": {
    "vscode": {
     "languageId": "java"
    }
   },
   "outputs": [],
   "source": [
    "import jakarta.persistence.CascadeType;\n",
    "import jakarta.persistence.Entity;\n",
    "import jakarta.persistence.GeneratedValue;\n",
    "import jakarta.persistence.GenerationType;\n",
    "import jakarta.persistence.Id;\n",
    "import jakarta.persistence.ManyToMany;\n",
    "import jakarta.persistence.JoinTable;\n",
    "import jakarta.persistence.JoinColumn;\n",
    "import java.util.List;\n",
    "import java.util.ArrayList;\n",
    "\n",
    "@Entity\n",
    "public class Curso {\n",
    "    @Id\n",
    "    @GeneratedValue(strategy = GenerationType.IDENTITY)\n",
    "    private Long id;\n",
    "\n",
    "    private String nombre;\n",
    "\n",
    "    @ManyToMany(mappedBy = \"cursos\")\n",
    "    private List<Estudiante> estudiantes = new ArrayList<>();\n",
    "\n",
    "    // ... getters y setters ...\n",
    "}"
   ]
  },
  {
   "cell_type": "markdown",
   "metadata": {},
   "source": [
    "* _Explicación:_\n",
    "    * `@ManyToMany`: Marca la relación.\n",
    "    * `@JoinTable`: Especifica los detalles de la tabla de unión:\n",
    "        * `name`: El nombre de la tabla de unión (`estudiante_curso`).\n",
    "        * `joinColumns`: Define la columna de clave foránea que referencia la tabla de la entidad \"dueña\" de la relación (`estudiante_id` referencia `Estudiante`).\n",
    "        * `inverseJoinColumns`: Define la columna de clave foránea que referencia la otra entidad (`curso_id` referencia `Curso`).\n",
    "    * `mappedBy = \"cursos\"` en `Curso` indica que la relación inversa está gestionada por el atributo `cursos` en `Estudiante`."
   ]
  },
  {
   "cell_type": "markdown",
   "metadata": {},
   "source": [
    "## Consultas JPQL y Criteria API"
   ]
  },
  {
   "cell_type": "markdown",
   "metadata": {},
   "source": [
    "### JPQL (Java Persistence Query Language)"
   ]
  },
  {
   "cell_type": "markdown",
   "metadata": {},
   "source": [
    "\n",
    "JPQL es un lenguaje de consulta orientado a objetos definido por la especificación JPA. Se asemeja a SQL, pero en lugar de operar sobre tablas y columnas, trabaja con entidades y sus atributos.\n",
    "\n",
    "* **Introducción a JPQL:**\n",
    "\n",
    "    JPQL nos permite escribir consultas de una manera más abstracta, sin depender directamente del dialecto SQL de la base de datos subyacente. El proveedor de JPA (como Hibernate) se encarga de traducir estas consultas JPQL al SQL específico.\n",
    "\n",
    "* **Sintaxis Básica de JPQL:**\n",
    "\n",
    "    Una consulta JPQL típica sigue una estructura similar a SQL:\n",
    "\n",
    "    ```jpql\n",
    "    SELECT objeto\n",
    "    FROM Entidad objeto\n",
    "    WHERE condición\n",
    "    ORDER BY atributo\n",
    "    ```\n",
    "\n",
    "    * `SELECT`: Especifica qué entidades o atributos se deben seleccionar.\n",
    "    * `FROM`: Indica la(s) entidad(es) sobre las que se va a consultar, junto con un alias (opcional pero recomendado).\n",
    "    * `WHERE`: Filtra los resultados según una condición.\n",
    "    * `ORDER BY`: Especifica el orden en que se deben devolver los resultados.\n",
    "\n",
    "* **Ejemplos de Consultas Simples:**"
   ]
  },
  {
   "cell_type": "code",
   "execution_count": null,
   "metadata": {
    "vscode": {
     "languageId": "java"
    }
   },
   "outputs": [],
   "source": [
    "import jakarta.persistence.EntityManager;\n",
    "import jakarta.persistence.TypedQuery;\n",
    "import java.util.List;\n",
    "\n",
    "public class JPQLQueries {\n",
    "\n",
    "    private final EntityManager entityManager;\n",
    "\n",
    "    public JPQLQueries(EntityManager entityManager) {\n",
    "        this.entityManager = entityManager;\n",
    "    }\n",
    "\n",
    "    public List<Libro> obtenerTodosLosLibros() {\n",
    "        TypedQuery<Libro> query = entityManager.createQuery(\"SELECT l FROM Libro l\", Libro.class);\n",
    "        return query.getResultList();\n",
    "    }\n",
    "\n",
    "    public Libro obtenerLibroPorTitulo(String titulo) {\n",
    "        TypedQuery<Libro> query = entityManager.createQuery(\"SELECT l FROM Libro l WHERE l.titulo = :titulo\", Libro.class);\n",
    "        query.setParameter(\"titulo\", titulo);\n",
    "        List<Libro> resultados = query.getResultList();\n",
    "        return resultados.isEmpty() ? null : resultados.get(0);\n",
    "    }\n",
    "\n",
    "    public List<String> obtenerTitulosDeLibros() {\n",
    "        TypedQuery<String> query = entityManager.createQuery(\"SELECT l.titulo FROM Libro l\", String.class);\n",
    "        return query.getResultList();\n",
    "    }\n",
    "}"
   ]
  },
  {
   "cell_type": "markdown",
   "metadata": {},
   "source": [
    "* _Explicación:_\n",
    "    * `entityManager.createQuery(String jpqlString, Class<T> resultClass)`: Crea una instancia de `TypedQuery` para ejecutar la consulta JPQL y especificar el tipo del resultado.\n",
    "    * `:titulo`: Es un parámetro con nombre en la consulta.\n",
    "    * `query.setParameter(\"titulo\", titulo)`: Asigna el valor al parámetro con nombre.\n",
    "    * `query.getResultList()`: Ejecuta la consulta y devuelve una lista de resultados.\n",
    "    * `query.getSingleResult()`: Ejecuta la consulta y devuelve un único resultado. Lanza una excepción si no hay resultados o si hay más de uno.\n",
    "\n",
    "* **Consultas con Relaciones (JOIN):**\n",
    "\n",
    "    Podemos navegar por las relaciones entre entidades en nuestras consultas JPQL utilizando `JOIN`."
   ]
  },
  {
   "cell_type": "code",
   "execution_count": null,
   "metadata": {
    "vscode": {
     "languageId": "java"
    }
   },
   "outputs": [],
   "source": [
    "public List<Libro> obtenerLibrosDeUnAutor(String nombreAutor) {\n",
    "    TypedQuery<Libro> query = entityManager.createQuery(\n",
    "        \"SELECT l FROM Autor a JOIN a.libros l WHERE a.nombre = :nombre\", Libro.class);\n",
    "    query.setParameter(\"nombre\", nombreAutor);\n",
    "    return query.getResultList();\n",
    "}\n",
    "\n",
    "public List<Autor> obtenerAutoresConMasDeNLibros(int n) {\n",
    "    TypedQuery<Autor> query = entityManager.createQuery(\n",
    "        \"SELECT a FROM Autor a WHERE SIZE(a.libros) > :n\", Autor.class);\n",
    "    query.setParameter(\"n\", n);\n",
    "    return query.getResultList();\n",
    "}"
   ]
  },
  {
   "cell_type": "markdown",
   "metadata": {},
   "source": [
    "* _Explicación:_\n",
    "    * `JOIN a.libros l`: Realiza una unión (inner join por defecto) entre la entidad `Autor` (alias `a`) y su colección de libros (`a.libros`, alias `l`).\n",
    "    * `SIZE(a.libros)`: Función JPQL para obtener el tamaño de una colección.\n",
    "\n",
    "* **Uso de Parámetros con Nombre y Posicionales:**\n",
    "\n",
    "    * **Parámetros con Nombre:** Se definen con un prefijo `:` seguido del nombre del parámetro (ej., `:titulo`). Se recomienda su uso por su legibilidad.\n",
    "    * **Parámetros Posicionales:** Se definen con un prefijo `?` seguido del índice del parámetro (empezando desde 1) (ej., `?1`)."
   ]
  },
  {
   "cell_type": "code",
   "execution_count": null,
   "metadata": {
    "vscode": {
     "languageId": "java"
    }
   },
   "outputs": [],
   "source": [
    "public Libro obtenerLibroPorIsbn(String isbn) {\n",
    "    TypedQuery<Libro> query = entityManager.createQuery(\"SELECT l FROM Libro l WHERE l.isbn = ?1\", Libro.class);\n",
    "    query.setParameter(1, isbn);\n",
    "    List<Libro> resultados = query.getResultList();\n",
    "    return resultados.isEmpty() ? null : resultados.get(0);\n",
    "}"
   ]
  },
  {
   "cell_type": "markdown",
   "metadata": {},
   "source": [
    "### Criteria API"
   ]
  },
  {
   "cell_type": "markdown",
   "metadata": {},
   "source": [
    "La Criteria API es una forma programática y orientada a objetos de construir consultas JPA. En lugar de escribir cadenas JPQL, construimos la consulta utilizando objetos Java.\n",
    "\n",
    "* **Introducción a la Criteria API:**\n",
    "\n",
    "    La Criteria API ofrece varias ventajas:\n",
    "    * **Seguridad de Tipos:** Los errores en la construcción de la consulta se detectan en tiempo de compilación, no en tiempo de ejecución.\n",
    "    * **Refactorización Segura:** Al basarse en objetos, la refactorización de nombres de entidades y atributos se propaga automáticamente a las consultas Criteria.\n",
    "    * **Construcción Dinámica de Consultas:** Facilita la creación de consultas complejas basadas en condiciones variables.\n",
    "\n",
    "* **Construcción de Consultas Básicas:**\n",
    "\n",
    "    Para construir una consulta Criteria, necesitamos obtener una instancia de `CriteriaBuilder` desde el `EntityManager`. Luego, creamos una `CriteriaQuery` y una `Root` que representa la entidad principal de la consulta."
   ]
  },
  {
   "cell_type": "code",
   "execution_count": null,
   "metadata": {
    "vscode": {
     "languageId": "java"
    }
   },
   "outputs": [],
   "source": [
    "import jakarta.persistence.EntityManager;\n",
    "import jakarta.persistence.criteria.CriteriaBuilder;\n",
    "import jakarta.persistence.criteria.CriteriaQuery;\n",
    "import jakarta.persistence.criteria.Root;\n",
    "import jakarta.persistence.TypedQuery;\n",
    "import java.util.List;\n",
    "\n",
    "public class CriteriaQueries {\n",
    "\n",
    "    private final EntityManager entityManager;\n",
    "    private final CriteriaBuilder criteriaBuilder;\n",
    "\n",
    "    public CriteriaQueries(EntityManager entityManager) {\n",
    "        this.entityManager = entityManager;\n",
    "        this.criteriaBuilder = entityManager.getCriteriaBuilder();\n",
    "    }\n",
    "\n",
    "    public List<Libro> obtenerTodosLosLibrosCriteria() {\n",
    "        CriteriaQuery<Libro> criteriaQuery = criteriaBuilder.createQuery(Libro.class);\n",
    "        Root<Libro> root = criteriaQuery.from(Libro.class);\n",
    "        criteriaQuery.select(root);\n",
    "        TypedQuery<Libro> query = entityManager.createQuery(criteriaQuery);\n",
    "        return query.getResultList();\n",
    "    }\n",
    "\n",
    "    public Libro obtenerLibroPorTituloCriteria(String titulo) {\n",
    "        CriteriaQuery<Libro> criteriaQuery = criteriaBuilder.createQuery(Libro.class);\n",
    "        Root<Libro> root = criteriaQuery.from(Libro.class);\n",
    "        criteriaQuery.select(root)\n",
    "            .where(criteriaBuilder.equal(root.get(\"titulo\"), titulo));\n",
    "        TypedQuery<Libro> query = entityManager.createQuery(criteriaQuery);\n",
    "        List<Libro> resultados = query.getResultList();\n",
    "        return resultados.isEmpty() ? null : resultados.get(0);\n",
    "    }\n",
    "}"
   ]
  },
  {
   "cell_type": "markdown",
   "metadata": {},
   "source": [
    "* _Explicación:_\n",
    "    * `entityManager.getCriteriaBuilder()`: Obtiene una instancia de `CriteriaBuilder`.\n",
    "    * `criteriaBuilder.createQuery(Libro.class)`: Crea una instancia de `CriteriaQuery` para la entidad `Libro`.\n",
    "    * `criteriaQuery.from(Libro.class)`: Define la entidad raíz de la consulta (`FROM Libro`).\n",
    "    * `criteriaQuery.select(root)`: Especifica que se deben seleccionar las entidades `Libro`.\n",
    "    * `criteriaBuilder.equal(root.get(\"titulo\"), titulo)`: Crea una condición de igualdad (`WHERE l.titulo = :titulo`). `root.get(\"titulo\")` obtiene el atributo \"titulo\" de la entidad `Libro`.\n",
    "\n",
    "* **Adición de Predicados (WHERE clauses):**\n",
    "\n",
    "    Podemos combinar múltiples condiciones utilizando los métodos de `CriteriaBuilder` como `and()`, `or()`, `not()`, `like()`, `greaterThan()`, `lessThan()`, etc.\n"
   ]
  },
  {
   "cell_type": "code",
   "execution_count": null,
   "metadata": {
    "vscode": {
     "languageId": "java"
    }
   },
   "outputs": [],
   "source": [
    "public List<Libro> obtenerLibrosConPaginasMayorA(int minPaginas) {\n",
    "    CriteriaQuery<Libro> criteriaQuery = criteriaBuilder.createQuery(Libro.class);\n",
    "    Root<Libro> root = criteriaQuery.from(Libro.class);\n",
    "    criteriaQuery.select(root)\n",
    "        .where(criteriaBuilder.greaterThan(root.get(\"paginas\"), minPaginas));\n",
    "    TypedQuery<Libro> query = entityManager.createQuery(criteriaQuery);\n",
    "    return query.getResultList();\n",
    "}\n",
    "\n",
    "public List<Libro> obtenerLibrosPorTituloYPaginas(String titulo, int minPaginas) {\n",
    "    CriteriaQuery<Libro> criteriaQuery = criteriaBuilder.createQuery(Libro.class);\n",
    "    Root<Libro> root = criteriaQuery.from(Libro.class);\n",
    "    criteriaQuery.select(root)\n",
    "        .where(\n",
    "            criteriaBuilder.and(\n",
    "                criteriaBuilder.equal(root.get(\"titulo\"), titulo),\n",
    "                criteriaBuilder.greaterThan(root.get(\"paginas\"), minPaginas)\n",
    "            )\n",
    "        );\n",
    "    TypedQuery<Libro> query = entityManager.createQuery(criteriaQuery);\n",
    "    return query.getResultList();\n",
    "}"
   ]
  },
  {
   "cell_type": "markdown",
   "metadata": {},
   "source": [
    "\n",
    "* **Ordenamiento y Selección:**\n",
    "\n",
    "    Podemos especificar el orden de los resultados utilizando `criteriaQuery.orderBy()` y seleccionar atributos específicos utilizando `criteriaQuery.select()`."
   ]
  },
  {
   "cell_type": "code",
   "execution_count": null,
   "metadata": {
    "vscode": {
     "languageId": "java"
    }
   },
   "outputs": [],
   "source": [
    "public List<Libro> obtenerTodosLosLibrosOrdenadosPorTitulo() {\n",
    "    CriteriaQuery<Libro> criteriaQuery = criteriaBuilder.createQuery(Libro.class);\n",
    "    Root<Libro> root = criteriaQuery.from(Libro.class);\n",
    "    criteriaQuery.select(root)\n",
    "        .orderBy(criteriaBuilder.asc(root.get(\"titulo\")));\n",
    "    TypedQuery<Libro> query = entityManager.createQuery(criteriaQuery);\n",
    "    return query.getResultList();\n",
    "}\n",
    "\n",
    "public List<String> obtenerTitulosDeLibrosCriteria() {\n",
    "    CriteriaQuery<String> criteriaQuery = criteriaBuilder.createQuery(String.class);\n",
    "    Root<Libro> root = criteriaQuery.from(Libro.class);\n",
    "    criteriaQuery.select(root.get(\"titulo\"));\n",
    "    TypedQuery<String> query = entityManager.createQuery(criteriaQuery);\n",
    "    return query.getResultList();\n",
    "}"
   ]
  },
  {
   "cell_type": "markdown",
   "metadata": {},
   "source": [
    "La elección entre JPQL y la Criteria API a menudo depende de la complejidad de la consulta y las preferencias del desarrollador. JPQL es más conciso para consultas simples, mientras que la Criteria API ofrece mayor seguridad de tipos y flexibilidad para consultas dinámicas."
   ]
  },
  {
   "cell_type": "markdown",
   "metadata": {},
   "source": [
    "## Optimización y Uso de Caché con Hibernate"
   ]
  },
  {
   "cell_type": "markdown",
   "metadata": {},
   "source": [
    "### Optimización de Consultas"
   ]
  },
  {
   "cell_type": "markdown",
   "metadata": {},
   "source": [
    "Un aspecto crucial para el rendimiento de las aplicaciones JPA es la optimización de las consultas a la base de datos. Hibernate proporciona varias técnicas para ayudarnos con esto.\n",
    "\n",
    "* **El Problema de la Carga Perezosa (Lazy Loading) y la Carga Ansiosa (Eager Loading):**\n",
    "    * **Carga Perezosa (Lazy Loading):** Por defecto, las relaciones entre entidades en Hibernate se cargan de forma perezosa. Esto significa que la entidad relacionada solo se carga desde la base de datos cuando se accede explícitamente a ella a través de su getter. Esto puede mejorar el rendimiento inicial al cargar solo los datos necesarios inmediatamente. Sin embargo, si se accede a la relación fuera de la sesión de Hibernate (EntityManager), puede ocurrir una excepción `LazyInitializationException`.\n",
    "    * **Carga Ansiosa (Eager Loading):** Podemos configurar una relación para que se cargue de forma ansiosa, lo que significa que la entidad relacionada se carga junto con la entidad principal en la misma consulta inicial. Esto puede evitar la excepción `LazyInitializationException` y reducir el número de consultas a la base de datos, pero puede resultar en la carga de datos innecesarios si la relación no siempre se utiliza.\n",
    "\n",
    "* **Uso de `FetchType.LAZY` y `FetchType.EAGER`:**\n",
    "    Las anotaciones de relación (`@OneToOne`, `@OneToMany`, `@ManyToOne`, `@ManyToMany`) tienen un atributo `fetch` que permite especificar la estrategia de carga:"
   ]
  },
  {
   "cell_type": "code",
   "execution_count": null,
   "metadata": {
    "vscode": {
     "languageId": "java"
    }
   },
   "outputs": [],
   "source": [
    "@OneToMany(fetch = FetchType.LAZY, mappedBy = \"autor\")\n",
    "private List<Libro> libros;\n",
    "\n",
    "@ManyToOne(fetch = FetchType.EAGER)\n",
    "@JoinColumn(name = \"autor_id\")\n",
    "private Autor autor;"
   ]
  },
  {
   "cell_type": "markdown",
   "metadata": {},
   "source": [
    "* _Explicación:_\n",
    "    * `FetchType.LAZY`: Carga perezosa (es el valor predeterminado para `@OneToMany` y `@ManyToMany`).\n",
    "    * `FetchType.EAGER`: Carga ansiosa (es el valor predeterminado para `@ManyToOne` y `@OneToOne`).\n",
    "\n",
    "    **Consideraciones:** Elegir la estrategia de carga adecuada depende del caso de uso. La carga perezosa suele ser preferible para relaciones uno a muchos y muchos a muchos para evitar la carga innecesaria de colecciones grandes. La carga ansiosa puede ser útil para relaciones uno a uno y muchos a uno que se utilizan con frecuencia.\n",
    "\n",
    "* **La Sentencia `FETCH JOIN` en JPQL para Evitar el Problema N+1:**\n",
    "    El problema N+1 ocurre cuando Hibernate ejecuta una consulta inicial para obtener una lista de entidades (el \"1\") y luego ejecuta consultas adicionales (las \"N\") para cargar las relaciones perezosas de cada una de esas entidades. `FETCH JOIN` (o simplemente `JOIN FETCH`) en JPQL nos permite cargar las relaciones perezosas deseadas en la misma consulta inicial, evitando este problema.\n",
    "\n",
    "    ```jpql\n",
    "    SELECT a FROM Autor a JOIN FETCH a.libros\n",
    "    WHERE a.nombre = :nombreAutor\n",
    "    ```\n",
    "\n",
    "    Esta consulta cargará el autor y su colección de libros en una sola consulta, incluso si la relación `libros` está configurada como `FetchType.LAZY`.\n",
    "\n",
    "* **Indexación de Bases de Datos y su Impacto en el Rendimiento:**\n",
    "\n",
    "    Aunque no es específico de Hibernate, la indexación adecuada de las columnas en la base de datos que se utilizan en las cláusulas `WHERE`, `JOIN` y `ORDER BY` de nuestras consultas JPQL (que se traducen a SQL) es fundamental para un buen rendimiento. Asegúrate de que tu esquema de base de datos tenga los índices apropiados."
   ]
  },
  {
   "cell_type": "markdown",
   "metadata": {},
   "source": [
    "### Uso de Caché con Hibernate"
   ]
  },
  {
   "cell_type": "markdown",
   "metadata": {},
   "source": [
    "Hibernate proporciona un sistema de caché de varios niveles para reducir la cantidad de accesos a la base de datos y mejorar el rendimiento.\n",
    "\n",
    "* **Caché de Primer Nivel (Session/EntityManager):**\n",
    "\n",
    "    * **Explicación de cómo funciona:** El caché de primer nivel es el caché a nivel de sesión o `EntityManager`. Cuando Hibernate carga una entidad dentro de una sesión, la almacena en este caché. Si la misma entidad se solicita nuevamente dentro de la misma sesión, Hibernate la recupera del caché en lugar de volver a la base de datos.\n",
    "\n",
    "    * **Ciclo de vida y ámbito:** El caché de primer nivel está asociado con el ciclo de vida del `EntityManager`. Cuando el `EntityManager` se cierra, el caché de primer nivel se descarta.\n",
    "\n",
    "    * **Comportamiento por defecto:** El caché de primer nivel está habilitado por defecto y no se puede deshabilitar.\n",
    "\n",
    "    * **Importancia:** Ayuda a evitar lecturas repetidas de la misma entidad dentro de la misma unidad de trabajo.\n",
    "\n",
    "* **Caché de Segundo Nivel (SessionFactory):**\n",
    "\n",
    "    * **Introducción al concepto de caché compartido entre sesiones:** El caché de segundo nivel es un caché a nivel de `SessionFactory`, lo que significa que es compartido por todas las sesiones (EntityManager) creadas por la misma fábrica. Esto permite que los datos cacheados estén disponibles para múltiples transacciones y usuarios, mejorando significativamente el rendimiento para datos de lectura frecuente que no cambian con mucha frecuencia.\n",
    "\n",
    "    * **Proveedores de caché de segundo nivel:** Hibernate no proporciona una implementación de caché de segundo nivel por defecto. Necesitamos integrar un proveedor de caché de terceros. Algunos proveedores populares son:\n",
    "        * **EHCache:** Un proveedor de caché ligero y ampliamente utilizado.\n",
    "        * **Infinispan:** Un proveedor de caché distribuido y escalable.\n",
    "        * **Caffeine:** Un proveedor de caché de alto rendimiento basado en Java 8.\n",
    "\n",
    "    * **Configuración del caché de segundo nivel en `persistence.xml`:**\n",
    "\n",
    "        Para habilitar el caché de segundo nivel y especificar un proveedor, debemos añadir propiedades en nuestro `persistence.xml`:"
   ]
  },
  {
   "cell_type": "code",
   "execution_count": null,
   "metadata": {
    "vscode": {
     "languageId": "xml"
    }
   },
   "outputs": [],
   "source": [
    "<persistence-unit name=\"miUnidadDePersistencia\">\n",
    "    <provider>org.hibernate.jpa.HibernatePersistenceProvider</provider>\n",
    "    <properties>\n",
    "        <property name=\"hibernate.cache.use_second_level_cache\" value=\"true\"/>\n",
    "\n",
    "        <property name=\"hibernate.cache.region.factory_class\" value=\"org.hibernate.cache.ehcache.EhCacheRegionFactory\"/>\n",
    "    </properties>\n",
    "</persistence-unit>"
   ]
  },
  {
   "cell_type": "markdown",
   "metadata": {},
   "source": [
    "* _Explicación:_\n",
    "\n",
    "    También necesitaremos añadir la dependencia del proveedor de caché (ej., `ehcache`) en nuestro archivo `pom.xml` o `build.gradle`.\n",
    "\n",
    "    * **Anotaciones para configurar el comportamiento del caché de entidades (`@Cache`):**\n",
    "\n",
    "        Para especificar qué entidades deben ser cacheadas en el segundo nivel y con qué estrategia de concurrencia, utilizamos la anotación `@Cache` a nivel de clase de la entidad:\n"
   ]
  },
  {
   "cell_type": "code",
   "execution_count": null,
   "metadata": {
    "vscode": {
     "languageId": "java"
    }
   },
   "outputs": [],
   "source": [
    "import jakarta.persistence.Cacheable;\n",
    "import jakarta.persistence.Entity;\n",
    "import jakarta.persistence.GeneratedValue;\n",
    "import jakarta.persistence.GenerationType;\n",
    "import jakarta.persistence.Id;\n",
    "import org.hibernate.annotations.Cache;\n",
    "import org.hibernate.annotations.CacheConcurrencyStrategy;\n",
    "\n",
    "@Entity\n",
    "@Cacheable\n",
    "@Cache(usage = CacheConcurrencyStrategy.READ_ONLY)\n",
    "public class Libro {\n",
    "    @Id\n",
    "    @GeneratedValue(strategy = GenerationType.IDENTITY)\n",
    "    private Long id;\n",
    "\n",
    "    private String titulo;\n",
    "\n",
    "    // ... otros atributos ...\n",
    "}"
   ]
  },
  {
   "cell_type": "markdown",
   "metadata": {},
   "source": [
    "*\n",
    "    * _Explicación:_\n",
    "        * `@Cacheable`: Marca la entidad como elegible para el caché de segundo nivel.\n",
    "        * `@Cache(usage = CacheConcurrencyStrategy....)`: Especifica la estrategia de concurrencia del caché, que controla cómo se gestionan los accesos concurrentes a los datos cacheados. Algunas estrategias comunes son:\n",
    "            * `READ_ONLY`: Para entidades que nunca cambian después de ser creadas. Es la estrategia más segura y de mayor rendimiento.\n",
    "            * `NONSTRICT_READ_WRITE`: Para entidades que cambian con poca frecuencia. Intenta evitar lecturas obsoletas pero no ofrece garantías estrictas.\n",
    "            * `READ_WRITE`: Para entidades que pueden cambiar con más frecuencia. Utiliza mecanismos de bloqueo para garantizar la coherencia, lo que puede afectar la concurrencia.\n",
    "            * `TRANSACTIONAL`: Para entornos transaccionales JTA. Proporciona la mayor coherencia pero puede tener un mayor costo de rendimiento.\n",
    "\n",
    "    * **Consideraciones sobre el uso del caché:**\n",
    "\n",
    "        * **Invalidación:** Es importante entender cómo se invalidan los datos en el caché cuando cambian en la base de datos para evitar la lectura de datos obsoletos. Las estrategias de concurrencia influyen en esto.\n",
    "        * **Coherencia:** Mantener la coherencia entre el caché y la base de datos es un desafío, especialmente en entornos concurrentes. La elección de la estrategia de concurrencia es crucial para equilibrar el rendimiento y la coherencia.\n",
    "        * **Datos adecuados para el caché:** No todos los datos son buenos candidatos para el caché de segundo nivel. Los datos de lectura frecuente y que no cambian con mucha frecuencia son los que más se benefician del almacenamiento en caché. Los datos que cambian con frecuencia pueden generar más sobrecarga de invalidación que beneficios de rendimiento.\n",
    "\n",
    "Al comprender y aplicar estas técnicas de optimización y el uso efectivo del sistema de caché de Hibernate, podemos construir aplicaciones JPA más eficientes y de mayor rendimiento."
   ]
  }
 ],
 "metadata": {
  "language_info": {
   "name": "python"
  }
 },
 "nbformat": 4,
 "nbformat_minor": 2
}
