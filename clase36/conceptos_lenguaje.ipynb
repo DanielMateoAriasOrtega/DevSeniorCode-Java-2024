{
 "cells": [
  {
   "cell_type": "markdown",
   "metadata": {},
   "source": [
    "# Conceptos del lenguaje"
   ]
  },
  {
   "cell_type": "markdown",
   "metadata": {},
   "source": [
    "## Introducción a JDBC"
   ]
  },
  {
   "cell_type": "markdown",
   "metadata": {},
   "source": [
    "### ¿Qué es JDBC?"
   ]
  },
  {
   "cell_type": "markdown",
   "metadata": {},
   "source": [
    "JDBC (Java Database Connectivity) es una API de Java que permite que las aplicaciones interactúen con bases de datos relacionales. Es la solución estándar proporcionada por Java para ejecutar comandos SQL desde un programa Java, como insertar, eliminar, actualizar o consultar datos.\n",
    "\n",
    "El propósito principal de JDBC es establecer un puente entre el lenguaje Java y bases de datos, facilitando la comunicación y la gestión eficiente de datos."
   ]
  },
  {
   "cell_type": "markdown",
   "metadata": {},
   "source": [
    "### ¿Por qué es importante JDBC?"
   ]
  },
  {
   "cell_type": "markdown",
   "metadata": {},
   "source": [
    "JDBC es esencial por varias razones:\n",
    "- **Portabilidad:** Funciona con múltiples bases de datos (PostgreSQL, MySQL, Oracle, SQL Server, etc.) gracias a su modelo basado en controladores.\n",
    "- **Simplicidad:** Proporciona métodos y clases listas para usar que simplifican tareas complejas relacionadas con bases de datos.\n",
    "- **Flexibilidad:** Permite a los desarrolladores ejecutar comandos SQL directamente o integrarlos en aplicaciones empresariales.\n",
    "\n",
    "Un ejemplo práctico sería la implementación de un sistema de gestión de inventarios, donde cada cambio en el stock se registra y consulta mediante JDBC."
   ]
  },
  {
   "cell_type": "markdown",
   "metadata": {},
   "source": [
    "### Componentes principales de JDBC"
   ]
  },
  {
   "cell_type": "markdown",
   "metadata": {},
   "source": [
    "1. **DriverManager**:\n",
    "   - Gestiona los controladores necesarios para conectarse a la base de datos.\n",
    "   - Es el punto de entrada para obtener una conexión.\n",
    "   - Ejemplo: `DriverManager.getConnection(url, user, password)`.\n",
    "\n",
    "2. **Connection**:\n",
    "   - Representa la conexión física con la base de datos.\n",
    "   - Permite crear sentencias (statements) para ejecutar comandos SQL.\n",
    "\n",
    "3. **Statement**:\n",
    "   - Permite enviar consultas SQL a la base de datos.\n",
    "   - Hay tres tipos: `Statement`, `PreparedStatement` y `CallableStatement`.\n",
    "\n",
    "4. **ResultSet**:\n",
    "   - Contiene los resultados de las consultas SQL.\n",
    "   - Proporciona métodos para iterar y extraer datos."
   ]
  },
  {
   "cell_type": "markdown",
   "metadata": {},
   "source": [
    "### ¿Cómo funciona JDBC?"
   ]
  },
  {
   "cell_type": "markdown",
   "metadata": {},
   "source": [
    "El proceso general es el siguiente:\n",
    "1. **Cargar el controlador JDBC**:\n",
    "   - El controlador JDBC es un archivo `.jar` que permite que Java \"hable\" con una base de datos específica.\n",
    "   \n",
    "2. **Establecer la conexión**:\n",
    "   - Con `DriverManager` se conecta a la base de datos proporcionando la URL, el usuario y la contraseña.\n",
    "\n",
    "3. **Enviar consultas SQL**:\n",
    "   - Se utilizan objetos `Statement` o `PreparedStatement` para ejecutar comandos como `SELECT`, `INSERT`, `UPDATE` o `DELETE`.\n",
    "\n",
    "4. **Procesar los resultados**:\n",
    "   - Los resultados se almacenan en un objeto `ResultSet`, que permite iterar y extraer filas y columnas.\n",
    "\n",
    "5. **Cerrar la conexión**:\n",
    "   - Es importante liberar recursos cerrando la conexión una vez finalizada la operación."
   ]
  },
  {
   "cell_type": "markdown",
   "metadata": {},
   "source": [
    "### Ventajas y Limitaciones de JDBC"
   ]
  },
  {
   "cell_type": "markdown",
   "metadata": {},
   "source": [
    "**Ventajas:**\n",
    "- Compatible con múltiples sistemas de bases de datos.\n",
    "- Es una solución madura y ampliamente documentada.\n",
    "- Ofrece un nivel alto de control sobre las operaciones de base de datos.\n",
    "\n",
    "**Limitaciones:**\n",
    "- No es óptimo para sistemas distribuidos grandes (en esos casos, se usan herramientas como Hibernate o JPA).\n",
    "- Requiere gestionar manualmente las conexiones y recursos, lo que puede ser propenso a errores."
   ]
  },
  {
   "cell_type": "markdown",
   "metadata": {},
   "source": [
    "## Clases principales de JDBC"
   ]
  },
  {
   "cell_type": "markdown",
   "metadata": {},
   "source": [
    "### `java.sql.DriverManager`"
   ]
  },
  {
   "cell_type": "markdown",
   "metadata": {},
   "source": [
    "Es una clase que actúa como un intermediario entre tu aplicación Java y los controladores (drivers) JDBC. Su principal función es manejar los controladores y establecer una conexión con la base de datos.\n",
    "\n",
    "- Gestiona el registro y uso de los controladores JDBC necesarios para conectarse a diferentes bases de datos.\n",
    "- Proporciona el método `getConnection()`, que se utiliza para obtener un objeto `Connection`."
   ]
  },
  {
   "cell_type": "code",
   "execution_count": null,
   "metadata": {
    "vscode": {
     "languageId": "java"
    }
   },
   "outputs": [],
   "source": [
    "// Cargar el controlador JDBC\n",
    "Class.forName(\"com.mysql.cj.jdbc.Driver\");\n",
    "\n",
    "// Establecer la conexión\n",
    "String url = \"jdbc:mysql://localhost:3306/mi_base_datos\";\n",
    "String usuario = \"usuario\";\n",
    "String password = \"contraseña\";\n",
    "Connection conexion = DriverManager.getConnection(url, usuario, password);"
   ]
  },
  {
   "cell_type": "markdown",
   "metadata": {},
   "source": [
    "### `java.sql.Connection`"
   ]
  },
  {
   "cell_type": "markdown",
   "metadata": {},
   "source": [
    "Representa la conexión activa entre tu aplicación y la base de datos. Una vez establecida, puedes usar este objeto para ejecutar comandos SQL y manejar transacciones.\n",
    "\n",
    "- Es la base para interactuar con la base de datos.\n",
    "- Permite crear diferentes tipos de statements.\n",
    "- Se puede utilizar para habilitar transacciones manuales (desactivar el autocommit con `conn.setAutoCommit(false)`)\n",
    "- Siempre debe cerrarse al finalizar para liberar recursos."
   ]
  },
  {
   "cell_type": "code",
   "execution_count": null,
   "metadata": {
    "vscode": {
     "languageId": "java"
    }
   },
   "outputs": [],
   "source": [
    "// Crear una conexión\n",
    "Connection conexion = DriverManager.getConnection(url, usuario, password);\n",
    "\n",
    "// Crear statements\n",
    "Statement stmt = conexion.createStatement();\n",
    "PreparedStatement pstmt = conexion.prepareStatement(\"SELECT * FROM usuarios WHERE id = ?\");\n",
    "\n",
    "// Cerrar la conexión\n",
    "conexion.close();"
   ]
  },
  {
   "cell_type": "markdown",
   "metadata": {},
   "source": [
    "#### Cadenas de conexion (url) para conectarse a la base de datos usando JDBC"
   ]
  },
  {
   "cell_type": "markdown",
   "metadata": {},
   "source": [
    "Las **cadenas de conexión JDBC** son fundamentales para establecer una conexión entre tu aplicación Java y la base de datos. Son básicamente una URL que contiene toda la información necesaria para identificar y conectarse a la base de datos.\n",
    "\n",
    "`jdbc:[subprotocolo]:[subnombre]`\n",
    "\n",
    "- `jdbc`: Es el protocolo estándar que indica que estás usando JDBC.\n",
    "- `subprotocolo`: Es el nombre del controlador para el sistema de base de datos (por ejemplo, `mysql`, `postgresql`, `oracle`).\n",
    "- `subnombre`: Contiene detalles específicos sobre cómo localizar la base de datos, como la dirección del servidor, el puerto y el nombre de la base de datos."
   ]
  },
  {
   "cell_type": "markdown",
   "metadata": {},
   "source": [
    "#### Ejemplos comunes de cadenas de conexión"
   ]
  },
  {
   "cell_type": "markdown",
   "metadata": {},
   "source": [
    "| DBMS | Cadena de Conexión |\n",
    "| --- | --- |\n",
    "| MySQL | `jdbc:mysql://localhost:3306/school` |\n",
    "| PostgreSQL | `jdbc:postgresql://localhost:5432/school` |\n",
    "| SQL Server | `jdbc:sqlserver://localhost:1433;databaseName=school` |\n",
    "| Oracle | `jdbc:oracle:thin:@localhost:1521:xe` |"
   ]
  },
  {
   "cell_type": "markdown",
   "metadata": {},
   "source": [
    "### `java.sql.Statement`"
   ]
  },
  {
   "cell_type": "markdown",
   "metadata": {},
   "source": [
    " Es la clase responsable de enviar comandos SQL a la base de datos. Proporciona métodos para ejecutar tanto instrucciones que modifican datos (como `INSERT`, `UPDATE` y `DELETE`) como consultas (`SELECT`).\n",
    "\n",
    " - Ideal para ejecutar comandos SQL simples.\n",
    " - Existen tres tipos de `Statements`:\n",
    "    - `Statement`: para consultas simples\n",
    "    - `PreparedStatement`: para consultas parametrizadas\n",
    "    - `CallableStatement`: para procedimientos almacenados"
   ]
  },
  {
   "cell_type": "code",
   "execution_count": null,
   "metadata": {
    "vscode": {
     "languageId": "java"
    }
   },
   "outputs": [],
   "source": [
    "// Statement simple\n",
    "Statement stmt = conexion.createStatement();\n",
    "ResultSet rs = stmt.executeQuery(\"SELECT * FROM productos\");\n",
    "\n",
    "// PreparedStatement\n",
    "PreparedStatement pstmt = conexion.prepareStatement(\"INSERT INTO usuarios (nombre, email) VALUES (?, ?)\");\n",
    "pstmt.setString(1, \"Juan Pérez\");\n",
    "pstmt.setString(2, \"juan@ejemplo.com\");\n",
    "pstmt.executeUpdate();"
   ]
  },
  {
   "cell_type": "markdown",
   "metadata": {},
   "source": [
    "##### `java.sql.PreparedStatement`"
   ]
  },
  {
   "cell_type": "markdown",
   "metadata": {},
   "source": [
    "Es una subclase de `Statement` diseñada para ejecutar comandos SQL de forma más segura y eficiente. Permite parametrizar las consultas, eliminando el riesgo de inyección SQL.\n",
    "\n",
    "- Evita inyecciones SQL al separar los datos de las consultas.\n",
    "- Mejora el rendimiento con consultas reutilizables."
   ]
  },
  {
   "cell_type": "code",
   "execution_count": null,
   "metadata": {
    "vscode": {
     "languageId": "java"
    }
   },
   "outputs": [],
   "source": [
    "String sql = \"SELECT * FROM students WHERE age > ?\";\n",
    "PreparedStatement pstmt = conn.prepareStatement(sql);\n",
    "pstmt.setInt(1, 20); // Establece el valor del parámetro\n",
    "\n",
    "ResultSet rs = pstmt.executeQuery();\n",
    "while (rs.next()) {\n",
    "    System.out.println(\"Nombre: \" + rs.getString(\"name\"));\n",
    "}\n"
   ]
  },
  {
   "cell_type": "markdown",
   "metadata": {},
   "source": [
    "#### `java.sql.CallableStatement`"
   ]
  },
  {
   "cell_type": "markdown",
   "metadata": {},
   "source": [
    "Es una interfaz de JDBC que permite ejecutar procedimientos almacenados (stored procedures) en la base de datos. Es muy útil para manejar tareas más complejas, ya que los procedimientos almacenados encapsulan lógica SQL reutilizable directamente en el servidor de la base de datos.\n",
    "\n",
    "- Se usa para invocar procedimientos almacenados que pueden tener parámetros de entrada (`IN`), salida (`OUT`) o ambos.\n",
    "- Permite manejar lógica avanzada y mejorar el rendimiento moviendo parte de la lógica a la base de datos."
   ]
  },
  {
   "cell_type": "code",
   "execution_count": null,
   "metadata": {
    "vscode": {
     "languageId": "java"
    }
   },
   "outputs": [],
   "source": [
    "// Preparar el CallableStatement\n",
    "String sql = \"{CALL GetStudentNameByID(?, ?)}\";\n",
    "CallableStatement cstmt = conn.prepareCall(sql);\n",
    "\n",
    "// Configurar parámetros de entrada y salida\n",
    "cstmt.setInt(1, 1); // Parámetro de entrada (ID del estudiante)\n",
    "cstmt.registerOutParameter(2, Types.VARCHAR); // Parámetro de salida (Nombre del estudiante)\n",
    "\n",
    "// Ejecutar el procedimiento almacenado\n",
    "cstmt.execute();\n",
    "\n",
    "// Obtener el valor del parámetro de salida\n",
    "String studentName = cstmt.getString(2);\n",
    "System.out.println(\"Nombre del estudiante: \" + studentName);"
   ]
  },
  {
   "cell_type": "markdown",
   "metadata": {},
   "source": [
    "### `java.sql.ResultSet`"
   ]
  },
  {
   "cell_type": "markdown",
   "metadata": {},
   "source": [
    "Es una representación de los resultados devueltos por una consulta SQL. Actúa como un cursor que permite recorrer los datos fila por fila.\n",
    "\n",
    "- Contiene los resultados de una consulta SQL\n",
    "- Permite navegar por los resultados fila por fila\n",
    "- Proporciona métodos como `next()`, `getString()`, `getInt()`, etc., para acceder a los datos.\n",
    "- Solo permite moverse hacia adelante en los resultados, aunque hay opciones avanzadas para hacerlo bidireccional."
   ]
  },
  {
   "cell_type": "code",
   "execution_count": null,
   "metadata": {
    "vscode": {
     "languageId": "java"
    }
   },
   "outputs": [],
   "source": [
    "// Ejecutar una consulta\n",
    "Statement stmt = conexion.createStatement();\n",
    "ResultSet rs = stmt.executeQuery(\"SELECT * FROM empleados\");\n",
    "\n",
    "// Procesar los resultados\n",
    "while (rs.next()) {\n",
    "    int id = rs.getInt(\"id\");\n",
    "    String nombre = rs.getString(\"nombre\");\n",
    "    double salario = rs.getDouble(\"salario\");\n",
    "    System.out.println(\"ID: \" + id + \", Nombre: \" + nombre + \", Salario: \" + salario);\n",
    "}"
   ]
  },
  {
   "cell_type": "markdown",
   "metadata": {},
   "source": [
    "## Mejores prácticas"
   ]
  },
  {
   "cell_type": "markdown",
   "metadata": {},
   "source": [
    "### 1. Uso de try-with-resources"
   ]
  },
  {
   "cell_type": "code",
   "execution_count": null,
   "metadata": {
    "vscode": {
     "languageId": "java"
    }
   },
   "outputs": [],
   "source": [
    "try (var conn = DriverManager.getConnection(url, usuario, password);\n",
    "     var pstmt = conn.prepareStatement(\"SELECT * FROM productos\")) {\n",
    "    ResultSet rs = pstmt.executeQuery();\n",
    "    // Procesar resultados\n",
    "} catch (SQLException e) {\n",
    "    e.printStackTrace();\n",
    "}"
   ]
  },
  {
   "cell_type": "markdown",
   "metadata": {},
   "source": [
    "### 2. Manejo de transacciones"
   ]
  },
  {
   "cell_type": "code",
   "execution_count": null,
   "metadata": {
    "vscode": {
     "languageId": "java"
    }
   },
   "outputs": [],
   "source": [
    "Connection conn = null;\n",
    "try {\n",
    "    conn = DriverManager.getConnection(url, usuario, password);\n",
    "    conn.setAutoCommit(false);  // Desactivar auto-commit\n",
    "    \n",
    "    // Realizar operaciones\n",
    "    PreparedStatement pstmt1 = conn.prepareStatement(\"INSERT INTO ventas (producto_id, cantidad) VALUES (?, ?)\");\n",
    "    pstmt1.setInt(1, 1);\n",
    "    pstmt1.setInt(2, 10);\n",
    "    pstmt1.executeUpdate();\n",
    "    \n",
    "    conn.commit();  // Confirmar transacción\n",
    "} catch (SQLException e) {\n",
    "    if (conn != null) {\n",
    "        conn.rollback();  // Revertir cambios en caso de error\n",
    "    }\n",
    "    e.printStackTrace();\n",
    "}"
   ]
  },
  {
   "cell_type": "markdown",
   "metadata": {},
   "source": [
    "### 3. Prevención de **SQL Injection**"
   ]
  },
  {
   "cell_type": "code",
   "execution_count": null,
   "metadata": {
    "vscode": {
     "languageId": "java"
    }
   },
   "outputs": [],
   "source": [
    "// ❌ Mal: vulnerable a SQL Injection\n",
    "String query = \"SELECT * FROM usuarios WHERE username = '\" + username + \"'\";\n",
    "Statement stmt = conn.createStatement();\n",
    "ResultSet rs = stmt.executeQuery(query);\n",
    "\n",
    "// ✅ Bien: usando PreparedStatement\n",
    "String query = \"SELECT * FROM usuarios WHERE username = ?\";\n",
    "PreparedStatement pstmt = conn.prepareStatement(query);\n",
    "pstmt.setString(1, username);\n",
    "ResultSet rs = pstmt.executeQuery();"
   ]
  },
  {
   "cell_type": "markdown",
   "metadata": {},
   "source": [
    "**SQL injection** es una vulnerabilidad de seguridad que afecta a aplicaciones que interactúan con bases de datos mediante instrucciones SQL. Ocurre cuando un atacante logra introducir código malicioso en las consultas SQL de una aplicación, aprovechando la falta de validación de entradas en los campos de usuario (como formularios o URL). Esto puede llevar a acceso no autorizado, manipulación de datos e incluso control completo de la base de datos."
   ]
  },
  {
   "cell_type": "markdown",
   "metadata": {},
   "source": [
    "#### ¿Cómo funciona SQL injection?"
   ]
  },
  {
   "cell_type": "markdown",
   "metadata": {},
   "source": [
    "Supongamos que tienes una consulta SQL en tu código para autenticar usuarios:"
   ]
  },
  {
   "cell_type": "code",
   "execution_count": null,
   "metadata": {
    "vscode": {
     "languageId": "java"
    }
   },
   "outputs": [],
   "source": [
    "String sql = \"SELECT * FROM users WHERE username = '\" + username \n",
    "             + \"' AND password = '\" + password + \"'\";"
   ]
  },
  {
   "cell_type": "markdown",
   "metadata": {},
   "source": [
    "Si el atacante introduce algo malicioso en el campo de contraseña, como: `' OR '1'='1`, la consulta final quedaría así:"
   ]
  },
  {
   "cell_type": "code",
   "execution_count": null,
   "metadata": {
    "vscode": {
     "languageId": "sql"
    }
   },
   "outputs": [],
   "source": [
    "SELECT * FROM users WHERE username = 'admin' AND password = '' OR '1'='1';"
   ]
  },
  {
   "cell_type": "markdown",
   "metadata": {},
   "source": [
    "En este caso, la condición siempre es verdadera, permitiendo que el atacante inicie sesión sin conocer la contraseña."
   ]
  },
  {
   "cell_type": "markdown",
   "metadata": {},
   "source": [
    "#### Consecuencias de una SQL injection"
   ]
  },
  {
   "cell_type": "markdown",
   "metadata": {},
   "source": [
    "1. **Acceso no autorizado**: El atacante puede iniciar sesión sin credenciales válidas.\n",
    "1. **Robo de información**: Puede acceder a datos sensibles como nombres, contraseñas y correos electrónicos.\n",
    "1. **Modificación de datos**: Cambiar o eliminar datos importantes.\n",
    "1. **Ataques de denegación de servicio (DoS)**: Al ejecutar consultas que sobrecargan el servidor.\n",
    "1. **Compromiso total del sistema**: En algunos casos, el atacante puede ejecutar comandos a nivel del servidor.\n"
   ]
  },
  {
   "cell_type": "markdown",
   "metadata": {},
   "source": [
    "#### Cómo prevenir SQL injection"
   ]
  },
  {
   "cell_type": "markdown",
   "metadata": {},
   "source": [
    "1. **Uso de PreparedStatement**: Utiliza consultas parametrizadas para separar el código SQL de los datos de entrada\n",
    "1. **Validación de entradas**: Verifica y filtra las entradas del usuario antes de usarlas en consultas.\n",
    "1. **Evitar concatenación de cadenas en SQL**: No construyas consultas SQL directamente con los datos del usuario.\n",
    "1. **Usar ORM (Object-Relational Mapping)**: Herramientas como Hibernate ayudan a evitar estas vulnerabilidades al abstraer las consultas SQL.\n",
    "1. **Configura permisos adecuados en la base de datos**: Limita los privilegios de los usuarios de la aplicación para que no puedan ejecutar comandos peligrosos."
   ]
  },
  {
   "cell_type": "markdown",
   "metadata": {},
   "source": [
    "## Ejemplo"
   ]
  },
  {
   "cell_type": "markdown",
   "metadata": {},
   "source": [
    "Primero necesitas agregar el driver de PostgreSQL a tu proyecto. Puedes descargarlo desde Maven o agregarlo a tu `pom.xml`:"
   ]
  },
  {
   "cell_type": "code",
   "execution_count": null,
   "metadata": {
    "vscode": {
     "languageId": "xml"
    }
   },
   "outputs": [],
   "source": [
    "<dependency>\n",
    "    <groupId>org.postgresql</groupId>\n",
    "    <artifactId>postgresql</artifactId>\n",
    "    <version>42.6.0</version>\n",
    "</dependency>"
   ]
  },
  {
   "cell_type": "markdown",
   "metadata": {},
   "source": [
    "Código de ejemplo"
   ]
  },
  {
   "cell_type": "code",
   "execution_count": null,
   "metadata": {
    "vscode": {
     "languageId": "java"
    }
   },
   "outputs": [],
   "source": [
    "var departmentId = 10;\n",
    "var employees = new ArrayList<Employee>();\n",
    "\n",
    "// Establecer parametros para la conexión\n",
    "var url = \"jdbc:postgresql://localhost:5432/hr\";\n",
    "var user = \"postgres\";\n",
    "var password = \"contraseña\";\n",
    "\n",
    "try {\n",
    "    // Cargar el driver\n",
    "    Class.forName(\"org.postgresql.Driver\");\n",
    "    \n",
    "    \n",
    "    try (var conn = DriverManager.getConnection(url, user, password);\n",
    "            var pstmt = conn.prepareStatement(\"SELECT * FROM empleados WHERE departamento_id = ?\")) {\n",
    "\n",
    "        pstmt.setInt(1, departmentId);\n",
    "\n",
    "        try (var rs = pstmt.executeQuery()) {\n",
    "            while (rs.next()) {\n",
    "                var employee = new Employee(\n",
    "                    rs.getInt(\"id\"),\n",
    "                    rs.getString(\"nombre\"),\n",
    "                    rs.getString(\"apellido\"),\n",
    "                    rs.getDouble(\"salario\"),\n",
    "                    rs.getString(\"departamento\")\n",
    "                );\n",
    "                employees.add(employee);\n",
    "            }\n",
    "        }\n",
    "    }\n",
    "    \n",
    "} catch (ClassNotFoundException e) {\n",
    "    System.err.println(\"Error: No se encontró el driver de PostgreSQL\");\n",
    "    e.printStackTrace();\n",
    "} catch (SQLException e) {\n",
    "    System.err.println(\"Error: No se pudo conectar a la base de datos\");\n",
    "    e.printStackTrace();\n",
    "}\n",
    "\n",
    "return Employees;"
   ]
  }
 ],
 "metadata": {
  "language_info": {
   "name": "python"
  }
 },
 "nbformat": 4,
 "nbformat_minor": 2
}
