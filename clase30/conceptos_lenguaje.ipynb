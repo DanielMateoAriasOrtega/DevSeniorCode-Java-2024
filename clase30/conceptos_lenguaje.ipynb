{
 "cells": [
  {
   "cell_type": "markdown",
   "metadata": {},
   "source": [
    "# Streams avanzados y Parallel Streams"
   ]
  },
  {
   "cell_type": "markdown",
   "metadata": {},
   "source": [
    "## Introducción a Streams Avanzados en Java"
   ]
  },
  {
   "cell_type": "markdown",
   "metadata": {},
   "source": [
    "### Streams y su importancia en el manejo de colecciones"
   ]
  },
  {
   "cell_type": "markdown",
   "metadata": {},
   "source": [
    "Un **Stream** en Java es una abstracción que permite procesar colecciones de datos de forma funcional, declarativa y eficiente. En lugar de trabajar con bucles tradicionales, los Streams proporcionan una manera más concisa y expresiva de manejar datos.\n",
    "\n",
    "#### Características clave\n",
    "- **No almacenan datos**: Un Stream no es una estructura de datos en sí misma, sino que opera sobre la fuente (como una lista o un conjunto).\n",
    "- **Inmutabilidad**: No modifican la colección original; generan nuevas instancias o resultados.\n",
    "- **Encadenamiento**: Permiten encadenar operaciones, creando un flujo de procesamiento claro y lógico."
   ]
  },
  {
   "cell_type": "markdown",
   "metadata": {},
   "source": [
    "\n",
    "### Diferencia entre operaciones intermedias y terminales"
   ]
  },
  {
   "cell_type": "markdown",
   "metadata": {},
   "source": [
    "- **Intermedias**: Transforman el Stream y devuelven otro Stream. Son \"lazy\" (evaluación perezosa), lo que significa que no se ejecutan hasta que se invoca una operación terminal.\n",
    "\n",
    "Ejemplo: `filter()`, `map()`, `sorted()`.\n",
    "\n",
    "- **Terminales**: Estas operaciones devuelven un resultado concreto, como un valor, una colección o ejecutan una acción final.\n",
    "\n",
    "Ejemplo: `collect()`, `forEach()`, `reduce()`.\n"
   ]
  },
  {
   "cell_type": "code",
   "execution_count": null,
   "metadata": {
    "vscode": {
     "languageId": "java"
    }
   },
   "outputs": [],
   "source": [
    "var nombres = Arrays.asList(\"Cesar\", \"Luis\", \"Maria\");\n",
    "var resultado = nombres.stream()\n",
    "        .filter(nombre -> nombre.startsWith(\"C\"))\n",
    "        .map(String::toUpperCase)\n",
    "        .sorted()\n",
    "        .collect(Collectors.toList());\n",
    "\n",
    "System.out.println(resultado);"
   ]
  },
  {
   "cell_type": "markdown",
   "metadata": {},
   "source": [
    "### Lazy Evaluation"
   ]
  },
  {
   "cell_type": "markdown",
   "metadata": {},
   "source": [
    "Una de las características más poderosas de los Streams es la **evaluación perezosa**. Esto significa que las operaciones intermedias no procesan los datos hasta que una operación terminal lo desencadena. Esto mejora el rendimiento, ya que solo se procesan los elementos necesarios."
   ]
  },
  {
   "cell_type": "code",
   "execution_count": null,
   "metadata": {
    "vscode": {
     "languageId": "java"
    }
   },
   "outputs": [],
   "source": [
    "var numeros = Arrays.asList(1, 2, 3, 4, 5, 6);\n",
    "numeros.stream()\n",
    "       .filter(n -> n > 2) // No se ejecuta aún.\n",
    "       .map(n -> n * 2)   // Tampoco se ejecuta.\n",
    "       .forEach(System.out::println); // Ahora todas las operaciones se ejecutan."
   ]
  },
  {
   "cell_type": "markdown",
   "metadata": {},
   "source": [
    "### Beneficios de usar Streams"
   ]
  },
  {
   "cell_type": "markdown",
   "metadata": {},
   "source": [
    "- Código más legible y conciso.\n",
    "- Eliminación de bucles anidados.\n",
    "- Mejor aprovechamiento de la arquitectura multicore con **Parallel Streams**."
   ]
  },
  {
   "cell_type": "markdown",
   "metadata": {},
   "source": [
    "## Operaciones Avanzadas con Streams"
   ]
  },
  {
   "cell_type": "markdown",
   "metadata": {},
   "source": [
    "### Uso de `flatMap` para transformar y aplanar estructuras de datos"
   ]
  },
  {
   "cell_type": "markdown",
   "metadata": {},
   "source": [
    "El método `flatMap` es ideal para trabajar con estructuras de datos complejas, como listas de listas. Este operador \"aplana\" múltiples niveles de datos, transformándolos en un único Stream."
   ]
  },
  {
   "cell_type": "code",
   "execution_count": null,
   "metadata": {
    "vscode": {
     "languageId": "java"
    }
   },
   "outputs": [],
   "source": [
    "var listaDeListas = Arrays.asList(\n",
    "    Arrays.asList(\"Java\", \"Streams\"),\n",
    "    Arrays.asList(\"FlatMap\", \"Avanzado\")\n",
    ");\n",
    "\n",
    "var resultado = listaDeListas.stream()\n",
    "        .flatMap(List::stream) // Aplana las listas.\n",
    "        .collect(Collectors.toList());\n",
    "System.out.println(resultado);\n",
    "// Salida: [Java, Streams, FlatMap, Avanzado]"
   ]
  },
  {
   "cell_type": "markdown",
   "metadata": {},
   "source": [
    "### Ejecución de operaciones personalizadas con `peek`\n"
   ]
  },
  {
   "cell_type": "markdown",
   "metadata": {},
   "source": [
    "El método `peek` se utiliza para realizar acciones adicionales durante el procesamiento, como depuración o registro, sin afectar la transformación."
   ]
  },
  {
   "cell_type": "code",
   "execution_count": null,
   "metadata": {
    "vscode": {
     "languageId": "java"
    }
   },
   "outputs": [],
   "source": [
    "var nombres = Arrays.asList(\"Cesar\", \"Luis\", \"Ana\");\n",
    "\n",
    "nombres.stream()\n",
    "       .peek(nombre -> System.out.println(\"Procesando: \" + nombre)) // Depuración.\n",
    "       .map(String::toUpperCase)\n",
    "       .forEach(System.out::println);"
   ]
  },
  {
   "cell_type": "markdown",
   "metadata": {},
   "source": [
    "**Nota**: Aunque `peek` puede ser útil, úsalo con cuidado, ya que no está diseñado para reemplazar operaciones terminales como `forEach`."
   ]
  },
  {
   "cell_type": "markdown",
   "metadata": {},
   "source": [
    "### Manejo de excepciones en Streams\n"
   ]
  },
  {
   "cell_type": "markdown",
   "metadata": {},
   "source": [
    "Dado que muchas operaciones de Streams pueden lanzar excepciones, es esencial manejarlas adecuadamente. Para ello, puedes usar funciones personalizadas o encapsular operaciones en bloques `try-catch`.\n"
   ]
  },
  {
   "cell_type": "code",
   "execution_count": null,
   "metadata": {
    "vscode": {
     "languageId": "java"
    }
   },
   "outputs": [],
   "source": [
    "List<String> numeros = Arrays.asList(\"10\", \"20\", \"abc\", \"30\");\n",
    "\n",
    "numeros.stream()\n",
    "       .map(n -> {\n",
    "           try {\n",
    "               return Integer.parseInt(n);\n",
    "           } catch (NumberFormatException e) {\n",
    "               System.err.println(\"Error al convertir: \" + n);\n",
    "               return 0;\n",
    "           }\n",
    "       })\n",
    "       .forEach(System.out::println);\n",
    "// Salida: 10, 20, 0, 30"
   ]
  },
  {
   "cell_type": "markdown",
   "metadata": {},
   "source": [
    "### Uso avanzado de `reduce` para agregaciones"
   ]
  },
  {
   "cell_type": "markdown",
   "metadata": {},
   "source": [
    "El método `reduce` permite realizar operaciones de agregación, como sumar, encontrar el valor máximo/mínimo, concatenar cadenas, entre otros."
   ]
  },
  {
   "cell_type": "code",
   "execution_count": null,
   "metadata": {
    "vscode": {
     "languageId": "java"
    }
   },
   "outputs": [],
   "source": [
    "var numeros = Arrays.asList(1, 2, 3, 4);\n",
    "\n",
    "var suma = numeros.stream()\n",
    "        .reduce(0, Integer::sum); // Inicio en 0 y suma cada elemento.\n",
    "System.out.println(suma); // Salida: 10"
   ]
  },
  {
   "cell_type": "code",
   "execution_count": null,
   "metadata": {
    "vscode": {
     "languageId": "java"
    }
   },
   "outputs": [],
   "source": [
    "var maximo = numeros.stream()\n",
    "        .reduce(Integer::max);\n",
    "maximo.ifPresent(System.out::println); // Salida: 4"
   ]
  },
  {
   "cell_type": "markdown",
   "metadata": {},
   "source": [
    "## Parallel Streams"
   ]
  },
  {
   "cell_type": "markdown",
   "metadata": {},
   "source": [
    "Los **Parallel Streams** son una característica de Java que permite dividir las tareas de procesamiento en sub-tareas para ejecutarlas simultáneamente en múltiples núcleos del procesador. Esto puede mejorar considerablemente el rendimiento en ciertos casos.\n",
    "\n",
    "![Streams secuencia y paralelo](https://miro.medium.com/v2/resize:fit:720/format:webp/1*pRTe-Sg_BS_esta41QHBRw.png)\n"
   ]
  },
  {
   "cell_type": "markdown",
   "metadata": {},
   "source": [
    "\n",
    "### Introducción al paralelismo"
   ]
  },
  {
   "cell_type": "markdown",
   "metadata": {},
   "source": [
    "- Un **Stream secuencial** procesa los datos en un solo núcleo de forma ordenada.\n",
    "- Un **Parallel Stream** divide los datos en fragmentos y los distribuye entre varios núcleos para su procesamiento paralelo."
   ]
  },
  {
   "cell_type": "code",
   "execution_count": null,
   "metadata": {
    "vscode": {
     "languageId": "java"
    }
   },
   "outputs": [],
   "source": [
    "var numeros = Arrays.asList(1, 2, 3, 4, 5, 6, 7, 8);\n",
    "\n",
    "int sumaSecuencial = numeros.stream()\n",
    "        .mapToInt(Integer::intValue)\n",
    "        .sum();\n",
    "System.out.println(\"Suma secuencial: \" + sumaSecuencial);"
   ]
  },
  {
   "cell_type": "code",
   "execution_count": null,
   "metadata": {
    "vscode": {
     "languageId": "java"
    }
   },
   "outputs": [],
   "source": [
    "var numeros = Arrays.asList(1, 2, 3, 4, 5, 6, 7, 8);\n",
    "\n",
    "int sumaParalela = numeros.parallelStream()\n",
    "        .mapToInt(Integer::intValue)\n",
    "        .sum();\n",
    "System.out.println(\"Suma paralela: \" + sumaParalela);"
   ]
  },
  {
   "cell_type": "markdown",
   "metadata": {},
   "source": [
    "### Cómo crear Parallel Streams"
   ]
  },
  {
   "cell_type": "markdown",
   "metadata": {},
   "source": [
    "1. El método `parallelStream()` en colecciones"
   ]
  },
  {
   "cell_type": "code",
   "execution_count": null,
   "metadata": {
    "vscode": {
     "languageId": "java"
    }
   },
   "outputs": [],
   "source": [
    "var datos = Arrays.asList(\"a\", \"b\", \"c\");\n",
    "datos.parallelStream()\n",
    "        .forEach(System.out::println);"
   ]
  },
  {
   "cell_type": "markdown",
   "metadata": {},
   "source": [
    "2. El método `Stream.parallel()`"
   ]
  },
  {
   "cell_type": "code",
   "execution_count": null,
   "metadata": {
    "vscode": {
     "languageId": "java"
    }
   },
   "outputs": [],
   "source": [
    "Stream.of(\"x\", \"y\", \"z\")\n",
    "        .parallel()\n",
    "        .forEach(System.out::println);"
   ]
  },
  {
   "cell_type": "markdown",
   "metadata": {},
   "source": [
    "\n",
    "### Comparación entre Streams secuenciales y paralelos"
   ]
  },
  {
   "cell_type": "markdown",
   "metadata": {},
   "source": [
    "| Aspecto | Stream Secuencial | Parallel Stream |\n",
    "| --- | --- | --- |\n",
    "| Procesamiento | Un solo núcleo | Varios núcleos |\n",
    "| Orden | Respeta el orden original | Puede no garantizar el orden |\n",
    "| Overhead| Mínimo | Mayor debido al coste de paralelismo |\n",
    "| Escenarios ideales | Tareas simples o pequeñas | Tareas intensivas en cálculo (CPU-intensive) |\n",
    "\n",
    "**Nota importante**: Usar **Parallel Streams** no siempre es más rápido. Hay un coste adicional asociado con dividir y combinar los datos."
   ]
  },
  {
   "cell_type": "markdown",
   "metadata": {},
   "source": [
    "### Beneficios y limitaciones de Parallel Streams"
   ]
  },
  {
   "cell_type": "markdown",
   "metadata": {},
   "source": [
    "**Beneficios**:\n",
    "- Aprovechan la arquitectura multicore de los procesadores modernos.\n",
    "- Permiten dividir y conquistar tareas complejas de forma eficiente.\n",
    "\n",
    "**Limitaciones**:\n",
    "- No son ideales para operaciones dependientes del orden.\n",
    "- Pueden generar **condiciones de carrera** si las operaciones no son thread-safe.\n",
    "- Consumen más recursos para tareas pequeñas o simples."
   ]
  },
  {
   "cell_type": "code",
   "execution_count": null,
   "metadata": {
    "vscode": {
     "languageId": "java"
    }
   },
   "outputs": [],
   "source": [
    "var lista = Collections.synchronizedList(new ArrayList<>());\n",
    "\n",
    "IntStream.range(1, 1000)\n",
    "    .parallel()\n",
    "    .forEach(lista::add);\n",
    "\n",
    "System.out.println(\"Tamaño de la lista: \" + lista.size());"
   ]
  },
  {
   "cell_type": "markdown",
   "metadata": {},
   "source": [
    "El tamaño final de la lista puede ser incorrecto debido a condiciones de carrera."
   ]
  },
  {
   "cell_type": "markdown",
   "metadata": {},
   "source": [
    "### Escenarios recomendados para Parallel Streams"
   ]
  },
  {
   "cell_type": "markdown",
   "metadata": {},
   "source": [
    "- Procesamiento de grandes volúmenes de datos (Big Data).\n",
    "- Operaciones intensivas en cálculos matemáticos (por ejemplo, simulaciones o análisis científicos).\n",
    "- Filtrados o transformaciones de datos donde el orden no es crítico."
   ]
  },
  {
   "cell_type": "markdown",
   "metadata": {},
   "source": [
    "## Casos de Uso y Buenas Prácticas"
   ]
  },
  {
   "cell_type": "markdown",
   "metadata": {},
   "source": [
    "### Casos de Uso Comunes"
   ]
  },
  {
   "cell_type": "markdown",
   "metadata": {},
   "source": [
    "1. **Procesamiento de grandes volúmenes de datos**: Los Streams son ideales para manejar colecciones o archivos extensos, ya que permiten operaciones rápidas y concisas como filtrados, transformaciones y reducciones.\n",
    "    -  Ejemplo: Procesar archivos CSV o JSON masivos para extraer información.\n",
    "1. **Agregaciones y cálculos**: Para operaciones como sumas, promedios, máximos y mínimos, el método `reduce` o las clases de utilidades como `Collectors` son muy útiles.\n",
    "    - Ejemplo: Calcular estadísticas de ventas en una base de datos.\n",
    "1. **Transformación de datos**: Convertir formatos o tipos de datos mediante el uso de `map` o `flatMap`.\n",
    "    - Ejemplo: Transformar listas de objetos en mapas clave-valor.\n",
    "1. **Filtrado y búsqueda**: Streams facilitan encontrar elementos específicos en colecciones de gran tamaño.\n",
    "    - Ejemplo: Buscar el primer empleado con un salario mayor a un umbral."
   ]
  },
  {
   "cell_type": "markdown",
   "metadata": {},
   "source": [
    "### Buenas Prácticas con Streams"
   ]
  },
  {
   "cell_type": "markdown",
   "metadata": {},
   "source": [
    "1. **Mantén el código legible**: Los Streams pueden volverse complejos rápidamente si no se estructuran adecuadamente. Usa líneas separadas para cada operación y comenta las secciones críticas si es necesario."
   ]
  },
  {
   "cell_type": "code",
   "execution_count": null,
   "metadata": {
    "vscode": {
     "languageId": "java"
    }
   },
   "outputs": [],
   "source": [
    "empleados.stream()\n",
    "        .filter(emp -> emp.getEdad() > 30) // Filtrar empleados mayores de 30\n",
    "        .map(Empresa::getDepartamento)    // Obtener departamentos\n",
    "        .distinct()                       // Eliminar duplicados\n",
    "        .forEach(System.out::println);    // Imprimir resultado"
   ]
  },
  {
   "cell_type": "markdown",
   "metadata": {},
   "source": [
    "\n",
    "2. **Evita usar Parallel Streams sin un análisis previo**:\n",
    "    - Úsalos solo para tareas intensivas en CPU o cuando el orden no sea crítico.\n",
    "    - Evítalos si trabajas con recursos compartidos o I/O, ya que podrían provocar cuellos de botella.\n",
    "\n",
    "3. **Cuidado con las operaciones mutables**: No modifiques colecciones externas dentro de un Stream. Usa métodos como collect para generar nuevas estructuras de datos."
   ]
  },
  {
   "cell_type": "code",
   "execution_count": null,
   "metadata": {
    "vscode": {
     "languageId": "java"
    }
   },
   "outputs": [],
   "source": [
    "// Ejemplo incorrecto\n",
    "\n",
    "var resultado = new ArrayList<>();\n",
    "lista.stream()\n",
    "    .forEach(resultado::add); // Puede generar problemas en Streams paralelos"
   ]
  },
  {
   "cell_type": "code",
   "execution_count": null,
   "metadata": {
    "vscode": {
     "languageId": "java"
    }
   },
   "outputs": [],
   "source": [
    "// Ejemplo correcto\n",
    "var resultado = lista.stream()\n",
    "        .filter(e -> e.length() > 3)\n",
    "        .collect(Collectors.toList());"
   ]
  },
  {
   "cell_type": "markdown",
   "metadata": {},
   "source": [
    "4. **Haz operaciones costosas al final**: Mueve operaciones como sorted al final del pipeline para evitar overhead innecesario.\n",
    "\n",
    "5. **Usa Lazy Evaluation a tu favor**: Aprovecha la evaluación perezosa para optimizar el procesamiento de datos. Asegúrate de que las operaciones intermedias sean eficientes."
   ]
  },
  {
   "cell_type": "markdown",
   "metadata": {},
   "source": [
    "\n",
    "### Ejemplo Real: Procesamiento de Logs\n",
    "Supongamos que tienes un archivo de logs y necesitas identificar entradas de error."
   ]
  },
  {
   "cell_type": "code",
   "execution_count": null,
   "metadata": {
    "vscode": {
     "languageId": "java"
    }
   },
   "outputs": [],
   "source": [
    "try (Stream<String> lineas = Files.lines(Paths.get(\"logs.txt\"))) {\n",
    "    var errores = lineas.filter(linea -> linea.contains(\"ERROR\"))\n",
    "            .map(String::trim)\n",
    "            .collect(Collectors.toList());\n",
    "    errores.forEach(System.out::println);\n",
    "} catch (IOException e) {\n",
    "    e.printStackTrace();\n",
    "}"
   ]
  },
  {
   "cell_type": "markdown",
   "metadata": {},
   "source": [
    "### Limitaciones a Tener en Cuenta"
   ]
  },
  {
   "cell_type": "markdown",
   "metadata": {},
   "source": [
    "- **Sobrehead de Parallel Streams**: No uses Parallel Streams si la tarea es pequeña o si el tiempo de división/combina es mayor que el tiempo de ejecución de la tarea.\n",
    "- **Orden de ejecución**: Si el orden es importante (como en operaciones financieras), usa Streams secuenciales.\n",
    "- **Condiciones de carrera**: Asegúrate de que tus operaciones sean thread-safe."
   ]
  },
  {
   "cell_type": "markdown",
   "metadata": {},
   "source": [
    "## Ejercicios Prácticos"
   ]
  },
  {
   "cell_type": "markdown",
   "metadata": {},
   "source": [
    "### Ejercicio 1: Procesamiento de archivos CSV con Streams"
   ]
  },
  {
   "cell_type": "markdown",
   "metadata": {},
   "source": [
    "**Descripción**: Dado un archivo CSV con información de ventas, procesa los datos para calcular las ventas totales por región.\n",
    "\n",
    "**Pasos**:\n",
    "1. Lee el archivo línea por línea usando `Files.lines`.\n",
    "1. Usa `filter` para eliminar líneas vacías o incorrectas.\n",
    "1. Divide los datos con `split` para acceder a las columnas necesarias.\n",
    "1. Usa `map` y `collect` para agrupar las ventas por región y calcular totales.\n",
    "\n",
    "**Ejemplo de entrada (archivo CSV)**:"
   ]
  },
  {
   "cell_type": "code",
   "execution_count": null,
   "metadata": {
    "vscode": {
     "languageId": "plaintext"
    }
   },
   "outputs": [],
   "source": [
    "Región,Producto,Ventas\n",
    "Norte,Café,100\n",
    "Sur,Té,200\n",
    "Norte,Té,150"
   ]
  },
  {
   "cell_type": "markdown",
   "metadata": {},
   "source": [
    "**Tarea**: Calcula las ventas totales por región:"
   ]
  },
  {
   "cell_type": "code",
   "execution_count": null,
   "metadata": {
    "vscode": {
     "languageId": "plaintext"
    }
   },
   "outputs": [],
   "source": [
    "Norte: 250\n",
    "Sur: 200"
   ]
  },
  {
   "cell_type": "markdown",
   "metadata": {},
   "source": [
    "### Ejercicio 2: Contar palabras únicas en un texto"
   ]
  },
  {
   "cell_type": "markdown",
   "metadata": {},
   "source": [
    "**Descripción**: Dado un texto, utiliza Streams para contar las palabras únicas y ordenar los resultados alfabéticamente.\n",
    "\n",
    "**Pasos**:\n",
    "1. Convierte el texto en una lista de palabras usando `split`.\n",
    "1. Usa un Stream para eliminar caracteres especiales y normalizar las palabras (pasar a minúsculas).\n",
    "1. Usa `distinct` para encontrar palabras únicas.\n",
    "1. Colecciona las palabras en una lista ordenada.\n",
    "\n",
    "**Ejemplo**: \n",
    "- **Texto**: \"Java Streams son poderosos. Streams en Java son eficientes.\" \n",
    "- **Resultado**: [eficientes, en, java, poderosos, son, streams]"
   ]
  },
  {
   "cell_type": "markdown",
   "metadata": {},
   "source": [
    "### Ejercicio 3: Procesamiento de grandes listas con Parallel Streams"
   ]
  },
  {
   "cell_type": "markdown",
   "metadata": {},
   "source": [
    "**Descripción**: Dada una lista de números enteros (de 1 a 10,000,000), usa Parallel Streams para encontrar todos los números primos.\n",
    "\n",
    "**Pasos**:\n",
    "1. Genera la lista con `IntStream.range`.\n",
    "1. Filtra los números primos usando un método auxiliar.\n",
    "1. Usa `parallelStream` para paralelizar la operación.\n",
    "1. Guarda los números primos en una lista.\n",
    "\n",
    "**Desafío adicional**: Compara el tiempo de ejecución entre un Stream secuencial y uno paralelo."
   ]
  },
  {
   "cell_type": "markdown",
   "metadata": {},
   "source": [
    "### Ejercicio 4: Análisis de logs con Streams"
   ]
  },
  {
   "cell_type": "markdown",
   "metadata": {},
   "source": [
    "**Descripción**: Dado un archivo de logs de un servidor, encuentra y agrupa los errores por tipo.\n",
    "\n",
    "**Pasos**:\n",
    "1. Lee el archivo de logs con `Files.lines`.\n",
    "1. Filtra líneas que contengan la palabra \"ERROR\".\n",
    "1. Usa `map` y `collect` para agrupar los errores por tipo.\n",
    "1. Calcula cuántos errores hay de cada tipo.\n",
    "\n",
    "**Ejemplo de entrada**:"
   ]
  },
  {
   "cell_type": "code",
   "execution_count": null,
   "metadata": {
    "vscode": {
     "languageId": "plaintext"
    }
   },
   "outputs": [],
   "source": [
    "INFO - Inicio del sistema\n",
    "ERROR - Conexión fallida\n",
    "ERROR - Usuario no autorizado\n",
    "INFO - Proceso completado\n",
    "ERROR - Conexión fallida"
   ]
  },
  {
   "cell_type": "markdown",
   "metadata": {},
   "source": [
    "**Resultado esperado**:"
   ]
  },
  {
   "cell_type": "code",
   "execution_count": null,
   "metadata": {
    "vscode": {
     "languageId": "plaintext"
    }
   },
   "outputs": [],
   "source": [
    "Conexión fallida: 2\n",
    "Usuario no autorizado: 1"
   ]
  },
  {
   "cell_type": "markdown",
   "metadata": {},
   "source": [
    "### Ejercicio 5: Transformación y agrupación de datos"
   ]
  },
  {
   "cell_type": "markdown",
   "metadata": {},
   "source": [
    "**Descripción**: Dado un catálogo de productos con sus categorías, utiliza Streams para agrupar los productos por categoría y calcular el precio promedio de cada grupo.\n",
    "\n",
    "**Pasos**:\n",
    "1. Crea una lista de objetos Producto con atributos como nombre, categoría y precio.\n",
    "1. Usa `groupingBy` para agrupar los productos por categoría.\n",
    "1. Calcula el precio promedio de cada categoría usando `averagingDouble`.\n",
    "\n",
    "**Ejemplo**: Lista de productos:"
   ]
  },
  {
   "cell_type": "code",
   "execution_count": null,
   "metadata": {
    "vscode": {
     "languageId": "java"
    }
   },
   "outputs": [],
   "source": [
    "List<Producto> productos = Arrays.asList(\n",
    "    new Producto(\"Café\", \"Bebidas\", 5.0),\n",
    "    new Producto(\"Té\", \"Bebidas\", 3.0),\n",
    "    new Producto(\"Pan\", \"Alimentos\", 2.0)\n",
    ");"
   ]
  },
  {
   "cell_type": "markdown",
   "metadata": {},
   "source": [
    "**Resultado esperado**:"
   ]
  },
  {
   "cell_type": "code",
   "execution_count": null,
   "metadata": {
    "vscode": {
     "languageId": "java"
    }
   },
   "outputs": [],
   "source": [
    "Bebidas: 4.0\n",
    "Alimentos: 2.0"
   ]
  },
  {
   "cell_type": "markdown",
   "metadata": {},
   "source": [
    "### Ejercicio 6: Suma paralela de elementos en una lista grande"
   ]
  },
  {
   "cell_type": "markdown",
   "metadata": {},
   "source": [
    "**Descripción**: Usa Parallel Streams para calcular la suma de una lista con millones de números.\n",
    "\n",
    "**Pasos**:\n",
    "1. Genera una lista con `IntStream.range`.\n",
    "1. Usa `parallel()` para paralelizar la suma.\n",
    "1. Mide el tiempo de ejecución y compáralo con un Stream secuencial."
   ]
  }
 ],
 "metadata": {
  "language_info": {
   "name": "python"
  }
 },
 "nbformat": 4,
 "nbformat_minor": 2
}
