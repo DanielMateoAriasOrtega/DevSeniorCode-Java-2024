{
 "cells": [
  {
   "cell_type": "markdown",
   "metadata": {},
   "source": [
    "# Conceptos del lenguaje"
   ]
  },
  {
   "cell_type": "markdown",
   "metadata": {},
   "source": [
    "## Uso de `Comparator` y `Comparable` para ordenación"
   ]
  },
  {
   "cell_type": "markdown",
   "metadata": {},
   "source": [
    "### 1. `Comparable`: Orden natural de los objetos"
   ]
  },
  {
   "cell_type": "markdown",
   "metadata": {},
   "source": [
    "La interfaz `Comparable` permite definir un orden natural de los objetos de una clase, como el orden alfabético o numérico.\n",
    "#### Cómo usarla\n",
    "Implementa el método `compareTo()` dentro de la clase que deseas ordenar. Este método devuelve:\n",
    "  - Un número negativo si el objeto actual debe estar antes que el otro.\n",
    "  - Cero si son iguales.\n",
    "  - Un número positivo si el objeto actual debe estar después."
   ]
  },
  {
   "cell_type": "code",
   "execution_count": null,
   "metadata": {
    "vscode": {
     "languageId": "java"
    }
   },
   "outputs": [],
   "source": [
    "class Persona implements Comparable<Persona> {\n",
    "    private String nombre;\n",
    "\n",
    "    public Persona(String nombre) {\n",
    "        this.nombre = nombre;\n",
    "    }\n",
    "\n",
    "    public String getNombre() {\n",
    "        return nombre;\n",
    "    }\n",
    "\n",
    "    @Override\n",
    "    public int compareTo(Persona otra) {\n",
    "        return this.nombre.compareTo(otra.nombre);\n",
    "    }\n",
    "}\n",
    "\n",
    "public class Main {\n",
    "    public static void main(String[] args) {\n",
    "        List<Persona> personas = new ArrayList<>();\n",
    "        personas.add(new Persona(\"Carlos\"));\n",
    "        personas.add(new Persona(\"Ana\"));\n",
    "        personas.add(new Persona(\"Luis\"));\n",
    "\n",
    "        // Ordenar usando Comparable\n",
    "        Collections.sort(personas);\n",
    "        personas.forEach(p -> System.out.println(p.getNombre()));\n",
    "    }\n",
    "}"
   ]
  },
  {
   "cell_type": "code",
   "execution_count": null,
   "metadata": {
    "vscode": {
     "languageId": "plaintext"
    }
   },
   "outputs": [],
   "source": [
    "Ana\n",
    "Carlos\n",
    "Luis"
   ]
  },
  {
   "cell_type": "markdown",
   "metadata": {},
   "source": [
    "### 2. `Comparator`: Orden personalizado"
   ]
  },
  {
   "cell_type": "markdown",
   "metadata": {},
   "source": [
    "La interfaz `Comparator` permite definir múltiples criterios de ordenación sin modificar la clase original.\n",
    "\n",
    "#### Cómo usarla: \n",
    "Implementa el método `compare()` o utiliza lambdas para una mayor concisión."
   ]
  },
  {
   "cell_type": "code",
   "execution_count": null,
   "metadata": {
    "vscode": {
     "languageId": "java"
    }
   },
   "outputs": [],
   "source": [
    "class ComparadorPorLongitud implements Comparator<Persona> {\n",
    "    @Override\n",
    "    public int compare(Persona p1, Persona p2) {\n",
    "        return Integer.compare(p1.getNombre().length(), p2.getNombre().length());\n",
    "    }\n",
    "}\n",
    "\n",
    "public class Main {\n",
    "    public static void main(String[] args) {\n",
    "        // Crear lista de personas\n",
    "        List<Persona> personas = new ArrayList<>();\n",
    "        personas.add(new Persona(\"Carlos\"));\n",
    "        personas.add(new Persona(\"Ana\"));\n",
    "        personas.add(new Persona(\"Alejandro\"));\n",
    "\n",
    "        // Usar ComparadorPorLongitud para ordenar\n",
    "        ComparadorPorLongitud comparador = new ComparadorPorLongitud();\n",
    "        Collections.sort(personas, comparador);\n",
    "\n",
    "        // Imprimir los resultados\n",
    "        System.out.println(\"Ordenado por longitud del nombre:\");\n",
    "        for (Persona p : personas) {\n",
    "            System.out.println(p.getNombre());\n",
    "        }\n",
    "    }\n",
    "}"
   ]
  },
  {
   "cell_type": "code",
   "execution_count": null,
   "metadata": {
    "vscode": {
     "languageId": "java"
    }
   },
   "outputs": [],
   "source": [
    "public class Main {\n",
    "    public static void main(String[] args) {\n",
    "        List<Persona> personas = new ArrayList<>();\n",
    "        personas.add(new Persona(\"Carlos\"));\n",
    "        personas.add(new Persona(\"Ana\"));\n",
    "        personas.add(new Persona(\"Luis\"));\n",
    "\n",
    "        // Ordenar por longitud del nombre usando Comparator con lambda\n",
    "        personas.sort((p1, p2) -> Integer.compare(p1.getNombre().length(), p2.getNombre().length()));\n",
    "        personas.forEach(p -> System.out.println(p.getNombre()));\n",
    "    }\n",
    "}"
   ]
  },
  {
   "cell_type": "markdown",
   "metadata": {},
   "source": [
    "### 3. Ordenación con Streams"
   ]
  },
  {
   "cell_type": "markdown",
   "metadata": {},
   "source": [
    "A partir de Java 8, puedes usar las capacidades de Streams para ordenar de manera fluida"
   ]
  },
  {
   "cell_type": "code",
   "execution_count": null,
   "metadata": {
    "vscode": {
     "languageId": "java"
    }
   },
   "outputs": [],
   "source": [
    "List<Persona> personas = Arrays.asList(\n",
    "    new Persona(\"Carlos\"),\n",
    "    new Persona(\"Ana\"),\n",
    "    new Persona(\"Luis\")\n",
    ");\n",
    "\n",
    "personas.stream()\n",
    "        .sorted((p1, p2) -> p1.getNombre().compareTo(p2.getNombre()))\n",
    "        .forEach(p -> System.out.println(p.getNombre()));"
   ]
  },
  {
   "cell_type": "markdown",
   "metadata": {},
   "source": [
    "### 4. Diferencias clave entre `Comparable` y `Comparator`"
   ]
  },
  {
   "cell_type": "markdown",
   "metadata": {},
   "source": [
    "| Aspecto | `Comparable` | `Comparator` |\n",
    "| --- | --- | --- |\n",
    "| Definición del criterio | Se define dentro de la clase misma. | Se define externamente. |\n",
    "| Número de criterios | Solo uno (orden natural) | Múltiples, dependiendo del caso |\n",
    "| Uso principal | Orden básico y natural | Orden personalizado |\n",
    "\n",
    "\n"
   ]
  },
  {
   "cell_type": "markdown",
   "metadata": {},
   "source": [
    "### 5. Ejemplo `Comparable`"
   ]
  },
  {
   "cell_type": "markdown",
   "metadata": {},
   "source": [
    "**Descripción**: En este ejercicio, aprenderás a implementar la interfaz `Comparable` para definir el orden natural de una clase personalizada. Usaremos una clase `Estudiante` con los atributos nombre y edad. El objetivo es ordenar una lista de estudiantes por edad de manera ascendente, lo que reflejará el comportamiento por defecto (orden natural) al utilizar `Collections.sort()`.\n",
    "\n",
    "**Objetivo del aprendizaje**: Entender cómo implementar el método `compareTo()` en una clase para permitir la ordenación automática de sus objetos con base en un criterio principal.\n",
    "\n",
    "**Por qué es importante**: La implementación de `Comparable` te permite definir un único criterio de orden natural para tus objetos, lo que es esencial para operaciones de ordenación básicas en colecciones."
   ]
  },
  {
   "cell_type": "code",
   "execution_count": null,
   "metadata": {
    "vscode": {
     "languageId": "java"
    }
   },
   "outputs": [],
   "source": [
    "import java.util.Arrays;\n",
    "import java.util.Collections;\n",
    "\n",
    "public class Estudiante implements Comparable<Estudiante> {\n",
    "    private String nombre;\n",
    "    private Integer edad;\n",
    "\n",
    "    public Estudiante(String nombre, Integer edad) {\n",
    "        this.nombre = nombre;\n",
    "        this.edad = edad;\n",
    "    }\n",
    "\n",
    "    public String getNombre() {\n",
    "        return nombre;\n",
    "    }\n",
    "\n",
    "    public Integer getEdad() {\n",
    "        return edad;\n",
    "    }\n",
    "\n",
    "    @Override\n",
    "    public int compareTo(Estudiante o) {\n",
    "        return Integer.compare(this.edad, o.edad);\n",
    "    }\n",
    "\n",
    "    @Override\n",
    "    public String toString() {\n",
    "        return nombre + \" (Edad: \" + edad + \")\";\n",
    "    }\n",
    "}\n",
    "\n",
    "public class UsoComparable {\n",
    "    public static void main(String[] args) {\n",
    "        // Crear lista de estudiantes\n",
    "        var estudiantes = Arrays.asList(\n",
    "                new Estudiante(\"Ana\", 21),\n",
    "                new Estudiante(\"Carlos\", 23),\n",
    "                new Estudiante(\"Luis\", 20),\n",
    "                new Estudiante(\"María\", 23));\n",
    "\n",
    "        // Ordenar por edad (Comparable)\n",
    "        System.out.println(\"Ordenado por edad (Comparable):\");\n",
    "        Collections.sort(estudiantes);\n",
    "        estudiantes.forEach(System.out::println);\n",
    "\n",
    "        // Ordenar por nombre (Comparator)\n",
    "        System.out.println(\"\\nOrdenado por nombre (Comparator):\");\n",
    "        estudiantes.sort((e1, e2) -> e1.getNombre().compareTo(e2.getNombre()));\n",
    "        estudiantes.forEach(System.out::println);\n",
    "    }\n",
    "}"
   ]
  },
  {
   "cell_type": "markdown",
   "metadata": {},
   "source": [
    "### 6. Ejemplo `Comparator`"
   ]
  },
  {
   "cell_type": "markdown",
   "metadata": {},
   "source": [
    "**Descripción**: Este ejercicio explora el uso de `Comparator` para definir y aplicar múltiples criterios de ordenación sin modificar la clase original. Usaremos la misma clase Estudiante, pero ahora ordenaremos:\n",
    "1. Por nombre en orden alfabético.\n",
    "1. Por edad en orden descendente.\n",
    "\n",
    "**Objetivo del aprendizaje**: Dominar el uso de `Comparator` con expresiones lambda para crear comparadores personalizados dinámicamente, destacando la flexibilidad frente a Comparable.\n",
    "\n",
    "**Por qué es importante**: El uso de `Comparator` es esencial cuando necesitas ordenar los mismos objetos de diferentes maneras, adaptándose a escenarios complejos o a los requisitos de negocio."
   ]
  },
  {
   "cell_type": "code",
   "execution_count": null,
   "metadata": {
    "vscode": {
     "languageId": "java"
    }
   },
   "outputs": [],
   "source": [
    "import java.util.Arrays;\n",
    "\n",
    "public class UsoComparator {\n",
    "    public static void main(String[] args) {\n",
    "        // Crear lista de estudiantes\n",
    "        var estudiantes = Arrays.asList(\n",
    "                new Estudiante(\"Ana\", 21),\n",
    "                new Estudiante(\"Carlos\", 23),\n",
    "                new Estudiante(\"Luis\", 20),\n",
    "                new Estudiante(\"María\", 23));\n",
    "\n",
    "        System.out.println(\"Lista original:\");\n",
    "        estudiantes.forEach(System.out::println);\n",
    "\n",
    "        // 1. Ordenar por nombre (alfabético)\n",
    "        System.out.println(\"\\nOrdenado por nombre (alfabético):\");\n",
    "        estudiantes.sort((e1, e2) -> e1.getNombre().compareTo(e2.getNombre()));\n",
    "        estudiantes.forEach(System.out::println);\n",
    "\n",
    "        // 2. Ordenar por edad (descendente)\n",
    "        System.out.println(\"\\nOrdenado por edad (descendente):\");\n",
    "        estudiantes.sort((e1, e2) -> Integer.compare(e2.getEdad(), e1.getEdad()));\n",
    "        estudiantes.forEach(System.out::println);\n",
    "    }\n",
    "}\n"
   ]
  },
  {
   "cell_type": "markdown",
   "metadata": {},
   "source": [
    "## Introducción a la programación concurrente con hilos"
   ]
  },
  {
   "cell_type": "markdown",
   "metadata": {},
   "source": [
    "Un hilo (**thread**) es la unidad más pequeña de procesamiento que puede ejecutar tareas en paralelo dentro de un proceso. En Java, la clase `Thread` y la interfaz `Runnable` son las principales herramientas para trabajar con hilos."
   ]
  },
  {
   "cell_type": "markdown",
   "metadata": {},
   "source": [
    "### 1. Creación de hilos"
   ]
  },
  {
   "cell_type": "markdown",
   "metadata": {},
   "source": [
    "Hay dos formas principales de crear un hilo en Java:\n",
    "- Extender la clase `Thread`.\n",
    "- Implementar la interfaz `Runnable`."
   ]
  },
  {
   "cell_type": "code",
   "execution_count": null,
   "metadata": {
    "vscode": {
     "languageId": "java"
    }
   },
   "outputs": [],
   "source": [
    "class MiHilo extends Thread {\n",
    "    @Override\n",
    "    public void run() {\n",
    "        System.out.println(\"Hilo en ejecución: \" + Thread.currentThread().getName());\n",
    "    }\n",
    "}\n",
    "\n",
    "public class Main {\n",
    "    public static void main(String[] args) {\n",
    "        MiHilo hilo = new MiHilo();\n",
    "        hilo.start();\n",
    "    }\n",
    "}"
   ]
  },
  {
   "cell_type": "code",
   "execution_count": null,
   "metadata": {
    "vscode": {
     "languageId": "java"
    }
   },
   "outputs": [],
   "source": [
    "class Tarea implements Runnable {\n",
    "    @Override\n",
    "    public void run() {\n",
    "        System.out.println(\"Tarea ejecutada por: \" + Thread.currentThread().getName());\n",
    "    }\n",
    "}\n",
    "\n",
    "public class Main {\n",
    "    public static void main(String[] args) {\n",
    "        Thread hilo = new Thread(new Tarea());\n",
    "        hilo.start();\n",
    "    }\n",
    "}"
   ]
  },
  {
   "cell_type": "markdown",
   "metadata": {},
   "source": [
    "### 2. Problemas comunes en programación concurrente"
   ]
  },
  {
   "cell_type": "markdown",
   "metadata": {},
   "source": [
    "1. **Condiciones de carrera**: Cuando varios hilos acceden y modifican datos compartidos, pueden producirse resultados inconsistentes.\n",
    "1. **Bloqueos**: Un hilo puede bloquearse esperando un recurso que otro hilo no libera.\n",
    "1. **Interbloqueos (deadlocks)**: Dos o más hilos están esperando indefinidamente porque cada uno está reteniendo un recurso necesario para los demás."
   ]
  },
  {
   "cell_type": "markdown",
   "metadata": {},
   "source": [
    "### 3. Sincronización de hilos"
   ]
  },
  {
   "cell_type": "markdown",
   "metadata": {},
   "source": [
    "Para evitar problemas como las condiciones de carrera, se puede usar la sincronización para garantizar que un solo hilo acceda a un recurso compartido a la vez."
   ]
  },
  {
   "cell_type": "code",
   "execution_count": null,
   "metadata": {
    "vscode": {
     "languageId": "java"
    }
   },
   "outputs": [],
   "source": [
    "class Contador {\n",
    "    private int conteo = 0;\n",
    "\n",
    "    public synchronized void incrementar() {\n",
    "        conteo++;\n",
    "    }\n",
    "\n",
    "    public synchronized int obtenerConteo() {\n",
    "        return conteo;\n",
    "    }\n",
    "}\n",
    "\n",
    "public class Main {\n",
    "    public static void main(String[] args) throws InterruptedException {\n",
    "        Contador contador = new Contador();\n",
    "\n",
    "        Runnable tarea = () -> {\n",
    "            for (int i = 0; i < 1000; i++) {\n",
    "                contador.incrementar();\n",
    "            }\n",
    "        };\n",
    "\n",
    "        Thread hilo1 = new Thread(tarea);\n",
    "        Thread hilo2 = new Thread(tarea);\n",
    "\n",
    "        hilo1.start();\n",
    "        hilo2.start();\n",
    "        hilo1.join();\n",
    "        hilo2.join();\n",
    "\n",
    "        System.out.println(\"Conteo final: \" + contador.obtenerConteo());\n",
    "    }\n",
    "}"
   ]
  },
  {
   "cell_type": "markdown",
   "metadata": {},
   "source": [
    "### 4. Alternativas modernas: **Executor Framework**"
   ]
  },
  {
   "cell_type": "markdown",
   "metadata": {},
   "source": [
    "A partir de Java 5, el paquete `java.util.concurrent` introdujo el `Executor Framework` como una alternativa más flexible y eficiente para manejar hilos."
   ]
  },
  {
   "cell_type": "code",
   "execution_count": null,
   "metadata": {
    "vscode": {
     "languageId": "java"
    }
   },
   "outputs": [],
   "source": [
    "import java.util.concurrent.ExecutorService;\n",
    "import java.util.concurrent.Executors;\n",
    "\n",
    "public class Main {\n",
    "    public static void main(String[] args) {\n",
    "        ExecutorService executor = Executors.newFixedThreadPool(2);\n",
    "\n",
    "        Runnable tarea = () -> {\n",
    "            System.out.println(\"Tarea ejecutada por: \" + Thread.currentThread().getName());\n",
    "        };\n",
    "\n",
    "        executor.submit(tarea);\n",
    "        executor.submit(tarea);\n",
    "        executor.shutdown();\n",
    "    }\n",
    "}"
   ]
  },
  {
   "cell_type": "markdown",
   "metadata": {},
   "source": [
    "## Uso de colecciones concurrentes"
   ]
  },
  {
   "cell_type": "markdown",
   "metadata": {},
   "source": [
    "### 1. ¿Por qué usar colecciones concurrentes?"
   ]
  },
  {
   "cell_type": "markdown",
   "metadata": {},
   "source": [
    "Las colecciones tradicionales, como `ArrayList`, `HashMap` o `LinkedList`, no son seguras para el acceso simultáneo de múltiples hilos. Esto puede causar problemas como:\n",
    "- **Condiciones de carrera**: Dos o más hilos acceden y modifican una colección al mismo tiempo, provocando inconsistencias.\n",
    "- **Excepciones inesperadas**: Por ejemplo, una `ConcurrentModificationException` al iterar sobre una colección que se está modificando.\n",
    "\n",
    "Las **colecciones concurrentes**, introducidas en el paquete `java.util.concurrent`, están diseñadas para resolver estos problemas al permitir acceso simultáneo seguro."
   ]
  },
  {
   "cell_type": "markdown",
   "metadata": {},
   "source": [
    "### 2. Principales clases de colecciones concurrentes"
   ]
  },
  {
   "cell_type": "markdown",
   "metadata": {},
   "source": [
    "\n",
    "| Clase | Descripción |\n",
    "| --- | --- |\n",
    "| `ConcurrentHashMap` | Un HashMap seguro para operaciones concurrentes. Es eficiente para lecturas y escrituras. |\n",
    "| `CopyOnWriteArrayList` | Una lista que copia su contenido en cada escritura, ideal para lecturas frecuentes. |\n",
    "| `ConcurrentLinkedQueue` | Una cola no bloqueante basada en nodos enlazados. |\n",
    "| `ConcurrentSkipListMap` | Un mapa ordenado que es seguro para hilos. |\n",
    "| `ConcurrentSkipListSet` | Un conjunto ordenado concurrente. |\n",
    "| `BlockingQueue` | Una cola que soporta operaciones de espera (útil en escenarios de productor-consumidor). |"
   ]
  },
  {
   "cell_type": "markdown",
   "metadata": {},
   "source": [
    "### 3. Ejemplo colecciones concurrentes\n"
   ]
  },
  {
   "cell_type": "markdown",
   "metadata": {},
   "source": [
    "**Descripción**: Este ejemplo simula un sistema simple de mensajes entre múltiples hilos utilizando la colección concurrente `ConcurrentLinkedQueue`. Esta clase ofrece una estructura de cola segura para la concurrencia y es ideal para escenarios donde varios hilos añaden o eliminan elementos simultáneamente.\n",
    "1. **Productores**: Dos hilos que añaden mensajes a la cola, simulando la generación de tareas o eventos.\n",
    "1. **Consumidor**: Un hilo que procesa (elimina y maneja) los mensajes de la cola mientras los productores continúan añadiendo.\n",
    "\n",
    "**Objetivo del aprendizaje**: Comprender cómo las colecciones concurrentes como `ConcurrentLinkedQueue` permiten el acceso seguro a datos compartidos en un entorno multi-hilo, sin necesidad de sincronización explícita.\n",
    "\n",
    "**Por qué es importante**:\n",
    "- `ConcurrentLinkedQueue` permite operaciones rápidas y no bloqueantes en escenarios donde varios hilos trabajan con datos compartidos.\n",
    "- Este patrón se puede aplicar en sistemas de procesamiento de tareas, manejo de eventos y aplicaciones en tiempo real.\n",
    "\n",
    "**Características clave que destaca este ejemplo**:\n",
    "- Cómo añadir y eliminar elementos de manera concurrente.\n",
    "- Evitar problemas como `ConcurrentModificationException`, que ocurrirían con colecciones estándar.\n",
    "- Permitir la colaboración entre hilos sin bloqueos manuales.\n",
    "\n",
    "**Situaciones prácticas de aplicación**:\n",
    "- Gestión de colas de trabajo en servidores web.\n",
    "- Procesamiento de eventos generados en tiempo real.\n",
    "- Implementación de sistemas de mensajería interna."
   ]
  },
  {
   "cell_type": "code",
   "execution_count": null,
   "metadata": {
    "vscode": {
     "languageId": "java"
    }
   },
   "outputs": [],
   "source": [
    "import java.util.concurrent.ConcurrentLinkedQueue;\n",
    "\n",
    "public class UsoColeccionesConcurrentes {\n",
    "    public static void main(String[] args) {\n",
    "        // Crear una cola concurrente\n",
    "        var mensajes = new ConcurrentLinkedQueue<String>();\n",
    "\n",
    "        // Productores: hilos que añaden mensajes\n",
    "        Thread productor1 = new Thread(() -> {\n",
    "            for (int i = 1; i <= 5; i++) {\n",
    "                mensajes.add(\"Mensaje de Productor 1: \" + i);\n",
    "                System.out.println(\"Productor 1 añadió: Mensaje \" + i);\n",
    "            }\n",
    "        });\n",
    "\n",
    "        Thread productor2 = new Thread(() -> {\n",
    "            for (int i = 1; i <= 5; i++) {\n",
    "                mensajes.add(\"Mensaje de Productor 2: \" + i);\n",
    "                System.out.println(\"Productor 2 añadió: Mensaje \" + i);\n",
    "            }\n",
    "        });\n",
    "\n",
    "        // Consumidor: un hilo que consume mensajes\n",
    "        Thread consumidor = new Thread(() -> {\n",
    "            while (true) {\n",
    "                String mensaje = mensajes.poll();\n",
    "                if (mensaje != null) {\n",
    "                    System.out.println(\"Consumidor procesó: \" + mensaje);\n",
    "                }\n",
    "\n",
    "                // Salir cuando no haya más mensajes\n",
    "                if (mensajes.isEmpty() && !productor1.isAlive() && !productor2.isAlive()) {\n",
    "                    break;\n",
    "                }\n",
    "            }\n",
    "        });\n",
    "\n",
    "        // Ejecutar los hilos\n",
    "        productor1.start();\n",
    "        productor2.start();\n",
    "        consumidor.start();\n",
    "    }\n",
    "}"
   ]
  }
 ],
 "metadata": {
  "language_info": {
   "name": "python"
  }
 },
 "nbformat": 4,
 "nbformat_minor": 2
}
