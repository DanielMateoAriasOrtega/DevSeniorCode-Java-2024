{
 "cells": [
  {
   "cell_type": "markdown",
   "metadata": {},
   "source": [
    "# Conceptos del lenguaje"
   ]
  },
  {
   "cell_type": "markdown",
   "metadata": {},
   "source": [
    "## Expresión lambda"
   ]
  },
  {
   "cell_type": "markdown",
   "metadata": {},
   "source": [
    "Las expresiones lambda fueron introducidas en Java 8 y permiten escribir funciones de una manera más concisa. Simplifican el código cuando necesitamos implementar interfaces funcionales, que son aquellas que tienen un único método abstracto.\n",
    "\n",
    "La sintaxis básica de una expresión lambda es la siguiente:\n",
    "```java\n",
    "(parametros) -> { cuerpo }\n",
    "```\n",
    "- **Parámetros**: Lista de parámetros que la función recibe.\n",
    "- **Operador flecha** (`->`): Separa los parámetros del cuerpo de la función.\n",
    "- **Cuerpo**: El bloque de código que define lo que la función hace."
   ]
  },
  {
   "cell_type": "code",
   "execution_count": null,
   "metadata": {
    "vscode": {
     "languageId": "java"
    }
   },
   "outputs": [],
   "source": [
    "import java.util.function.Predicate;\n",
    "\n",
    "// Uso de una expresión lambda para implementar un Predicate\n",
    "Predicate<Integer> esPar = (numero) -> numero % 2 == 0;\n",
    "\n",
    "// Verificar si un número es par\n",
    "System.out.println(esPar.test(4)); // true\n",
    "System.out.println(esPar.test(7)); // false"
   ]
  },
  {
   "cell_type": "markdown",
   "metadata": {},
   "source": [
    "## Referencias a métodos"
   ]
  },
  {
   "cell_type": "markdown",
   "metadata": {},
   "source": [
    "Las referencias a métodos son una forma más simplificada de escribir expresiones lambda cuando la lógica de la función puede delegarse directamente a un método existente. Se utilizan con la sintaxis `Class::method`.\n",
    "\n",
    "### Tipos de Referencias a Métodos\n",
    "1. Referencia a un método estático: `Clase::metodoEstatico`\n",
    "1. Referencia a un método de instancia de un objeto específico: `instancia::metodoDeInstancia`\n",
    "1. Referencia a un método de instancia de un objeto arbitrario de un tipo específico: `Clase::metodoDeInstancia`\n",
    "1. Referencia a un constructor: `Clase::new`"
   ]
  },
  {
   "cell_type": "code",
   "execution_count": null,
   "metadata": {
    "vscode": {
     "languageId": "java"
    }
   },
   "outputs": [],
   "source": [
    "\n",
    "import java.util.function.Function;\n",
    "\n",
    "// Usando referencia a un método estático para convertir cadenas a enteros\n",
    "Function<String, Integer> convertirEntero = Integer::parseInt;\n",
    "\n",
    "// Aplicar la función\n",
    "Integer numero = convertirEntero.apply(\"123\");\n",
    "System.out.println(numero); // 123"
   ]
  },
  {
   "cell_type": "markdown",
   "metadata": {},
   "source": [
    "## Interfaz Funcional"
   ]
  },
  {
   "cell_type": "markdown",
   "metadata": {},
   "source": [
    "Una interfaz funcional es una interfaz que **contiene exactamente un método abstracto**. Estas interfaces pueden tener métodos predeterminados o estáticos, pero solo un método abstracto. Este método abstracto es el que define la operación funcional que la interfaz representa.\n",
    "\n",
    "### Anotación @FunctionalInterface\n",
    "Para asegurarse de que una interfaz es funcional, se puede usar la anotación `@FunctionalInterface`. Esta anotación no es obligatoria, pero es una buena práctica porque el compilador lanzará un error si la interfaz anotada tiene más de un método abstracto."
   ]
  },
  {
   "cell_type": "code",
   "execution_count": null,
   "metadata": {
    "vscode": {
     "languageId": "java"
    }
   },
   "outputs": [],
   "source": [
    "@FunctionalInterface\n",
    "public interface Operacion {\n",
    "    int ejecutar(int a, int b);\n",
    "}"
   ]
  },
  {
   "cell_type": "markdown",
   "metadata": {},
   "source": [
    "Java proporciona varias interfaces funcionales en el paquete `java.util.function`. Aquí hay algunas de las más comunes:"
   ]
  },
  {
   "cell_type": "markdown",
   "metadata": {},
   "source": [
    "1. `Predicate<T>`: Representa una función que toma un argumento y devuelve un booleano."
   ]
  },
  {
   "cell_type": "code",
   "execution_count": null,
   "metadata": {
    "vscode": {
     "languageId": "java"
    }
   },
   "outputs": [],
   "source": [
    "import java.util.function.Predicate;\n",
    "\n",
    "Predicate<Integer> esPar = n -> n % 2 == 0;\n",
    "System.out.println(esPar.test(4)); // true"
   ]
  },
  {
   "cell_type": "markdown",
   "metadata": {
    "vscode": {
     "languageId": "java"
    }
   },
   "source": [
    "2. `Function<T, R>`: Representa una función que toma un argumento y devuelve un resultado."
   ]
  },
  {
   "cell_type": "code",
   "execution_count": null,
   "metadata": {
    "vscode": {
     "languageId": "java"
    }
   },
   "outputs": [],
   "source": [
    "import java.util.function.Function;\n",
    "\n",
    "Function<String, Integer> longitud = s -> s.length();\n",
    "System.out.println(longitud.apply(\"Hola\")); // 4"
   ]
  },
  {
   "cell_type": "markdown",
   "metadata": {},
   "source": [
    "3. `Supplier<T>`: Representa una función que no toma argumentos y devuelve un resultado."
   ]
  },
  {
   "cell_type": "code",
   "execution_count": null,
   "metadata": {
    "vscode": {
     "languageId": "java"
    }
   },
   "outputs": [],
   "source": [
    "import java.util.function.Supplier;\n",
    "\n",
    "Supplier<Double> aleatorio = () -> Math.random();\n",
    "System.out.println(aleatorio.get());"
   ]
  },
  {
   "cell_type": "markdown",
   "metadata": {},
   "source": [
    "4. `Consumer<T>`: Representa una función que toma un argumento y no devuelve resultado."
   ]
  },
  {
   "cell_type": "code",
   "execution_count": null,
   "metadata": {
    "vscode": {
     "languageId": "java"
    }
   },
   "outputs": [],
   "source": [
    "import java.util.function.Consumer;\n",
    "\n",
    "Consumer<String> imprimir = s -> System.out.println(s);\n",
    "imprimir.accept(\"Hola Mundo\");"
   ]
  },
  {
   "cell_type": "markdown",
   "metadata": {},
   "source": [
    "5. `BiFunction<T, U, R>`: Representa una función que toma dos argumentos y devuelve un resultado."
   ]
  },
  {
   "cell_type": "code",
   "execution_count": null,
   "metadata": {
    "vscode": {
     "languageId": "java"
    }
   },
   "outputs": [],
   "source": [
    "import java.util.function.BiFunction;\n",
    "\n",
    "BiFunction<Integer, Integer, Integer> suma = (a, b) -> a + b;\n",
    "System.out.println(suma.apply(2, 3)); // 5"
   ]
  },
  {
   "cell_type": "markdown",
   "metadata": {},
   "source": [
    "## API de Streams"
   ]
  },
  {
   "cell_type": "markdown",
   "metadata": {},
   "source": [
    "La **API de Streams** es otra característica clave introducida en Java 8 que permite trabajar con colecciones de datos de manera declarativa y funcional. Un Stream es una secuencia de elementos que admite operaciones de procesamiento como filtrado, mapeo y reducción.  \n",
    "![Java Streams](https://media.geeksforgeeks.org/wp-content/uploads/20210706120537/JavaStream.png)"
   ]
  },
  {
   "cell_type": "markdown",
   "metadata": {},
   "source": [
    "### Operaciones en Streams"
   ]
  },
  {
   "cell_type": "markdown",
   "metadata": {},
   "source": [
    "#### Operaciones intermedias\n",
    "Transforman un Stream en otro Stream."
   ]
  },
  {
   "cell_type": "markdown",
   "metadata": {},
   "source": [
    "- `filter`: Filtra elementos según un predicado."
   ]
  },
  {
   "cell_type": "code",
   "execution_count": null,
   "metadata": {
    "vscode": {
     "languageId": "java"
    }
   },
   "outputs": [],
   "source": [
    "List<String> nombres = Arrays.asList(\"Ana\", \"Pedro\", \"Juan\");\n",
    "List<String> nombresConA = nombres.stream()\n",
    "        .filter(nombre -> nombre.startsWith(\"A\"))\n",
    "        .collect(Collectors.toList());"
   ]
  },
  {
   "cell_type": "markdown",
   "metadata": {},
   "source": [
    "- `map`: Aplica una función a cada elemento y transforma el stream."
   ]
  },
  {
   "cell_type": "code",
   "execution_count": null,
   "metadata": {
    "vscode": {
     "languageId": "java"
    }
   },
   "outputs": [],
   "source": [
    "List<String> nombres = Arrays.asList(\"Ana\", \"Pedro\", \"Juan\");\n",
    "List<Integer> longitudes = nombres.stream()\n",
    "        .map(String::length)\n",
    "        .collect(Collectors.toList());"
   ]
  },
  {
   "cell_type": "markdown",
   "metadata": {},
   "source": [
    "- `sorted`: Ordena los elementos del stream"
   ]
  },
  {
   "cell_type": "code",
   "execution_count": null,
   "metadata": {
    "vscode": {
     "languageId": "java"
    }
   },
   "outputs": [],
   "source": [
    "List<String> nombres = Arrays.asList(\"Ana\", \"Pedro\", \"Juan\");\n",
    "List<String> nombresOrdenados = nombres.stream()\n",
    "        .sorted()\n",
    "        .collect(Collectors.toList());"
   ]
  },
  {
   "cell_type": "markdown",
   "metadata": {},
   "source": [
    "#### Operaciones terminales\n",
    "Generan un resultado, como una colección o un valor único."
   ]
  },
  {
   "cell_type": "markdown",
   "metadata": {},
   "source": [
    "- `collect`: Recoge los elementos del stream en una colección."
   ]
  },
  {
   "cell_type": "code",
   "execution_count": null,
   "metadata": {
    "vscode": {
     "languageId": "java"
    }
   },
   "outputs": [],
   "source": [
    "List<String> nombres = Arrays.asList(\"Ana\", \"Pedro\", \"Juan\");\n",
    "List<String> nombresConA = nombres.stream()\n",
    "        .filter(nombre -> nombre.startsWith(\"A\"))\n",
    "        .collect(Collectors.toList());"
   ]
  },
  {
   "cell_type": "markdown",
   "metadata": {},
   "source": [
    "- `forEach`: Aplica una acción a cada elemento del stream."
   ]
  },
  {
   "cell_type": "code",
   "execution_count": null,
   "metadata": {
    "vscode": {
     "languageId": "java"
    }
   },
   "outputs": [],
   "source": [
    "List<String> nombres = Arrays.asList(\"Ana\", \"Pedro\", \"Juan\");\n",
    "nombres.stream()\n",
    "       .forEach(System.out::println);"
   ]
  },
  {
   "cell_type": "markdown",
   "metadata": {},
   "source": [
    "- `reduce`: Combina los elementos del stream en un solo valor."
   ]
  },
  {
   "cell_type": "code",
   "execution_count": null,
   "metadata": {
    "vscode": {
     "languageId": "java"
    }
   },
   "outputs": [],
   "source": [
    "List<Integer> numeros = Arrays.asList(1, 2, 3, 4, 5);\n",
    "int suma = numeros.stream()\n",
    "        .reduce(0, Integer::sum);"
   ]
  },
  {
   "cell_type": "markdown",
   "metadata": {},
   "source": [
    "- `count`: Devuelve el número de elementos en el stream."
   ]
  },
  {
   "cell_type": "code",
   "execution_count": null,
   "metadata": {
    "vscode": {
     "languageId": "java"
    }
   },
   "outputs": [],
   "source": [
    "List<String> nombres = Arrays.asList(\"Ana\", \"Pedro\", \"Juan\");\n",
    "long cantidad = nombres.stream()\n",
    "        .count();"
   ]
  },
  {
   "cell_type": "markdown",
   "metadata": {},
   "source": [
    "- `toList`: Convierte un stream en una lista inmutable. Esto significa que la lista resultante no puede ser modificada (no se pueden agregar, eliminar o cambiar elementos). Este método fue introducido en Java 16 y ofrece una alternativa más directa a `Collectors.toList()`. "
   ]
  },
  {
   "cell_type": "code",
   "execution_count": null,
   "metadata": {
    "vscode": {
     "languageId": "java"
    }
   },
   "outputs": [],
   "source": [
    "List<String> nombres = Arrays.asList(\"Ana\", \"Pedro\", \"Juan\");\n",
    "List<String> nombresMayuscula = nombres.stream()\n",
    "        .map(String::toUpperCase)\n",
    "        .toList();\n",
    "System.out.println(nombresMayuscula); // [ANA, PEDRO, JUAN]"
   ]
  },
  {
   "cell_type": "markdown",
   "metadata": {},
   "source": [
    "#### Operadores de corto circuito\n",
    "Es una operación de corto circuito porque deja de procesar tan pronto como encuentra un elemento que cumple con el predicado"
   ]
  },
  {
   "cell_type": "markdown",
   "metadata": {},
   "source": [
    "- `anyMatch`: Verifica si algún elemento del stream cumple con un predicado dado."
   ]
  },
  {
   "cell_type": "code",
   "execution_count": null,
   "metadata": {
    "vscode": {
     "languageId": "java"
    }
   },
   "outputs": [],
   "source": [
    "List<Integer> numeros = Arrays.asList(1, 2, 3, 4, 5);\n",
    "boolean hayPares = numeros.stream()\n",
    "        .anyMatch(n -> n % 2 == 0);\n",
    "System.out.println(hayPares); // true"
   ]
  },
  {
   "cell_type": "markdown",
   "metadata": {},
   "source": [
    "- `findFirst` Devuelve el primer elemento que cumple con el predicado, respetando el orden del stream."
   ]
  },
  {
   "cell_type": "code",
   "execution_count": null,
   "metadata": {
    "vscode": {
     "languageId": "java"
    }
   },
   "outputs": [],
   "source": [
    "List<String> nombres = Arrays.asList(\"Ana\", \"Pedro\", \"Juan\", \"Alberto\", \"Beatriz\");\n",
    "Optional<String> primerNombreConA = nombres.stream()\n",
    "        .filter(nombre -> nombre.startsWith(\"A\"))\n",
    "        .findFirst();\n",
    "primerNombreConA.ifPresent(System.out::println); // Ana"
   ]
  },
  {
   "cell_type": "markdown",
   "metadata": {},
   "source": [
    "- `findAny`: Devuelve cualquier elemento que cumpla con el predicado, sin garantizar el orden. Es útil en streams paralelos para mejorar el rendimiento."
   ]
  },
  {
   "cell_type": "code",
   "execution_count": null,
   "metadata": {
    "vscode": {
     "languageId": "java"
    }
   },
   "outputs": [],
   "source": [
    "List<Integer> numeros = Arrays.asList(1, 2, 3, 4, 5);\n",
    "Optional<Integer> cualquierPar = numeros.parallelStream()\n",
    "        .filter(n -> n % 2 == 0)\n",
    "        .findAny();\n",
    "cualquierPar.ifPresent(System.out::println); // Puede ser 2 o 4"
   ]
  },
  {
   "cell_type": "markdown",
   "metadata": {},
   "source": [
    "### Ejemplo completo"
   ]
  },
  {
   "cell_type": "code",
   "execution_count": null,
   "metadata": {
    "vscode": {
     "languageId": "java"
    }
   },
   "outputs": [],
   "source": [
    "import java.util.Arrays;\n",
    "import java.util.List;\n",
    "\n",
    "List<String> nombres = Arrays.asList(\"Ana\", \"Pedro\", \"Juan\", \"Alberto\", \"Beatriz\");\n",
    "var resultado = nombres.stream()\n",
    "        .filter(nombre -> nombre.startsWith(\"A\"))\n",
    "        .map(String::toUpperCase)\n",
    "        .sorted()\n",
    "        .collect(Collectors.toList());\n",
    "\n",
    "resultado.forEach(System.out::println); // ALBERTO, ANA"
   ]
  }
 ],
 "metadata": {
  "kernelspec": {
   "display_name": "Java",
   "language": "java",
   "name": "java"
  },
  "language_info": {
   "codemirror_mode": "java",
   "file_extension": ".jshell",
   "mimetype": "text/x-java-source",
   "name": "Java",
   "pygments_lexer": "java",
   "version": "17.0.10+7"
  }
 },
 "nbformat": 4,
 "nbformat_minor": 2
}
