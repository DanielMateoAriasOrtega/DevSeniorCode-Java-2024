{
 "cells": [
  {
   "cell_type": "markdown",
   "metadata": {},
   "source": [
    "# Conceptos del lenguaje"
   ]
  },
  {
   "cell_type": "markdown",
   "metadata": {},
   "source": [
    "## Introducción a bases de datos relacionales"
   ]
  },
  {
   "cell_type": "markdown",
   "metadata": {},
   "source": [
    "### Qué es una base de datos?"
   ]
  },
  {
   "cell_type": "markdown",
   "metadata": {},
   "source": [
    "- Una base de datos es un sistema organizado que almacena datos para facilitar su acceso, gestión y actualización.\n",
    "- Se puede clasificar en:\n",
    "  - **Bases de datos relacionales**: Los datos están organizados en tablas conectadas entre sí mediante relaciones\n",
    "  - **Bases de datos no relacionales**: Utilizan estructuras como documentos, gráficos o claves-valor\n",
    "\n",
    "**Ejemplo**: En una biblioteca, los libros pueden estar organizados en una tabla con columnas como \"Título\", \"Autor\" y \"Año\"."
   ]
  },
  {
   "cell_type": "markdown",
   "metadata": {
    "vscode": {
     "languageId": "plaintext"
    }
   },
   "source": [
    "### Elementos clave de bases de datos relacionales"
   ]
  },
  {
   "cell_type": "markdown",
   "metadata": {},
   "source": [
    "- **Tablas**: La estructura principal, similar a una hoja de cálculo.\n",
    "- **Filas (Tuplas)**: Representan registros individuales en una tabla.\n",
    "- **Columnas**: Características o atributos de los registros.\n",
    "- **Relaciones**: Conexiones entre tablas que garantizan la integridad de los datos.\n",
    "\n",
    "**Ejemplo**: Una tabla de \"Estudiantes\" puede estar conectada a una tabla de \"Cursos\" mediante una relación que muestra qué estudiantes toman qué cursos.\n"
   ]
  },
  {
   "cell_type": "markdown",
   "metadata": {},
   "source": [
    "### La integridad referencial"
   ]
  },
  {
   "cell_type": "markdown",
   "metadata": {},
   "source": [
    "- Es el principio que asegura que los datos relacionados entre tablas sean consistentes.\n",
    "- Utiliza claves:\n",
    "  - **Clave primaria**: Identificador único de cada registro.\n",
    "  - **Clave foránea**: Relaciona registros de una tabla con otra."
   ]
  },
  {
   "cell_type": "markdown",
   "metadata": {},
   "source": [
    "## Modelado de datos"
   ]
  },
  {
   "cell_type": "markdown",
   "metadata": {},
   "source": [
    "### Introducción al modelo entidad-relación (ER)"
   ]
  },
  {
   "cell_type": "markdown",
   "metadata": {},
   "source": [
    "- El **modelo entidad-relación** es una herramienta para diseñar bases de datos antes de crearlas.\n",
    "- Ayuda a representar visualmente cómo están conectados los datos y sus características.\n",
    "\n",
    "#### Conceptos básicos:\n",
    "- **Entidades**: Representan objetos o conceptos (por ejemplo, \"Estudiantes\" o \"Cursos\").\n",
    "- **Atributos**: Características o propiedades de las entidades (por ejemplo, \"Nombre\", \"ID\").\n",
    "- **Relaciones**: Conexiones entre entidades (por ejemplo, \"Los estudiantes se inscriben en cursos\")."
   ]
  },
  {
   "cell_type": "markdown",
   "metadata": {},
   "source": [
    "### Componentes clave del diagrama ER"
   ]
  },
  {
   "cell_type": "markdown",
   "metadata": {},
   "source": [
    "![Modelo Entidad Relación](assets/modelo-entidad-relacion.png)\n",
    "\n",
    "- **Rectángulos**: Representan las entidades.\n",
    "- **Elipses**: Representan los atributos.\n",
    "- **Rombos**: Representan las relaciones.\n",
    "- **Líneas**: Conectan las entidades con sus relaciones o atributos."
   ]
  },
  {
   "cell_type": "markdown",
   "metadata": {},
   "source": [
    "### Conversión de diagramas ER a esquemas relacionales"
   ]
  },
  {
   "cell_type": "markdown",
   "metadata": {},
   "source": [
    "Pasos para transformar un diagrama ER en un esquema de base de datos:\n",
    "1. Cada entidad se convierte en una tabla.\n",
    "1. Los atributos de las entidades se convierten en columnas de las tablas.\n",
    "1. Las relaciones se convierten en tablas o se representan con claves foráneas."
   ]
  },
  {
   "cell_type": "markdown",
   "metadata": {},
   "source": [
    "## Normalización"
   ]
  },
  {
   "cell_type": "markdown",
   "metadata": {},
   "source": [
    "### ¿Qué es la normalización?"
   ]
  },
  {
   "cell_type": "markdown",
   "metadata": {},
   "source": [
    "- La **normalización** es el proceso de organizar los datos en una base de datos para reducir la redundancia y mejorar la consistencia.\n",
    "- Ayuda a garantizar que cada pieza de información se almacene en un solo lugar y que los datos estén relacionados de manera adecuada.\n",
    "\n",
    "**Objetivo principal**: Crear un diseño eficiente que evite duplicación de datos y facilite el mantenimiento de la base de datos."
   ]
  },
  {
   "cell_type": "markdown",
   "metadata": {},
   "source": [
    "### Formas normales"
   ]
  },
  {
   "cell_type": "markdown",
   "metadata": {},
   "source": [
    "Las formas normales son reglas que ayudan a estructurar los datos. Estas son las más comunes:\n",
    "\n",
    "#### Primera Forma Normal (1FN)\n",
    "- Cada columna de la tabla debe contener valores atómicos (indivisibles).\n",
    "- No se permite que haya grupos repetidos o listas en una sola columna.\n",
    "\n",
    "**Ejemplo**: Una tabla de \"Clientes\" con una columna llamada \"Teléfonos\" no puede tener valores como \"123, 456\". Debe dividirse en filas separadas.\n",
    "\n",
    "#### Segunda Forma Normal (2FN)\n",
    "- La tabla debe estar en 1FN.\n",
    "- Todos los atributos no clave deben depender completamente de la clave primaria.\n",
    "\n",
    "**Ejemplo**: En una tabla de \"Pedidos\", si el nombre del cliente depende solo de una parte de la clave compuesta (por ejemplo, \"Pedido_ID\" y \"Producto_ID\"), entonces la tabla no está en 2FN. Debe reorganizarse.\n",
    "\n",
    "#### Tercera Forma Normal (3FN)\n",
    "- La tabla debe estar en 2FN.\n",
    "- Los atributos no clave deben depender únicamente de la clave primaria, y no de otros atributos no clave.\n",
    "\n",
    "**Ejemplo**: En una tabla de \"Estudiantes\", si el \"Nombre del Profesor\" depende de la \"ID del Curso\" y no directamente del \"ID del Estudiante\", entonces debe separarse en otra tabla.\n",
    "\n",
    "#### Forma Normal de Boyce-Codd (BCNF)\n",
    "- Es una versión más estricta de la Tercera Forma Normal.\n",
    "- Toda tabla en BCNF cumple con la regla de que cada determinante (columna o conjunto de columnas que determina otra columna) debe ser una clave candidata.\n",
    "\n",
    "**Ejemplo**: Si en una tabla la columna \"Curso\" determina la columna \"Profesor\", pero \"Curso\" no es clave candidata, entonces la tabla no cumple con BCNF.\n",
    "\n",
    "#### Cuarta Forma Normal (4FN)\n",
    "- La tabla debe estar en BCNF.\n",
    "- Elimina las dependencias multivaluadas, donde una columna puede tener múltiples valores independientes de otra columna.\n",
    "\n",
    "**Ejemplo**: Una tabla que almacena \"Estudiantes\", \"Cursos\" y \"Habilidades\" puede tener dependencias multivaluadas. Esto debe dividirse en tablas separadas.\n",
    "\n",
    "#### Quinta Forma Normal (5FN o Forma Normal Proyectiva-Junta)\n",
    "- La tabla debe estar en 4FN.\n",
    "- Divide tablas complejas para resolver dependencias de unión, garantizando que todos los datos puedan reconstruirse correctamente a partir de las tablas desglosadas.\n",
    "\n",
    "**Ejemplo**: Una base de datos que incluye relaciones complejas entre \"Proveedores\", \"Productos\" y \"Almacenes\" podría beneficiarse de la 5FN.\n"
   ]
  },
  {
   "cell_type": "markdown",
   "metadata": {},
   "source": [
    "### Beneficios de la normalización"
   ]
  },
  {
   "cell_type": "markdown",
   "metadata": {},
   "source": [
    "- Minimiza la redundancia de datos.\n",
    "- Mejora la integridad y consistencia.\n",
    "- Facilita la realización de consultas y el mantenimiento de la base de datos.\n",
    "\n",
    "#### ¿Cuándo aplicar estas formas?\n",
    "Las formas más avanzadas (BCNF, 4FN, 5FN) son necesarias cuando se trabaja con bases de datos muy complejas o cuando hay problemas específicos de diseño. Para la mayoría de las aplicaciones prácticas, la 3FN suele ser suficiente.\n"
   ]
  }
 ],
 "metadata": {
  "language_info": {
   "name": "python"
  }
 },
 "nbformat": 4,
 "nbformat_minor": 2
}
