{
 "cells": [
  {
   "cell_type": "markdown",
   "metadata": {},
   "source": [
    "# Java\n",
    "\n",
    "Java es un lenguaje de programación y una plataforma informática creada por Sun Microsystems en 1995. Es un lenguaje orientado a objetos, lo que significa que se basa en conceptos de \"objetos\" que pueden contener datos y código para manipular esos datos.\n",
    "\n",
    "Una de las características más destacadas de Java es su capacidad de ser ejecutado en diferentes plataformas sin necesidad de modificar el código fuente, gracias a su lema **Write Once, Run Anywhere** (Escribe una vez, ejecuta en cualquier lugar). Esto se logra mediante la compilación del código Java en un formato intermedio llamado bytecode, que luego es interpretado por la Java Virtual Machine (JVM) en cualquier dispositivo.\n",
    "\n",
    "Java se utiliza ampliamente en el desarrollo de aplicaciones web, aplicaciones móviles (especialmente en Android), sistemas empresariales y mucho más. Además, es conocido por su robustez, seguridad y portabilidad.\n",
    "\n",
    "La **Java Virtual Machine (JVM)** es una máquina virtual que permite ejecutar programas escritos en el lenguaje de programación Java. Su principal función es interpretar el bytecode de Java, que es un formato intermedio generado por el compilador de Java, y convertirlo en instrucciones que el hardware del sistema pueda ejecutar.\n",
    "\n",
    "## Características de Java\n",
    "1. **Portabilidad**: Gracias a la Java Virtual Machine (JVM), el código Java puede ejecutarse en cualquier plataforma que tenga una JVM instalada, sin necesidad de recompilar.\n",
    "1. **Orientado a objetos**: Java utiliza el paradigma de programación orientada a objetos, lo que facilita la creación de software modular y reutilizable.\n",
    "1. **Multihilo**: Java soporta la programación multihilo, lo que permite la ejecución de múltiples hilos de ejecución simultáneamente, mejorando el rendimiento de las aplicaciones.\n",
    "1. **Seguridad**: Java tiene características de seguridad integradas, como la gestión de memoria automática y la verificación de bytecode, que ayudan a prevenir errores y vulnerabilidades.\n",
    "1. **Robustez**: Java es conocido por su robustez, ya que maneja bien los errores en tiempo de ejecución y tiene una gestión de memoria eficiente.\n",
    "1. **Distribuido**: Java facilita la creación de aplicaciones distribuidas, gracias a su soporte para tecnologías como RMI (Remote Method Invocation) y CORBA (Common Object Request Broker Architecture).\n",
    "1. **Interpretado y compilado**: El código Java se compila en bytecode, que luego es interpretado por la JVM. Esto permite que el código sea independiente de la plataforma.\n",
    "1. **Alto rendimiento**: Aunque Java es interpretado, las JVM modernas utilizan técnicas de compilación Just-In-Time (JIT) para mejorar el rendimiento.\n",
    "\n",
    "## Compilación y ejecución de aplicaciones Java\n",
    "![Compilación y ejecución de aplicaciones Java](https://cdn.javarush.com/images/article/fef10693-b1f3-479a-a02e-29414cdc2a79/1024.jpeg)\n",
    "\n",
    "La compilación y ejecución de aplicaciones Java sigue un proceso bien definido que se puede resumir en los siguientes pasos:\n",
    "\n",
    "1. **Escribir el código fuente**: Se crea un archivo con extensión .java que contiene el código fuente del programa.\n",
    "1. **Compilar el código fuente**: Utilizando el compilador `javac` del JDK (Java Development Kit), el código fuente se convierte en bytecode, que es un formato intermedio independiente de la plataforma.\n",
    "1. **Ejecutar el bytecode**: La JVM (Java Virtual Machine) interpreta y ejecuta el bytecode.\n",
    "\n",
    "## JDK y JRE\n",
    "### JDK (Java Development Kit)\n",
    "- **Propósito**: Es un kit de herramientas completo para desarrollar aplicaciones Java.\n",
    "- **Componentes**: Incluye el JRE, el compilador `javac`, herramientas de depuración, bibliotecas y otros recursos necesarios para escribir, compilar y depurar programas Java.\n",
    "- **Uso**: Necesario para los desarrolladores que crean nuevas aplicaciones Java o modifican las existentes.\n",
    "\n",
    "### JRE (Java Runtime Environment)\n",
    "- **Propósito**: Proporciona el entorno necesario para ejecutar aplicaciones Java.\n",
    "- **Componentes**: Incluye la JVM (Java Virtual Machine) y las bibliotecas de clases necesarias para ejecutar programas Java.\n",
    "- **Uso**: Necesario para los usuarios que solo necesitan ejecutar aplicaciones Java ya compiladas.\n",
    "\n",
    "En resumen, el JDK es esencial para el desarrollo de software en Java, mientras que el JRE es suficiente para ejecutar aplicaciones Java."
   ]
  },
  {
   "cell_type": "markdown",
   "metadata": {},
   "source": [
    "## Modelo de Liberación de Versiones de Java\n",
    "- Liberaciones Semestrales:\n",
    "  - Desde 2017, Java adopta un ciclo de liberación de versiones cada seis meses. Esto significa que hay dos versiones nuevas de Java cada año, una en marzo y otra en septiembre.\n",
    "  - Este modelo permite a los desarrolladores acceder a nuevas características y mejoras de manera más rápida y frecuente.\n",
    "- Versiones LTS (Long-Term Support):\n",
    "  - Cada tres años, una de las versiones liberadas se designa como LTS. Las versiones LTS reciben soporte a largo plazo, lo que incluye actualizaciones de seguridad y correcciones de errores durante un período extendido.\n",
    "  - Las versiones LTS son ideales para entornos de producción donde la estabilidad y el soporte a largo plazo son cruciales. Ejemplos de versiones LTS son Java 8, Java 11, Java 17 y la más reciente, Java 21.\n",
    "- Versiones No-LTS:\n",
    "  - Las versiones que no son LTS reciben soporte y actualizaciones solo hasta la siguiente liberación, es decir, durante seis meses. Estas versiones permiten a los desarrolladores experimentar con nuevas características y mejoras antes de que se incluyan en una versión LTS.\n",
    "- Características en Previsión (Preview Features):\n",
    "  - Algunas nuevas características se introducen inicialmente como \"preview features\". Esto permite a los desarrolladores probar y dar feedback sobre estas características antes de que se incluyan oficialmente en una versión futura.\n",
    "  - Las características en previsión no están habilitadas por defecto y deben activarse explícitamente durante la compilación y ejecución.\n",
    "\n",
    "\n",
    "## Historia de las versiones\n",
    "\n",
    "- Java 1.0 (1995):\n",
    "  - Introducción de la JVM (Java Virtual Machine).\n",
    "  - API gráfico AWT (Abstract Window Toolkit).\n",
    "  - Clases fundamentales para la programación básica.\n",
    "- Java 1.1 (1997):\n",
    "  - Soporte para JavaBeans.\n",
    "  - Introducción de JDBC para la conexión a bases de datos.\n",
    "  - Mejoras en la internacionalización y la gestión de eventos.\n",
    "- Java 1.2 (1998):\n",
    "  - Introducción del framework de Collections.\n",
    "  - API de Swing para interfaces gráficas más avanzadas.\n",
    "  - Mejoras en la seguridad y el rendimiento.\n",
    "- Java 1.3 (2000):\n",
    "  - Mejoras en la JVM con la introducción de HotSpot.\n",
    "  - Soporte para JNDI (Java Naming and Directory Interface).\n",
    "- Java 1.4 (2002):\n",
    "  - Soporte para XML y expresiones regulares.\n",
    "  - Mejoras en la criptografía y la gestión de excepciones.\n",
    "- Java 5 (1.5) (2004):\n",
    "  - Introducción de tipos genéricos y anotaciones.\n",
    "  - Mejoras en la concurrencia y la gestión de memoria.\n",
    "- Java 6 (2006):\n",
    "  - Mejoras en el rendimiento y la gestión de servicios web.\n",
    "  - API de compilación dinámica.\n",
    "- Java 7 (2011):\n",
    "  - Mejoras en la sintaxis del lenguaje (try-with-resources).\n",
    "  - Nuevos recolectores de basura.\n",
    "- Java 8 (2014) LTS:\n",
    "  - Introducción de expresiones lambda y Streams.\n",
    "  - Nueva API de fechas y horas (java.time).\n",
    "  - Mejoras en la programación funcional.\n",
    "- Java 9 (2017):\n",
    "  - Proyecto Jigsaw para modularizar el JDK.\n",
    "  - API de flujo de datos (Reactive Streams).\n",
    "- Java 10 (2018):\n",
    "  - Inferencia de tipos locales con var.\n",
    "  - Mejoras en la recolección de basura.\n",
    "- Java 11 (2018) LTS:\n",
    "  - Nuevas funciones de cadena y mejoras en la API HTTP.\n",
    "  - Eliminación de módulos y APIs obsoletas.\n",
    "- Java 12 (2019):\n",
    "  - Mejoras en la JVM y nuevas características de sintaxis.\n",
    "  - Introducción de switch mejorado (preview).\n",
    "- Java 13 (2019):\n",
    "  - Mejoras en la API de memoria y nuevas características de switch.\n",
    "  - Mejoras en la recolección de basura.\n",
    "- Java 14 (2020):\n",
    "  - Introducción de record (preview).\n",
    "  - Mejoras en la API de excepciones.\n",
    "- Java 15 (2020):\n",
    "  - Introducción de sealed classes (preview).\n",
    "  - Mejoras en la API de texto.\n",
    "- Java 16 (2021):\n",
    "  - Mejoras en la API de memoria y pattern matching para instanceof.\n",
    "  - Nuevas características de record.\n",
    "- Java 17 (2021) LTS:\n",
    "  - Mejoras en la seguridad y el rendimiento.\n",
    "- Java 18 (2022):\n",
    "  - Mejoras en la API de vector y nuevas características de switch.\n",
    "  - Mejoras en la recolección de basura.\n",
    "- Java 19 (2022):\n",
    "  - Mejoras en la API de concurrencia y nuevas características de record.\n",
    "  - Mejoras en la seguridad.\n",
    "- Java 20 (2023):\n",
    "  - Mejoras en la API de memoria y nuevas características de sealed classes.\n",
    "  - Mejoras en la recolección de basura.\n",
    "- Java 21 (2024) LTS:\n",
    "  - Nuevas características de pattern matching y record.\n",
    "  - Mejoras en la seguridad y el rendimiento.\n"
   ]
  },
  {
   "cell_type": "markdown",
   "metadata": {},
   "source": [
    "## Recorrido por el lenguaje"
   ]
  },
  {
   "cell_type": "markdown",
   "metadata": {},
   "source": [
    "### Comentarios"
   ]
  },
  {
   "cell_type": "code",
   "execution_count": 1,
   "metadata": {
    "vscode": {
     "languageId": "java"
    }
   },
   "outputs": [],
   "source": [
    "// Este es un comentario de línea"
   ]
  },
  {
   "cell_type": "code",
   "execution_count": null,
   "metadata": {
    "vscode": {
     "languageId": "java"
    }
   },
   "outputs": [],
   "source": [
    "/*\n",
    "Este es un comentario de bloque\n",
    "Todo entre estos símbolos es ignorado\n",
    "*/"
   ]
  },
  {
   "cell_type": "code",
   "execution_count": null,
   "metadata": {
    "vscode": {
     "languageId": "java"
    }
   },
   "outputs": [],
   "source": [
    "/**\n",
    "* Este es un comentario de documentación.\n",
    "* Se usa para el Javadoc de nuestro proyecto\n",
    "*/"
   ]
  },
  {
   "cell_type": "markdown",
   "metadata": {},
   "source": [
    "### Sentencias\n",
    "- Las sentencias acaban con **punto y coma** (;). Este carácter separa una sentencia de la siguiente.\n",
    "- Los espacios en blanco solo son necesarios para la legibilidad, no importa en la interpretación del código.\n",
    "\n",
    "Ejemplo:\n",
    "```java\n",
    "int i=1;\n",
    "import java.awt.*;\n",
    "System.out.println(\"El primer programa\");\n",
    "rect.mover(10, 20);\n",
    "```"
   ]
  },
  {
   "cell_type": "markdown",
   "metadata": {},
   "source": [
    "### Estructura de un archivo Java"
   ]
  },
  {
   "cell_type": "code",
   "execution_count": 1,
   "metadata": {
    "vscode": {
     "languageId": "java"
    }
   },
   "outputs": [],
   "source": [
    "public class HolaMundo {\n",
    "    public static void main(String[] args) {\n",
    "        System.out.println(\"Hola Mundo!\");\n",
    "    }\n",
    "}"
   ]
  },
  {
   "cell_type": "markdown",
   "metadata": {},
   "source": [
    "1. El nombre del archivo **.java** debe ser igual al nombre de la estructura _class_ que se encuentra dentro de ella.\n",
    "1. El archivo **.java** sólo contiene el código fuente. Para generar el archivo que puede ejecutar la máquina virtual, es necesario pasarlo por el compilador usando el comando `javac <Clase>.java` que genera el archivo `<Clase>.class`.\n",
    "1. Para ejecutar la aplicación, usamos el comando `java <Clase>` el cual se encarga de iniciar la máquina virtual y ejecutar el archivo **.class** con el nombre `<Clase>`.\n",
    "1. Para que la clase se pueda ejecutar con el comando `java`, es necesario que incluya un método especial llamado `main` que debe ser publico (`public`) y estático (`static`)."
   ]
  },
  {
   "cell_type": "markdown",
   "metadata": {},
   "source": [
    "### Mostrar información en pantalla"
   ]
  },
  {
   "cell_type": "code",
   "execution_count": null,
   "metadata": {
    "vscode": {
     "languageId": "java"
    }
   },
   "outputs": [],
   "source": [
    "System.out.println(\"Hola Mundo!\");"
   ]
  },
  {
   "cell_type": "code",
   "execution_count": null,
   "metadata": {
    "vscode": {
     "languageId": "java"
    }
   },
   "outputs": [],
   "source": [
    "System.out.print(\"Hola Mundo!\");"
   ]
  },
  {
   "cell_type": "markdown",
   "metadata": {},
   "source": [
    "### Recibiendo datos del usuario (por teclado)"
   ]
  },
  {
   "cell_type": "code",
   "execution_count": null,
   "metadata": {
    "vscode": {
     "languageId": "java"
    }
   },
   "outputs": [],
   "source": [
    "import java.util.Scanner;\n",
    "\n",
    "var sc = new Scanner(System.in);\n",
    "System.out.print(\"Por favor ingrese su nombre\");\n",
    "var nombre = sc.nextLine();\n",
    "// Ya tiene el nombre que recibió por el teclado\n",
    "\n",
    "sc.close();"
   ]
  },
  {
   "cell_type": "code",
   "execution_count": null,
   "metadata": {
    "vscode": {
     "languageId": "java"
    }
   },
   "outputs": [],
   "source": [
    "import java.io.BufferedReader;\n",
    "import java.io.InputStreamReader;\n",
    "\n",
    "var br = new BufferedReader(new InputStreamReader(System.in));\n",
    "System.out.print(\"Por favor ingrese su nombre\");\n",
    "var nombre = br.readLine();\n",
    "// Ya tiene el nombre que recibió por el teclado\n",
    "\n",
    "br.close();"
   ]
  }
 ],
 "metadata": {
  "kernelspec": {
   "display_name": "Java",
   "language": "java",
   "name": "java"
  },
  "language_info": {
   "codemirror_mode": "java",
   "file_extension": ".jshell",
   "mimetype": "text/x-java-source",
   "name": "Java",
   "pygments_lexer": "java",
   "version": "17.0.10+7"
  }
 },
 "nbformat": 4,
 "nbformat_minor": 2
}
