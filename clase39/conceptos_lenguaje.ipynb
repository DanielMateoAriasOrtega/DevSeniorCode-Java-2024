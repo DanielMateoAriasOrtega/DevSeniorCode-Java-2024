{
 "cells": [
  {
   "cell_type": "markdown",
   "metadata": {},
   "source": [
    "# Conceptos del lenguaje"
   ]
  },
  {
   "cell_type": "markdown",
   "metadata": {},
   "source": [
    "## Introducción a las Bases de Datos NoSQL y MongoDB"
   ]
  },
  {
   "cell_type": "markdown",
   "metadata": {},
   "source": [
    "### ¿Qué son las bases de datos NoSQL?"
   ]
  },
  {
   "cell_type": "markdown",
   "metadata": {},
   "source": [
    "#### Breve historia y motivación:\n",
    "* Las bases de datos relacionales (SQL) han sido la norma durante décadas.\n",
    "* Con el auge de aplicaciones web modernas, redes sociales, Big Data, surgieron limitaciones en las bases de datos relacionales para manejar ciertos tipos de datos y escalabilidad.\n",
    "* Las bases de datos NoSQL (Not Only SQL) surgieron como una alternativa para abordar estas limitaciones.\n",
    "* Se enfocan en la flexibilidad, escalabilidad y rendimiento para tipos de datos no estructurados o semiestructurados.\n",
    "\n",
    "#### Comparación con las bases de datos relacionales (SQL):\n",
    "| Característica        | Bases de Datos Relacionales (SQL) | Bases de Datos NoSQL             |\n",
    "| --------------------- | --------------------------------- | -------------------------------- |\n",
    "| **Estructura** | Tablas con filas y columnas fijas | Documentos (JSON-like), grafos, clave-valor, etc. |\n",
    "| **Esquema** | Rígido, predefinido                | Flexible, dinámico               |\n",
    "| **Escalabilidad** | Principalmente vertical (hardware más potente) | Principalmente horizontal (añadir más servidores) |\n",
    "| **Consultas** | SQL (lenguaje de consulta estructurado) | Variedad de lenguajes y APIs específicas |\n",
    "| **ACID** | Generalmente fuerte (Atomicidad, Consistencia, Aislamiento, Durabilidad) | Varía según el tipo de NoSQL (puede priorizar disponibilidad y partición - CAP) |\n",
    "| **Casos de uso típicos** | Aplicaciones transaccionales, sistemas contables, gestión de inventario | Aplicaciones web en tiempo real, Big Data, redes sociales, catálogos de productos, juegos |"
   ]
  },
  {
   "cell_type": "markdown",
   "metadata": {},
   "source": [
    "### Introducción a MongoDB"
   ]
  },
  {
   "cell_type": "markdown",
   "metadata": {},
   "source": [
    "\n",
    "#### ¿Qué es MongoDB?\n",
    "* Una base de datos NoSQL orientada a **documentos**.\n",
    "* Almacena datos en documentos con formato similar a **JSON** (BSON internamente - Binary JSON).\n",
    "* Estos documentos se agrupan en **colecciones**.\n",
    "\n",
    "#### Ventajas de MongoDB:\n",
    "* **Flexibilidad del esquema:** No es necesario definir un esquema fijo para las colecciones. Los documentos dentro de la misma colección pueden tener diferentes campos. Esto facilita el desarrollo ágil y la adaptación a cambios en los datos.\n",
    "* **Escalabilidad horizontal:** Diseñado para distribuirse fácilmente en múltiples servidores (sharding), lo que permite manejar grandes volúmenes de datos y alto tráfico.\n",
    "* **Alto rendimiento:** Optimizado para operaciones de lectura y escritura rápidas, especialmente en escenarios con muchos datos.\n",
    "* **Desarrollo ágil:** La naturaleza flexible del esquema se alinea bien con metodologías de desarrollo ágiles, permitiendo iteraciones rápidas.\n",
    "* **Soporte para datos geoespaciales:** Ofrece funcionalidades integradas para trabajar con datos de ubicación.\n",
    "* **Otras funcionalidades:** Índices, agregaciones, replicación, etc.\n",
    "\n",
    "#### Casos de uso comunes de MongoDB:\n",
    "* Aplicaciones web y móviles.\n",
    "* Gestión de contenido (CMS).\n",
    "* Catálogos de productos.\n",
    "* Análisis de datos en tiempo real.\n",
    "* Internet de las Cosas (IoT).\n",
    "* Juegos."
   ]
  },
  {
   "cell_type": "markdown",
   "metadata": {},
   "source": [
    "## Configuración del Entorno de Desarrollo"
   ]
  },
  {
   "cell_type": "markdown",
   "metadata": {},
   "source": [
    "### Instalación de MongoDB"
   ]
  },
  {
   "cell_type": "markdown",
   "metadata": {},
   "source": [
    "* Para poder interactuar con MongoDB desde Java, primero necesitas tener el servidor de MongoDB instalado en tu sistema.\n",
    "* El proceso de instalación varía según tu sistema operativo (Windows, macOS, Linux).\n",
    "* **Recomendación:** Consulta la documentación oficial de MongoDB para obtener las instrucciones de instalación más actualizadas y específicas para tu sistema: [https://www.mongodb.com/docs/manual/installation/](https://www.mongodb.com/docs/manual/installation/)\n",
    "* **Pasos Generales (sin realizar en vivo):**\n",
    "    1. **Descargar:** Ve a la página de descargas de MongoDB ([https://www.mongodb.com/try/download/community](https://www.mongodb.com/try/download/community)).\n",
    "    2. **Elegir la versión:** Selecciona la edición Community Server y tu sistema operativo.\n",
    "    3. **Instalar:** Sigue el asistente de instalación o las instrucciones específicas para tu plataforma.\n",
    "    4. **Configurar (opcional):** Puede que necesites configurar variables de entorno o el directorio de datos.\n",
    "    5. **Ejecutar el servidor:** Inicia el servicio de MongoDB (`mongod`). Por defecto, suele ejecutarse en el puerto 27017.\n",
    "    6. **Cliente de MongoDB (opcional pero recomendado):** Considera instalar MongoDB Compass ([https://www.mongodb.com/products/compass](https://www.mongodb.com/products/compass)) para una interfaz gráfica que te permita explorar tus bases de datos."
   ]
  },
  {
   "cell_type": "markdown",
   "metadata": {},
   "source": [
    "### Configuración del Proyecto Java"
   ]
  },
  {
   "cell_type": "markdown",
   "metadata": {},
   "source": [
    "#### Adición de la Dependencia del Driver de MongoDB para Java:\n",
    "Para que tu proyecto Java pueda comunicarse con el servidor de MongoDB, necesitas incluir la biblioteca (driver) oficial de MongoDB para Java como una dependencia de tu proyecto.\n",
    "* **Uso de Maven: `pom.xml`**"
   ]
  },
  {
   "cell_type": "code",
   "execution_count": null,
   "metadata": {
    "vscode": {
     "languageId": "xml"
    }
   },
   "outputs": [],
   "source": [
    "<dependency>\n",
    "    <groupId>org.mongodb</groupId>\n",
    "    <artifactId>mongodb-driver-sync</artifactId>\n",
    "    <version>4.12.1</version>\n",
    "</dependency>"
   ]
  },
  {
   "cell_type": "markdown",
   "metadata": {},
   "source": [
    "\n",
    "* **Uso de Gradle: `build.gradle`**"
   ]
  },
  {
   "cell_type": "code",
   "execution_count": null,
   "metadata": {
    "vscode": {
     "languageId": "groovy"
    }
   },
   "outputs": [],
   "source": [
    "implementation 'org.mongodb:mongodb-driver-sync:4.12.1' // Utiliza la versión más reciente disponible"
   ]
  },
  {
   "cell_type": "markdown",
   "metadata": {},
   "source": [
    "* **Explicación:**\n",
    "    * `<groupId>org.mongodb</groupId>`: Identifica al grupo de artefactos de MongoDB.\n",
    "    * `<artifactId>mongodb-driver-sync</artifactId>`: Especifica el driver síncrono de MongoDB para Java (adecuado para la mayoría de los casos introductorios).\n",
    "    * `<version>4.12.1</version>`: Indica la versión del driver que se utilizará. **Es importante verificar la versión más reciente disponible en el repositorio de Maven Central ([https://mvnrepository.com/artifact/org.mongodb/mongodb-driver-sync](https://mvnrepository.com/artifact/org.mongodb/mongodb-driver-sync)) y usar esa.**"
   ]
  },
  {
   "cell_type": "markdown",
   "metadata": {},
   "source": [
    "## Conceptos Fundamentales de MongoDB"
   ]
  },
  {
   "cell_type": "markdown",
   "metadata": {},
   "source": [
    "### Documentos"
   ]
  },
  {
   "cell_type": "markdown",
   "metadata": {},
   "source": [
    "\n",
    "* **¿Qué son los Documentos?**\n",
    "    * La unidad fundamental de datos en MongoDB.\n",
    "    * Son estructuras de datos similares a objetos **JSON** (JavaScript Object Notation).\n",
    "    * Almacenan pares de **clave-valor**.\n",
    "    * Las claves son cadenas de texto.\n",
    "    * Los valores pueden ser de varios tipos de datos, incluyendo otros documentos y arrays.\n",
    "\n",
    "* **Ejemplo de Documento JSON:**"
   ]
  },
  {
   "cell_type": "code",
   "execution_count": null,
   "metadata": {
    "vscode": {
     "languageId": "json"
    }
   },
   "outputs": [],
   "source": [
    "{\n",
    "    \"_id\": ObjectId(\"6459c7d1b0e9a7f0a2d3c1e5\"),\n",
    "    \"nombre\": \"Alice\",\n",
    "    \"edad\": 30,\n",
    "    \"ciudad\": \"Nueva York\",\n",
    "    \"intereses\": [\"programación\", \"viajar\", \"lectura\"],\n",
    "    \"direccion\": {\n",
    "    \"calle\": \"Calle Principal 123\",\n",
    "    \"codigo_postal\": \"10001\"\n",
    "    },\n",
    "    \"fecha_creacion\": ISODate(\"2023-05-09T10:00:00Z\")\n",
    "}"
   ]
  },
  {
   "cell_type": "markdown",
   "metadata": {},
   "source": [
    "* **Tipos de Datos Comunes en MongoDB:**\n",
    "    * **String:** Cadena de texto (UTF-8).\n",
    "    * **Integer:** Enteros (32-bit o 64-bit).\n",
    "    * **Boolean:** Verdadero o falso (`true` o `false`).\n",
    "    * **Double:** Números de punto flotante de doble precisión.\n",
    "    * **Array:** Lista ordenada de valores (puede contener diferentes tipos).\n",
    "    * **Object:** Documento embebido (anidado dentro de otro documento).\n",
    "    * **Date:** Fecha y hora (almacenado como el número de milisegundos desde la época Unix).\n",
    "    * **ObjectId:** Un identificador único de 12 bytes generado por MongoDB. Es el valor por defecto para el campo `_id`.\n",
    "    * **Null:** Valor nulo.\n",
    "    * **Binary Data:** Datos binarios.\n",
    "    * **Y más...** (puedes mencionar brevemente otros tipos si lo consideras relevante para tu audiencia)."
   ]
  },
  {
   "cell_type": "markdown",
   "metadata": {},
   "source": [
    "### Colecciones"
   ]
  },
  {
   "cell_type": "markdown",
   "metadata": {},
   "source": [
    "* **¿Qué son las Colecciones?**\n",
    "    * Grupos de documentos relacionados.\n",
    "    * Análogas a las **tablas** en las bases de datos relacionales, pero con una diferencia clave: **no imponen un esquema fijo**.\n",
    "    * Los documentos dentro de una misma colección pueden tener diferentes estructuras y campos.\n",
    "    * Los nombres de las colecciones son sensibles a mayúsculas y minúsculas.\n",
    "    * Se recomienda utilizar nombres descriptivos para las colecciones (generalmente en plural).\n",
    "    * Ejemplo: `usuarios`, `productos`, `pedidos`."
   ]
  },
  {
   "cell_type": "markdown",
   "metadata": {},
   "source": [
    "### Bases de Datos"
   ]
  },
  {
   "cell_type": "markdown",
   "metadata": {},
   "source": [
    "* **¿Qué son las Bases de Datos?**\n",
    "    * Contenedores lógicos para una o más colecciones.\n",
    "    * Puedes tener múltiples bases de datos en un mismo servidor de MongoDB.\n",
    "    * Cada base de datos está aislada de las demás.\n",
    "    * **Bases de Datos por Defecto:**\n",
    "        * `admin`: Utilizada para funciones de administración a nivel del servidor.\n",
    "        * `config`: Almacena información de configuración para conjuntos de réplicas y clústeres shard.\n",
    "        * `local`: Utilizada para información específica del servidor local. Generalmente no se almacena información de la aplicación en esta base de datos."
   ]
  },
  {
   "cell_type": "markdown",
   "metadata": {},
   "source": [
    "### El Campo `_id`"
   ]
  },
  {
   "cell_type": "markdown",
   "metadata": {},
   "source": [
    "* **Propósito:**\n",
    "    * Cada documento en una colección de MongoDB debe tener un campo único llamado `_id`.\n",
    "    * Actúa como el **identificador primario** del documento.\n",
    "    * Se utiliza para identificar y acceder a documentos de forma única.\n",
    "\n",
    "* **Valor por Defecto: `ObjectId`**\n",
    "    * Si no se especifica un valor para el campo `_id` al insertar un nuevo documento, MongoDB genera automáticamente un `ObjectId`.\n",
    "    * Los `ObjectId` son valores de 12 bytes que contienen:\n",
    "        * Un timestamp (4 bytes) representando el momento de la creación.\n",
    "        * Un identificador de máquina (5 bytes).\n",
    "        * Un ID de proceso (2 bytes).\n",
    "        * Un contador (3 bytes), inicializado aleatoriamente.\n",
    "    * Esta estructura asegura una alta probabilidad de unicidad incluso en entornos distribuidos.\n",
    "\n",
    "* **Uso de Otros Tipos para `_id` (Opcional):**\n",
    "    * Si es necesario, puedes especificar un valor diferente para el campo `_id` al insertar un documento (por ejemplo, un entero, una cadena).\n",
    "    * Sin embargo, es crucial asegurarse de que los valores de `_id` que elijas sean **únicos** dentro de la colección.\n",
    "    * El uso de `ObjectId` es la práctica recomendada en la mayoría de los casos debido a su unicidad garantizada y generación automática."
   ]
  },
  {
   "cell_type": "markdown",
   "metadata": {},
   "source": [
    "## Operaciones CRUD con Java"
   ]
  },
  {
   "cell_type": "markdown",
   "metadata": {},
   "source": [
    "### Conexión a MongoDB"
   ]
  },
  {
   "cell_type": "markdown",
   "metadata": {},
   "source": [
    "* **Importación de Clases Necesarias:** Primero, necesitas importar las clases relevantes del driver de MongoDB en tu archivo Java:"
   ]
  },
  {
   "cell_type": "code",
   "execution_count": null,
   "metadata": {
    "vscode": {
     "languageId": "java"
    }
   },
   "outputs": [],
   "source": [
    "import com.mongodb.client.MongoClient;\n",
    "import com.mongodb.client.MongoClients;\n",
    "import com.mongodb.client.MongoCollection;\n",
    "import com.mongodb.client.MongoDatabase;\n",
    "import org.bson.Document;\n",
    "import com.mongodb.client.model.Filters;\n",
    "import com.mongodb.client.model.Updates;\n",
    "import com.mongodb.client.result.InsertOneResult;\n",
    "import com.mongodb.client.result.InsertManyResult;\n",
    "import com.mongodb.client.FindIterable;\n",
    "import com.mongodb.client.MongoCursor;\n",
    "import com.mongodb.client.result.UpdateResult;\n",
    "import com.mongodb.client.result.DeleteResult;\n",
    "import java.util.Arrays;\n",
    "import java.util.List;"
   ]
  },
  {
   "cell_type": "markdown",
   "metadata": {},
   "source": [
    "* **Estableciendo la Conexión:** Para interactuar con MongoDB, necesitas crear una instancia de `MongoClient`."
   ]
  },
  {
   "cell_type": "code",
   "execution_count": null,
   "metadata": {
    "vscode": {
     "languageId": "java"
    }
   },
   "outputs": [],
   "source": [
    "String uri = \"mongodb://localhost:27017\"; // URI de conexión por defecto\n",
    "try (MongoClient mongoClient = MongoClients.create(uri)) {\n",
    "    // Aquí se realizarán las operaciones con la base de datos\n",
    "} catch (Exception e) {\n",
    "    System.err.println(\"Error al conectar a MongoDB: \" + e.getMessage());\n",
    "}"
   ]
  },
  {
   "cell_type": "markdown",
   "metadata": {},
   "source": [
    "*   * **_Explicación_:**\n",
    "        * `mongodb://localhost:27017`: Es la URI de conexión por defecto si tu servidor de MongoDB se está ejecutando localmente en el puerto 27017. Puedes modificar la URI si tu configuración es diferente (por ejemplo, para conectar a un servidor remoto o con autenticación).\n",
    "        * `MongoClients.create(uri)`: Crea una nueva instancia de `MongoClient` utilizando la URI proporcionada.\n",
    "        * `try (MongoClient ...)`: Utiliza un bloque try-with-resources para asegurar que la conexión al cliente se cierre automáticamente al finalizar el bloque."
   ]
  },
  {
   "cell_type": "markdown",
   "metadata": {},
   "source": [
    "* **Selección de una Base de Datos:** Una vez conectado, puedes seleccionar una base de datos específica:"
   ]
  },
  {
   "cell_type": "code",
   "execution_count": null,
   "metadata": {
    "vscode": {
     "languageId": "java"
    }
   },
   "outputs": [],
   "source": [
    "// Reemplaza \"mi_basededatos\" con el nombre de tu base de datos\n",
    "MongoDatabase database = mongoClient.getDatabase(\"mi_basededatos\"); "
   ]
  },
  {
   "cell_type": "markdown",
   "metadata": {},
   "source": [
    "* **Selección de una Colección:** Dentro de la base de datos, puedes seleccionar una colección para realizar operaciones:\n",
    "    * `<Document>`: Especifica que los documentos en esta colección serán representados como objetos de la clase `org.bson.Document`."
   ]
  },
  {
   "cell_type": "code",
   "execution_count": null,
   "metadata": {
    "vscode": {
     "languageId": "java"
    }
   },
   "outputs": [],
   "source": [
    "// Reemplaza \"mi_basededatos\" con el nombre de tu base de datos\n",
    "MongoCollection<Document> collection = database.getCollection(\"mi_coleccion\");"
   ]
  },
  {
   "cell_type": "markdown",
   "metadata": {},
   "source": [
    "### Crear (Insert)"
   ]
  },
  {
   "cell_type": "markdown",
   "metadata": {},
   "source": [
    "* **Insertar un Documento:** Utiliza el método `insertOne()` para insertar un solo documento."
   ]
  },
  {
   "cell_type": "code",
   "execution_count": null,
   "metadata": {
    "vscode": {
     "languageId": "java"
    }
   },
   "outputs": [],
   "source": [
    "Document nuevoDocumento = new Document(\"nombre\", \"Bob\")\n",
    "                                    .append(\"edad\", 25)\n",
    "                                    .append(\"ciudad\", \"Londres\");\n",
    "InsertOneResult result = collection.insertOne(nuevoDocumento);\n",
    "System.out.println(\"ID del documento insertado: \" + result.getInsertedId());"
   ]
  },
  {
   "cell_type": "markdown",
   "metadata": {},
   "source": [
    "*   * **_Explicación_:**\n",
    "        * `new Document(...)`: Crea una nueva instancia de `Document` y utiliza el método `append()` para agregar los campos y sus valores.\n",
    "        * `collection.insertOne(nuevoDocumento)`: Inserta el documento en la colección.\n",
    "        * `InsertOneResult`: Contiene información sobre el resultado de la operación de inserción, como el ID del documento insertado.\n",
    "\n",
    "* **Insertar Múltiples Documentos:** Utiliza el método `insertMany()` para insertar una lista de documentos."
   ]
  },
  {
   "cell_type": "code",
   "execution_count": null,
   "metadata": {
    "vscode": {
     "languageId": "java"
    }
   },
   "outputs": [],
   "source": [
    "List<Document> nuevosDocumentos = Arrays.asList(\n",
    "        new Document(\"nombre\", \"Charlie\").append(\"edad\", 35).append(\"ciudad\", \"París\"),\n",
    "        new Document(\"nombre\", \"David\").append(\"edad\", 28).append(\"ciudad\", \"Tokio\")\n",
    ");\n",
    "InsertManyResult resultMany = collection.insertMany(nuevosDocumentos);\n",
    "System.out.println(\"Cantidad de documentos insertados: \" + resultMany.getInsertedIds().size());"
   ]
  },
  {
   "cell_type": "markdown",
   "metadata": {},
   "source": [
    "*   * **Explicación:**\n",
    "        * `Arrays.asList(...)`: Crea una lista de objetos `Document`.\n",
    "        * `collection.insertMany(nuevosDocumentos)`: Inserta todos los documentos de la lista en la colección.\n",
    "        * `InsertManyResult`: Contiene información sobre el resultado de la inserción múltiple, incluyendo un mapa de los IDs de los documentos insertados."
   ]
  },
  {
   "cell_type": "markdown",
   "metadata": {},
   "source": [
    "### Leer (Read)"
   ]
  },
  {
   "cell_type": "markdown",
   "metadata": {},
   "source": [
    "* **Encontrar Todos los Documentos:** Utiliza el método `find()` sin argumentos para recuperar todos los documentos de la colección."
   ]
  },
  {
   "cell_type": "code",
   "execution_count": null,
   "metadata": {
    "vscode": {
     "languageId": "java"
    }
   },
   "outputs": [],
   "source": [
    "FindIterable<Document> resultados = collection.find();\n",
    "MongoCursor<Document> cursor = resultados.iterator();\n",
    "try {\n",
    "    while (cursor.hasNext()) {\n",
    "        System.out.println(cursor.next().toJson()); // Imprime el documento en formato JSON\n",
    "    }\n",
    "} finally {\n",
    "    cursor.close(); // Asegúrate de cerrar el cursor\n",
    "}"
   ]
  },
  {
   "cell_type": "markdown",
   "metadata": {},
   "source": [
    "*   * **_Explicación_:**\n",
    "        * `collection.find()`: Devuelve un `FindIterable`, que representa el resultado de la consulta.\n",
    "        * `resultados.iterator()`: Obtiene un `MongoCursor` para iterar sobre los documentos encontrados.\n",
    "        * `cursor.hasNext()`: Verifica si hay más documentos disponibles.\n",
    "        * `cursor.next()`: Obtiene el siguiente documento.\n",
    "        * `document.toJson()`: Convierte el objeto `Document` a su representación JSON para imprimirlo.\n",
    "        * `finally { cursor.close(); }`: Es importante cerrar el cursor para liberar recursos."
   ]
  },
  {
   "cell_type": "markdown",
   "metadata": {},
   "source": [
    "* **Encontrar Documentos con Filtros:** Utiliza el método `find()` con un objeto `Filters` para especificar los criterios de búsqueda."
   ]
  },
  {
   "cell_type": "code",
   "execution_count": null,
   "metadata": {
    "vscode": {
     "languageId": "java"
    }
   },
   "outputs": [],
   "source": [
    "Document documentoEncontrado = collection.find(Filters.eq(\"nombre\", \"Alice\")).first();\n",
    "if (documentoEncontrado != null) {\n",
    "    System.out.println(\"Documento encontrado: \" + documentoEncontrado.toJson());\n",
    "} else {\n",
    "    System.out.println(\"No se encontró ningún documento con nombre 'Alice'.\");\n",
    "}\n",
    "\n",
    "FindIterable<Document> personasMayoresDe25 = collection.find(Filters.gt(\"edad\", 25));\n",
    "MongoCursor<Document> cursorMayores = personasMayoresDe25.iterator();\n",
    "try {\n",
    "    while (cursorMayores.hasNext()) {\n",
    "        System.out.println(\"Persona mayor de 25: \" + cursorMayores.next().toJson());\n",
    "    }\n",
    "} finally {\n",
    "    cursorMayores.close();\n",
    "}"
   ]
  },
  {
   "cell_type": "markdown",
   "metadata": {},
   "source": [
    "*   * **_Explicación_:**\n",
    "        * `Filters.eq(\"nombre\", \"Alice\")`: Crea un filtro para encontrar documentos donde el campo \"nombre\" sea igual a \"Alice\".\n",
    "        * `Filters.gt(\"edad\", 25)`: Crea un filtro para encontrar documentos donde el campo \"edad\" sea mayor que 25.\n",
    "        * Otros operadores de filtro comunes incluyen: `$lt` (menor que), `$gte` (mayor o igual que), `$lte` (menor o igual que), `$ne` (no igual a), `$in` (valor dentro de un array), `$nin` (valor no dentro de un array), `$and`, `$or`, etc. Estos se representan en Java mediante los métodos estáticos de la clase `Filters`.\n",
    "        * `.first()`: Devuelve el primer documento que coincide con el filtro.\n",
    "        * Puedes combinar múltiples filtros utilizando `Filters.and()` y `Filters.or()`."
   ]
  },
  {
   "cell_type": "markdown",
   "metadata": {},
   "source": [
    "### Actualizar (Update)"
   ]
  },
  {
   "cell_type": "markdown",
   "metadata": {},
   "source": [
    "* **Actualizar un Documento:** Utiliza los métodos `updateOne()` o `updateMany()` junto con `Filters` para especificar qué documentos actualizar y `Updates` para definir las modificaciones."
   ]
  },
  {
   "cell_type": "code",
   "execution_count": null,
   "metadata": {
    "vscode": {
     "languageId": "java"
    }
   },
   "outputs": [],
   "source": [
    "// Actualizar la ciudad de la persona con nombre \"Bob\" a \"Berlin\"\n",
    "UpdateResult resultUpdateOne = collection.updateOne(Filters.eq(\"nombre\", \"Bob\"), Updates.set(\"ciudad\", \"Berlin\"));\n",
    "System.out.println(\"Documentos actualizados (uno): \" + resultUpdateOne.getModifiedCount());\n",
    "\n",
    "// Incrementar la edad de todas las personas en 1\n",
    "UpdateResult resultUpdateMany = collection.updateMany(Filters.empty(), Updates.inc(\"edad\", 1));\n",
    "System.out.println(\"Documentos actualizados (muchos): \" + resultUpdateMany.getModifiedCount());"
   ]
  },
  {
   "cell_type": "markdown",
   "metadata": {},
   "source": [
    "*   * **Explicación:**\n",
    "        * `Updates.set(\"ciudad\", \"Berlin\")`: Crea una actualización para establecer el valor del campo \"ciudad\" a \"Berlin\".\n",
    "        * `Updates.inc(\"edad\", 1)`: Crea una actualización para incrementar el valor del campo \"edad\" en 1.\n",
    "        * Otros operadores de actualización comunes incluyen: `$unset` (eliminar un campo), `$push` (añadir un elemento a un array), `$pull` (remover un elemento de un array), etc. Estos se representan en Java mediante los métodos estáticos de la clase `Updates`.\n",
    "        * `Filters.empty()`: Un filtro vacío que coincide con todos los documentos en la colección (para `updateMany()` en este caso).\n",
    "        * `UpdateResult`: Contiene información sobre el resultado de la operación de actualización, como el número de documentos modificados."
   ]
  },
  {
   "cell_type": "markdown",
   "metadata": {},
   "source": [
    "### Eliminar (Delete)"
   ]
  },
  {
   "cell_type": "markdown",
   "metadata": {},
   "source": [
    "* **Eliminar un Documento:** Utiliza los métodos `deleteOne()` o `deleteMany()` junto con `Filters` para especificar qué documentos eliminar."
   ]
  },
  {
   "cell_type": "code",
   "execution_count": null,
   "metadata": {
    "vscode": {
     "languageId": "java"
    }
   },
   "outputs": [],
   "source": [
    "// Eliminar el documento con nombre \"David\"\n",
    "DeleteResult resultDeleteOne = collection.deleteOne(Filters.eq(\"nombre\", \"David\"));\n",
    "System.out.println(\"Documentos eliminados (uno): \" + resultDeleteOne.getDeletedCount());\n",
    "\n",
    "// Eliminar todos los documentos con edad mayor o igual a 40\n",
    "DeleteResult resultDeleteMany = collection.deleteMany(Filters.gte(\"edad\", 40));\n",
    "System.out.println(\"Documentos eliminados (muchos): \" + resultDeleteMany.getDeletedCount());"
   ]
  },
  {
   "cell_type": "markdown",
   "metadata": {},
   "source": [
    "*   * **_Explicación_:**\n",
    "        * `Filters.eq(\"nombre\", \"David\")`: Crea un filtro para encontrar el documento donde el campo \"nombre\" sea igual a \"David\".\n",
    "        * `Filters.gte(\"edad\", 40)`: Crea un filtro para encontrar documentos donde el campo \"edad\" sea mayor o igual a 40.\n",
    "        * `DeleteResult`: Contiene información sobre el resultado de la operación de eliminación, como el número de documentos eliminados.\n",
    "\n",
    "**Nota Importante:** Recuerda manejar las posibles excepciones que puedan ocurrir durante las operaciones con la base de datos. Los ejemplos aquí son básicos para ilustrar los conceptos. En aplicaciones reales, se recomienda una mejor gestión de errores y recursos.\n",
    "\n",
    "Este contenido en Markdown proporciona una introducción práctica a las operaciones CRUD en MongoDB utilizando el driver de Java. Puedes complementarlo con ejemplos de código más completos en tu presentación. ¿Listo para el siguiente tema de ejercicios?"
   ]
  },
  {
   "cell_type": "markdown",
   "metadata": {},
   "source": [
    "## Ejercicios"
   ]
  },
  {
   "cell_type": "markdown",
   "metadata": {},
   "source": [
    "1.  Crea una nueva clase Java (por ejemplo, `EjercicioMongoDB`).\n",
    "2.  Dentro de la clase, establece la conexión a tu servidor de MongoDB y selecciona una base de datos (por ejemplo, \"ejercicios\") y una colección (por ejemplo, \"libros\"). Si la base de datos o la colección no existen, MongoDB las creará automáticamente al insertar el primer documento.\n",
    "3.  Implementa métodos para realizar las siguientes tareas:\n",
    "\n",
    "**Ejercicio 1: Insertar Documentos**\n",
    "\n",
    "* Crea un método que inserte los siguientes documentos en la colección \"libros\":"
   ]
  },
  {
   "cell_type": "code",
   "execution_count": null,
   "metadata": {
    "vscode": {
     "languageId": "json"
    }
   },
   "outputs": [],
   "source": [
    "[\n",
    "    { \"titulo\": \"El Señor de los Anillos\", \"autor\": \"J.R.R. Tolkien\", \"anio\": 1954, \"genero\": \"Fantasía\" },\n",
    "    { \"titulo\": \"Cien años de soledad\", \"autor\": \"Gabriel García Márquez\", \"anio\": 1967, \"genero\": \"Realismo Mágico\" },\n",
    "    { \"titulo\": \"1984\", \"autor\": \"George Orwell\", \"anio\": 1949, \"genero\": \"Ciencia Ficción\" },\n",
    "    { \"titulo\": \"Orgullo y prejuicio\", \"autor\": \"Jane Austen\", \"anio\": 1813, \"genero\": \"Romance\" }\n",
    "]"
   ]
  },
  {
   "cell_type": "markdown",
   "metadata": {},
   "source": [
    "* Muestra en la consola la cantidad de libros insertados.\n",
    "\n",
    "**Ejercicio 2: Consultar Documentos**\n",
    "\n",
    "* Crea un método que encuentre y muestre en la consola todos los libros de la colección.\n",
    "* Crea un método que encuentre y muestre en la consola los libros del género \"Fantasía\".\n",
    "* Crea un método que encuentre y muestre en la consola los libros publicados después del año 1950.\n",
    "* Crea un método que encuentre y muestre en la consola el libro con el título \"Cien años de soledad\".\n",
    "\n",
    "**Ejercicio 3: Actualizar Documentos**\n",
    "\n",
    "* Crea un método que actualice el año de publicación del libro \"El Señor de los Anillos\" a 1955. Muestra en la consola la cantidad de documentos modificados.\n",
    "* Crea un método que añada un nuevo campo \"idioma\" con el valor \"Inglés\" a todos los libros de Jane Austen. Muestra en la consola la cantidad de documentos modificados.\n",
    "\n",
    "**Ejercicio 4: Eliminar Documentos**\n",
    "\n",
    "* Crea un método que elimine el libro con el título \"1984\". Muestra en la consola la cantidad de documentos eliminados.\n",
    "* Crea un método que elimine todos los libros publicados antes del año 1900. Muestra en la consola la cantidad de documentos eliminados.\n",
    "\n",
    "**Pistas:**\n",
    "\n",
    "* Utiliza las clases `MongoClient`, `MongoDatabase`, `MongoCollection` y `Document` del driver de MongoDB para Java.\n",
    "* Para insertar múltiples documentos, utiliza `insertMany()`.\n",
    "* Para consultas, utiliza `find()` y `Filters`. Recuerda iterar sobre el `MongoCursor` para acceder a los resultados.\n",
    "* Para actualizaciones, utiliza `updateOne()` o `updateMany()` junto con `Filters` y `Updates`.\n",
    "* Para eliminaciones, utiliza `deleteOne()` o `deleteMany()` junto con `Filters`.\n",
    "* No olvides cerrar el `MongoClient` al finalizar.\n",
    "* Puedes crear métodos separados para cada ejercicio para mantener el código organizado.\n",
    "* Imprime mensajes informativos en la consola para verificar los resultados de cada operación."
   ]
  }
 ],
 "metadata": {
  "language_info": {
   "name": "python"
  }
 },
 "nbformat": 4,
 "nbformat_minor": 2
}
